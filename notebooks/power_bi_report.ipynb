{
 "cells": [
  {
   "cell_type": "code",
   "execution_count": 1,
   "id": "c0bc8335-4f1a-4efe-8840-9804f87331d4",
   "metadata": {},
   "outputs": [],
   "source": [
    "from IPython.display import Image, display"
   ]
  },
  {
   "cell_type": "markdown",
   "id": "73f76e8b-342f-45fe-9561-4155d09f6f0c",
   "metadata": {},
   "source": [
    "# Project Overview: Data Normalization for Power BI Modeling\n",
    "In this notebook, we shall explore the report created in Power BI, along with some insights . Having normalised the tables in the previous notebook, we imported these files into Power BI."
   ]
  },
  {
   "cell_type": "markdown",
   "id": "03700da8-7a1a-4b76-a263-c6de394fb880",
   "metadata": {},
   "source": [
    "The"
   ]
  }
 ],
 "metadata": {
  "kernelspec": {
   "display_name": "Python 3 (ipykernel)",
   "language": "python",
   "name": "python3"
  },
  "language_info": {
   "codemirror_mode": {
    "name": "ipython",
    "version": 3
   },
   "file_extension": ".py",
   "mimetype": "text/x-python",
   "name": "python",
   "nbconvert_exporter": "python",
   "pygments_lexer": "ipython3",
   "version": "3.12.9"
  }
 },
 "nbformat": 4,
 "nbformat_minor": 5
}
