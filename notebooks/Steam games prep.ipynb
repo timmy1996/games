{
 "cells": [
  {
   "cell_type": "markdown",
   "id": "feb3c0a9-c827-4bab-814c-97c2fbc0568f",
   "metadata": {},
   "source": [
    "## Notebook 1: Data Cleaning Summary\n",
    "In this notebook, we focus on the initial cleaning and validation of the raw Steam dataset to prepare it for modeling and analysis. The dataset includes game metadata, pricing, reviews, achievements, and other attributes collected from the Steam platform.\n",
    "\n",
    "The hope is that the cleaned dataset serves as a reliable foundation for downstream modeling. It should eliminate structural issues that could affect joins, aggregations, and filtering during Power BI reporting. The output of this notebook will be used as input for the normalization process that follows.\n",
    "\n"
   ]
  },
  {
   "cell_type": "code",
   "execution_count": 545,
   "id": "432dc865-b0be-4b3e-a2d3-3fe43b82513a",
   "metadata": {},
   "outputs": [],
   "source": [
    "import pandas as pd\n",
    "import numpy as np\n",
    "import sys\n",
    "import ast\n",
    "import os\n",
    "sys.path.append(os.path.abspath(\"..\"))\n",
    "from utils.data_utils import miss_val_per"
   ]
  },
  {
   "cell_type": "code",
   "execution_count": 546,
   "id": "c1411a37-fbea-42ea-a4d0-e7fca2159f28",
   "metadata": {},
   "outputs": [],
   "source": [
    "gamesdf = pd.read_csv(\"../steam/games.csv\")"
   ]
  },
  {
   "cell_type": "code",
   "execution_count": 547,
   "id": "e6ff92d4-7e98-4555-b97e-5f580184913e",
   "metadata": {},
   "outputs": [],
   "source": [
    "games = gamesdf.copy()"
   ]
  },
  {
   "cell_type": "code",
   "execution_count": 607,
   "id": "974aa259-095f-4095-bb80-5fa5c2c05ba9",
   "metadata": {},
   "outputs": [
    {
     "data": {
      "text/plain": [
       "98248"
      ]
     },
     "execution_count": 607,
     "metadata": {},
     "output_type": "execute_result"
    }
   ],
   "source": [
    "gamesdf['gameid'].nunique()"
   ]
  },
  {
   "cell_type": "code",
   "execution_count": 549,
   "id": "f0b88581-c0ba-42fe-bb1c-2a107df2c04a",
   "metadata": {},
   "outputs": [],
   "source": [
    "#games.head(5)"
   ]
  },
  {
   "cell_type": "code",
   "execution_count": 550,
   "id": "95609d74-363c-48b7-9649-846ae75788c3",
   "metadata": {},
   "outputs": [],
   "source": [
    "#games.info()"
   ]
  },
  {
   "cell_type": "markdown",
   "id": "1eb64aad-6e68-46b3-aad7-f9833f790afd",
   "metadata": {},
   "source": [
    "There are 98248 observtaions. Before dealing with other null values, since I'll be interested in variables like prices, genres, developers. Most 'playstests' don't include these. So I will remove all 'playstest' games. From below, there are 5280 of them, about 5% of the dataset."
   ]
  },
  {
   "cell_type": "code",
   "execution_count": 551,
   "id": "8be1df19-0b3b-4720-90ab-d12a44e43154",
   "metadata": {},
   "outputs": [
    {
     "name": "stdout",
     "output_type": "stream",
     "text": [
      "Number of playtest games: 5280\n",
      "Percentage of playtest games:  5.37%\n"
     ]
    }
   ],
   "source": [
    "playtest_num = games['title'].astype(str).str.contains('Playtest').sum()\n",
    "playtest_perc = (playtest_num / len(games) ) * 100\n",
    "print(f'Number of playtest games: {playtest_num}')\n",
    "print(f'Percentage of playtest games: {playtest_perc: .2f}%')\n"
   ]
  },
  {
   "cell_type": "code",
   "execution_count": 552,
   "id": "21fcb379-c9b6-4aa9-bbba-0db979155d8b",
   "metadata": {},
   "outputs": [
    {
     "data": {
      "text/html": [
       "<div>\n",
       "<style scoped>\n",
       "    .dataframe tbody tr th:only-of-type {\n",
       "        vertical-align: middle;\n",
       "    }\n",
       "\n",
       "    .dataframe tbody tr th {\n",
       "        vertical-align: top;\n",
       "    }\n",
       "\n",
       "    .dataframe thead th {\n",
       "        text-align: right;\n",
       "    }\n",
       "</style>\n",
       "<table border=\"1\" class=\"dataframe\">\n",
       "  <thead>\n",
       "    <tr style=\"text-align: right;\">\n",
       "      <th></th>\n",
       "      <th>gameid</th>\n",
       "      <th>title</th>\n",
       "      <th>developers</th>\n",
       "      <th>publishers</th>\n",
       "      <th>genres</th>\n",
       "      <th>supported_languages</th>\n",
       "      <th>release_date</th>\n",
       "    </tr>\n",
       "  </thead>\n",
       "  <tbody>\n",
       "    <tr>\n",
       "      <th>0</th>\n",
       "      <td>3281560</td>\n",
       "      <td>Horror Game To Play With Friends! Playtest</td>\n",
       "      <td>NaN</td>\n",
       "      <td>NaN</td>\n",
       "      <td>NaN</td>\n",
       "      <td>NaN</td>\n",
       "      <td>2024-10-21</td>\n",
       "    </tr>\n",
       "    <tr>\n",
       "      <th>1</th>\n",
       "      <td>3280930</td>\n",
       "      <td>Eternals' Path Playtest</td>\n",
       "      <td>NaN</td>\n",
       "      <td>NaN</td>\n",
       "      <td>NaN</td>\n",
       "      <td>NaN</td>\n",
       "      <td>2024-10-17</td>\n",
       "    </tr>\n",
       "    <tr>\n",
       "      <th>2</th>\n",
       "      <td>3280770</td>\n",
       "      <td>ANGST: A TALE OF SURVIVAL - Singleplayer Playtest</td>\n",
       "      <td>NaN</td>\n",
       "      <td>NaN</td>\n",
       "      <td>NaN</td>\n",
       "      <td>NaN</td>\n",
       "      <td>2024-10-13</td>\n",
       "    </tr>\n",
       "    <tr>\n",
       "      <th>3</th>\n",
       "      <td>3279790</td>\n",
       "      <td>Montabi Playtest</td>\n",
       "      <td>NaN</td>\n",
       "      <td>NaN</td>\n",
       "      <td>NaN</td>\n",
       "      <td>NaN</td>\n",
       "      <td>2024-10-13</td>\n",
       "    </tr>\n",
       "    <tr>\n",
       "      <th>4</th>\n",
       "      <td>3278320</td>\n",
       "      <td>파이팅걸 유리 Playtest</td>\n",
       "      <td>NaN</td>\n",
       "      <td>NaN</td>\n",
       "      <td>NaN</td>\n",
       "      <td>NaN</td>\n",
       "      <td>2024-10-12</td>\n",
       "    </tr>\n",
       "  </tbody>\n",
       "</table>\n",
       "</div>"
      ],
      "text/plain": [
       "    gameid                                              title developers  \\\n",
       "0  3281560         Horror Game To Play With Friends! Playtest        NaN   \n",
       "1  3280930                            Eternals' Path Playtest        NaN   \n",
       "2  3280770  ANGST: A TALE OF SURVIVAL - Singleplayer Playtest        NaN   \n",
       "3  3279790                                   Montabi Playtest        NaN   \n",
       "4  3278320                                   파이팅걸 유리 Playtest        NaN   \n",
       "\n",
       "  publishers genres supported_languages release_date  \n",
       "0        NaN    NaN                 NaN   2024-10-21  \n",
       "1        NaN    NaN                 NaN   2024-10-17  \n",
       "2        NaN    NaN                 NaN   2024-10-13  \n",
       "3        NaN    NaN                 NaN   2024-10-13  \n",
       "4        NaN    NaN                 NaN   2024-10-12  "
      ]
     },
     "execution_count": 552,
     "metadata": {},
     "output_type": "execute_result"
    }
   ],
   "source": [
    "# View them just to see if its the expected output.\n",
    "playtest_games = games[games['title'].astype(str).str.contains('Playtest')] \n",
    "playtest_games.head(5)"
   ]
  },
  {
   "cell_type": "code",
   "execution_count": 553,
   "id": "8b2601f6-3077-450c-8c8c-7bece0374134",
   "metadata": {},
   "outputs": [],
   "source": [
    "games = games[~games['title'].astype(str).str.contains('Playtest')] "
   ]
  },
  {
   "cell_type": "code",
   "execution_count": 554,
   "id": "8b4ff40e-cd2c-4e06-9a13-3f97b8da5067",
   "metadata": {},
   "outputs": [
    {
     "name": "stdout",
     "output_type": "stream",
     "text": [
      "<class 'pandas.core.frame.DataFrame'>\n",
      "Index: 92968 entries, 5 to 98247\n",
      "Data columns (total 7 columns):\n",
      " #   Column               Non-Null Count  Dtype \n",
      "---  ------               --------------  ----- \n",
      " 0   gameid               92968 non-null  int64 \n",
      " 1   title                92965 non-null  object\n",
      " 2   developers           92682 non-null  object\n",
      " 3   publishers           92303 non-null  object\n",
      " 4   genres               92692 non-null  object\n",
      " 5   supported_languages  92735 non-null  object\n",
      " 6   release_date         92968 non-null  object\n",
      "dtypes: int64(1), object(6)\n",
      "memory usage: 5.7+ MB\n"
     ]
    }
   ],
   "source": [
    "games.info()"
   ]
  },
  {
   "cell_type": "markdown",
   "id": "0b73de71-6c39-447a-8fa7-2dc56c13ee0d",
   "metadata": {},
   "source": [
    "Now exploring missing data in general after removing playstests. Table below indicates that the columns have <1% missing values. "
   ]
  },
  {
   "cell_type": "code",
   "execution_count": 555,
   "id": "d0ca1226-f9ba-408b-b2e8-9d03847bd510",
   "metadata": {},
   "outputs": [
    {
     "data": {
      "text/html": [
       "<div>\n",
       "<style scoped>\n",
       "    .dataframe tbody tr th:only-of-type {\n",
       "        vertical-align: middle;\n",
       "    }\n",
       "\n",
       "    .dataframe tbody tr th {\n",
       "        vertical-align: top;\n",
       "    }\n",
       "\n",
       "    .dataframe thead th {\n",
       "        text-align: right;\n",
       "    }\n",
       "</style>\n",
       "<table border=\"1\" class=\"dataframe\">\n",
       "  <thead>\n",
       "    <tr style=\"text-align: right;\">\n",
       "      <th></th>\n",
       "      <th>Number of Missing Values</th>\n",
       "      <th>Percent of Total Values</th>\n",
       "    </tr>\n",
       "  </thead>\n",
       "  <tbody>\n",
       "    <tr>\n",
       "      <th>publishers</th>\n",
       "      <td>665</td>\n",
       "      <td>0.72</td>\n",
       "    </tr>\n",
       "    <tr>\n",
       "      <th>developers</th>\n",
       "      <td>286</td>\n",
       "      <td>0.31</td>\n",
       "    </tr>\n",
       "    <tr>\n",
       "      <th>genres</th>\n",
       "      <td>276</td>\n",
       "      <td>0.30</td>\n",
       "    </tr>\n",
       "    <tr>\n",
       "      <th>supported_languages</th>\n",
       "      <td>233</td>\n",
       "      <td>0.25</td>\n",
       "    </tr>\n",
       "    <tr>\n",
       "      <th>gameid</th>\n",
       "      <td>0</td>\n",
       "      <td>0.00</td>\n",
       "    </tr>\n",
       "    <tr>\n",
       "      <th>title</th>\n",
       "      <td>3</td>\n",
       "      <td>0.00</td>\n",
       "    </tr>\n",
       "    <tr>\n",
       "      <th>release_date</th>\n",
       "      <td>0</td>\n",
       "      <td>0.00</td>\n",
       "    </tr>\n",
       "  </tbody>\n",
       "</table>\n",
       "</div>"
      ],
      "text/plain": [
       "                     Number of Missing Values  Percent of Total Values\n",
       "publishers                                665                     0.72\n",
       "developers                                286                     0.31\n",
       "genres                                    276                     0.30\n",
       "supported_languages                       233                     0.25\n",
       "gameid                                      0                     0.00\n",
       "title                                       3                     0.00\n",
       "release_date                                0                     0.00"
      ]
     },
     "execution_count": 555,
     "metadata": {},
     "output_type": "execute_result"
    }
   ],
   "source": [
    "miss_per_col  = miss_val_per(games)\n",
    "miss_per_col"
   ]
  },
  {
   "cell_type": "markdown",
   "id": "f191f9ff-ec01-464b-acec-f868f6f8b937",
   "metadata": {},
   "source": [
    "We also drop the games with no title. From the output below, these also have mo developers and publishers."
   ]
  },
  {
   "cell_type": "code",
   "execution_count": 556,
   "id": "39e27236-1a14-4ce7-9446-37dc08c158b1",
   "metadata": {},
   "outputs": [
    {
     "data": {
      "text/html": [
       "<div>\n",
       "<style scoped>\n",
       "    .dataframe tbody tr th:only-of-type {\n",
       "        vertical-align: middle;\n",
       "    }\n",
       "\n",
       "    .dataframe tbody tr th {\n",
       "        vertical-align: top;\n",
       "    }\n",
       "\n",
       "    .dataframe thead th {\n",
       "        text-align: right;\n",
       "    }\n",
       "</style>\n",
       "<table border=\"1\" class=\"dataframe\">\n",
       "  <thead>\n",
       "    <tr style=\"text-align: right;\">\n",
       "      <th></th>\n",
       "      <th>gameid</th>\n",
       "      <th>title</th>\n",
       "      <th>developers</th>\n",
       "      <th>publishers</th>\n",
       "      <th>genres</th>\n",
       "      <th>supported_languages</th>\n",
       "      <th>release_date</th>\n",
       "    </tr>\n",
       "  </thead>\n",
       "  <tbody>\n",
       "    <tr>\n",
       "      <th>2853</th>\n",
       "      <td>1347240</td>\n",
       "      <td>NaN</td>\n",
       "      <td>NaN</td>\n",
       "      <td>NaN</td>\n",
       "      <td>NaN</td>\n",
       "      <td>['English']</td>\n",
       "      <td>2021-04-20</td>\n",
       "    </tr>\n",
       "    <tr>\n",
       "      <th>39705</th>\n",
       "      <td>1116910</td>\n",
       "      <td>NaN</td>\n",
       "      <td>NaN</td>\n",
       "      <td>NaN</td>\n",
       "      <td>['Action', 'Adventure', 'Casual', 'Indie', 'RP...</td>\n",
       "      <td>NaN</td>\n",
       "      <td>2019-09-25</td>\n",
       "    </tr>\n",
       "    <tr>\n",
       "      <th>77700</th>\n",
       "      <td>396420</td>\n",
       "      <td>NaN</td>\n",
       "      <td>NaN</td>\n",
       "      <td>NaN</td>\n",
       "      <td>NaN</td>\n",
       "      <td>NaN</td>\n",
       "      <td>2016-11-01</td>\n",
       "    </tr>\n",
       "  </tbody>\n",
       "</table>\n",
       "</div>"
      ],
      "text/plain": [
       "        gameid title developers publishers  \\\n",
       "2853   1347240   NaN        NaN        NaN   \n",
       "39705  1116910   NaN        NaN        NaN   \n",
       "77700   396420   NaN        NaN        NaN   \n",
       "\n",
       "                                                  genres supported_languages  \\\n",
       "2853                                                 NaN         ['English']   \n",
       "39705  ['Action', 'Adventure', 'Casual', 'Indie', 'RP...                 NaN   \n",
       "77700                                                NaN                 NaN   \n",
       "\n",
       "      release_date  \n",
       "2853    2021-04-20  \n",
       "39705   2019-09-25  \n",
       "77700   2016-11-01  "
      ]
     },
     "execution_count": 556,
     "metadata": {},
     "output_type": "execute_result"
    }
   ],
   "source": [
    "no_title_games = games[games['title'].isna()]\n",
    "no_title_games\n",
    "games = games[~games['title'].isna()]\n",
    "no_title_games"
   ]
  },
  {
   "cell_type": "markdown",
   "id": "e8ea43c6-9d84-4813-ad63-4a661500d72e",
   "metadata": {},
   "source": [
    "For  developers, publishers, genres and supported_languages we shall place the null values with \"None stated\" to avoid losing more data."
   ]
  },
  {
   "cell_type": "code",
   "execution_count": 557,
   "id": "5d0a81c3-4469-4149-b1f1-226d1ee69e57",
   "metadata": {},
   "outputs": [
    {
     "data": {
      "text/html": [
       "<div>\n",
       "<style scoped>\n",
       "    .dataframe tbody tr th:only-of-type {\n",
       "        vertical-align: middle;\n",
       "    }\n",
       "\n",
       "    .dataframe tbody tr th {\n",
       "        vertical-align: top;\n",
       "    }\n",
       "\n",
       "    .dataframe thead th {\n",
       "        text-align: right;\n",
       "    }\n",
       "</style>\n",
       "<table border=\"1\" class=\"dataframe\">\n",
       "  <thead>\n",
       "    <tr style=\"text-align: right;\">\n",
       "      <th></th>\n",
       "      <th>Number of Missing Values</th>\n",
       "      <th>Percent of Total Values</th>\n",
       "    </tr>\n",
       "  </thead>\n",
       "  <tbody>\n",
       "    <tr>\n",
       "      <th>publishers</th>\n",
       "      <td>662</td>\n",
       "      <td>0.71</td>\n",
       "    </tr>\n",
       "    <tr>\n",
       "      <th>developers</th>\n",
       "      <td>283</td>\n",
       "      <td>0.30</td>\n",
       "    </tr>\n",
       "    <tr>\n",
       "      <th>genres</th>\n",
       "      <td>274</td>\n",
       "      <td>0.29</td>\n",
       "    </tr>\n",
       "    <tr>\n",
       "      <th>supported_languages</th>\n",
       "      <td>231</td>\n",
       "      <td>0.25</td>\n",
       "    </tr>\n",
       "    <tr>\n",
       "      <th>gameid</th>\n",
       "      <td>0</td>\n",
       "      <td>0.00</td>\n",
       "    </tr>\n",
       "    <tr>\n",
       "      <th>title</th>\n",
       "      <td>0</td>\n",
       "      <td>0.00</td>\n",
       "    </tr>\n",
       "    <tr>\n",
       "      <th>release_date</th>\n",
       "      <td>0</td>\n",
       "      <td>0.00</td>\n",
       "    </tr>\n",
       "  </tbody>\n",
       "</table>\n",
       "</div>"
      ],
      "text/plain": [
       "                     Number of Missing Values  Percent of Total Values\n",
       "publishers                                662                     0.71\n",
       "developers                                283                     0.30\n",
       "genres                                    274                     0.29\n",
       "supported_languages                       231                     0.25\n",
       "gameid                                      0                     0.00\n",
       "title                                       0                     0.00\n",
       "release_date                                0                     0.00"
      ]
     },
     "execution_count": 557,
     "metadata": {},
     "output_type": "execute_result"
    }
   ],
   "source": [
    "miss_per_col  = miss_val_per(games)\n",
    "miss_per_col"
   ]
  },
  {
   "cell_type": "code",
   "execution_count": 558,
   "id": "e20de1f6-a71a-43c0-9252-f23fce8a28b2",
   "metadata": {},
   "outputs": [],
   "source": [
    "miss_vals_col = list(miss_per_col[(miss_per_col['Number of Missing Values'] > 0)].index)\n",
    "for col in miss_vals_col:\n",
    "    games[col] = games[col].apply(lambda x: ['None stated'] if pd.isna(x) else x)\n"
   ]
  },
  {
   "cell_type": "code",
   "execution_count": 559,
   "id": "8807694b-96a2-4b33-afe7-441aa9716d4f",
   "metadata": {},
   "outputs": [
    {
     "data": {
      "text/html": [
       "<div>\n",
       "<style scoped>\n",
       "    .dataframe tbody tr th:only-of-type {\n",
       "        vertical-align: middle;\n",
       "    }\n",
       "\n",
       "    .dataframe tbody tr th {\n",
       "        vertical-align: top;\n",
       "    }\n",
       "\n",
       "    .dataframe thead th {\n",
       "        text-align: right;\n",
       "    }\n",
       "</style>\n",
       "<table border=\"1\" class=\"dataframe\">\n",
       "  <thead>\n",
       "    <tr style=\"text-align: right;\">\n",
       "      <th></th>\n",
       "      <th>Number of Missing Values</th>\n",
       "      <th>Percent of Total Values</th>\n",
       "    </tr>\n",
       "  </thead>\n",
       "  <tbody>\n",
       "    <tr>\n",
       "      <th>gameid</th>\n",
       "      <td>0</td>\n",
       "      <td>0.0</td>\n",
       "    </tr>\n",
       "    <tr>\n",
       "      <th>title</th>\n",
       "      <td>0</td>\n",
       "      <td>0.0</td>\n",
       "    </tr>\n",
       "    <tr>\n",
       "      <th>developers</th>\n",
       "      <td>0</td>\n",
       "      <td>0.0</td>\n",
       "    </tr>\n",
       "    <tr>\n",
       "      <th>publishers</th>\n",
       "      <td>0</td>\n",
       "      <td>0.0</td>\n",
       "    </tr>\n",
       "    <tr>\n",
       "      <th>genres</th>\n",
       "      <td>0</td>\n",
       "      <td>0.0</td>\n",
       "    </tr>\n",
       "    <tr>\n",
       "      <th>supported_languages</th>\n",
       "      <td>0</td>\n",
       "      <td>0.0</td>\n",
       "    </tr>\n",
       "    <tr>\n",
       "      <th>release_date</th>\n",
       "      <td>0</td>\n",
       "      <td>0.0</td>\n",
       "    </tr>\n",
       "  </tbody>\n",
       "</table>\n",
       "</div>"
      ],
      "text/plain": [
       "                     Number of Missing Values  Percent of Total Values\n",
       "gameid                                      0                      0.0\n",
       "title                                       0                      0.0\n",
       "developers                                  0                      0.0\n",
       "publishers                                  0                      0.0\n",
       "genres                                      0                      0.0\n",
       "supported_languages                         0                      0.0\n",
       "release_date                                0                      0.0"
      ]
     },
     "execution_count": 559,
     "metadata": {},
     "output_type": "execute_result"
    }
   ],
   "source": [
    "miss_per_col  = miss_val_per(games)\n",
    "miss_per_col"
   ]
  },
  {
   "cell_type": "code",
   "execution_count": 560,
   "id": "fa2f6009-4cba-4632-ae98-d2eb58cb27d1",
   "metadata": {},
   "outputs": [
    {
     "name": "stdout",
     "output_type": "stream",
     "text": [
      "<class 'pandas.core.frame.DataFrame'>\n",
      "Index: 92965 entries, 5 to 98247\n",
      "Data columns (total 7 columns):\n",
      " #   Column               Non-Null Count  Dtype \n",
      "---  ------               --------------  ----- \n",
      " 0   gameid               92965 non-null  int64 \n",
      " 1   title                92965 non-null  object\n",
      " 2   developers           92965 non-null  object\n",
      " 3   publishers           92965 non-null  object\n",
      " 4   genres               92965 non-null  object\n",
      " 5   supported_languages  92965 non-null  object\n",
      " 6   release_date         92965 non-null  object\n",
      "dtypes: int64(1), object(6)\n",
      "memory usage: 5.7+ MB\n"
     ]
    }
   ],
   "source": [
    "games.info()"
   ]
  },
  {
   "cell_type": "markdown",
   "id": "1c52384e-07e1-4cd8-a341-51f4ae1c5162",
   "metadata": {},
   "source": [
    "Working with prices now."
   ]
  },
  {
   "cell_type": "code",
   "execution_count": 561,
   "id": "0aec0865-38ab-4b9e-97e9-600e0f214479",
   "metadata": {},
   "outputs": [],
   "source": [
    "pricesdf = pd.read_csv('../steam/prices.csv')"
   ]
  },
  {
   "cell_type": "code",
   "execution_count": 573,
   "id": "f11f1519-4f3d-4bdd-b19e-eb843c2f25d2",
   "metadata": {},
   "outputs": [],
   "source": [
    "prices = pricesdf.copy()"
   ]
  },
  {
   "cell_type": "markdown",
   "id": "2db0ba32-0250-48f7-933d-cd2fa6005ebd",
   "metadata": {},
   "source": [
    "Based on the info below, the prices table has 4414273 rows. The table has prices in different currencies (usd, eur etc), on different dates (date_acquired) for the games. Notably each game's price can be 'acquired' on different days, hence there could be multiple entries for each game. The \n",
    "(original) games table had 98248 unique gameids, the prices table has 98465. So there are about 217 games with a price but no game information (in the original games table). We will use the original games table to weed out these games since we will have no information about them.\n",
    "\n",
    "We will first check the 'playtest' games in the prices (using the game_id) to see if these have prices (they probably shouldn't) then remove these, so we have a leaner dataframe more in line with the cleaned games table."
   ]
  },
  {
   "cell_type": "code",
   "execution_count": 563,
   "id": "9b5ca764-b88e-45ea-9ffe-c698b7d8071b",
   "metadata": {},
   "outputs": [],
   "source": [
    "#prices.head(3)"
   ]
  },
  {
   "cell_type": "code",
   "execution_count": 574,
   "id": "6e864f65-3379-4979-a19c-e841b7820648",
   "metadata": {},
   "outputs": [
    {
     "name": "stdout",
     "output_type": "stream",
     "text": [
      "Number of unique game ids in prices: 98465\n",
      "Number of unique game ids in original games: 98248\n"
     ]
    }
   ],
   "source": [
    "uniq_ids_prices = prices['gameid'].nunique()\n",
    "uniq_ids_original_games = gamesdf['gameid'].nunique()\n",
    "print(f'Number of unique game ids in prices: {uniq_ids_prices}')\n",
    "print(f'Number of unique game ids in original games: {uniq_ids_original_games}')"
   ]
  },
  {
   "cell_type": "markdown",
   "id": "446d029b-9f0c-4475-a777-357875f49b27",
   "metadata": {},
   "source": [
    "Below we see prices for which the game ids are not in the original games table and there are 217 such games. We remove these prices since we will not be able to get information for the corresponding game. "
   ]
  },
  {
   "cell_type": "code",
   "execution_count": 575,
   "id": "aeba0c3b-c334-4b85-b25f-7675c0595c34",
   "metadata": {},
   "outputs": [
    {
     "name": "stdout",
     "output_type": "stream",
     "text": [
      "Number of games in prices table that do not appear in original games table: 217\n"
     ]
    },
    {
     "data": {
      "text/html": [
       "<div>\n",
       "<style scoped>\n",
       "    .dataframe tbody tr th:only-of-type {\n",
       "        vertical-align: middle;\n",
       "    }\n",
       "\n",
       "    .dataframe tbody tr th {\n",
       "        vertical-align: top;\n",
       "    }\n",
       "\n",
       "    .dataframe thead th {\n",
       "        text-align: right;\n",
       "    }\n",
       "</style>\n",
       "<table border=\"1\" class=\"dataframe\">\n",
       "  <thead>\n",
       "    <tr style=\"text-align: right;\">\n",
       "      <th></th>\n",
       "      <th>gameid</th>\n",
       "      <th>usd</th>\n",
       "      <th>eur</th>\n",
       "      <th>gbp</th>\n",
       "      <th>jpy</th>\n",
       "      <th>rub</th>\n",
       "      <th>date_acquired</th>\n",
       "    </tr>\n",
       "  </thead>\n",
       "  <tbody>\n",
       "    <tr>\n",
       "      <th>361</th>\n",
       "      <td>1423450</td>\n",
       "      <td>9.99</td>\n",
       "      <td>9.75</td>\n",
       "      <td>8.50</td>\n",
       "      <td>1200.0</td>\n",
       "      <td>385.0</td>\n",
       "      <td>2024-11-28</td>\n",
       "    </tr>\n",
       "    <tr>\n",
       "      <th>1816</th>\n",
       "      <td>1378820</td>\n",
       "      <td>0.99</td>\n",
       "      <td>0.99</td>\n",
       "      <td>0.84</td>\n",
       "      <td>117.0</td>\n",
       "      <td>41.0</td>\n",
       "      <td>2024-11-28</td>\n",
       "    </tr>\n",
       "    <tr>\n",
       "      <th>2447</th>\n",
       "      <td>1360760</td>\n",
       "      <td>0.99</td>\n",
       "      <td>0.79</td>\n",
       "      <td>0.79</td>\n",
       "      <td>100.0</td>\n",
       "      <td>30.0</td>\n",
       "      <td>2024-11-28</td>\n",
       "    </tr>\n",
       "    <tr>\n",
       "      <th>2622</th>\n",
       "      <td>1355020</td>\n",
       "      <td>6.99</td>\n",
       "      <td>5.69</td>\n",
       "      <td>5.19</td>\n",
       "      <td>720.0</td>\n",
       "      <td>175.0</td>\n",
       "      <td>2024-11-28</td>\n",
       "    </tr>\n",
       "    <tr>\n",
       "      <th>2959</th>\n",
       "      <td>1344430</td>\n",
       "      <td>0.55</td>\n",
       "      <td>0.55</td>\n",
       "      <td>0.47</td>\n",
       "      <td>65.0</td>\n",
       "      <td>22.0</td>\n",
       "      <td>2024-11-28</td>\n",
       "    </tr>\n",
       "  </tbody>\n",
       "</table>\n",
       "</div>"
      ],
      "text/plain": [
       "       gameid   usd   eur   gbp     jpy    rub date_acquired\n",
       "361   1423450  9.99  9.75  8.50  1200.0  385.0    2024-11-28\n",
       "1816  1378820  0.99  0.99  0.84   117.0   41.0    2024-11-28\n",
       "2447  1360760  0.99  0.79  0.79   100.0   30.0    2024-11-28\n",
       "2622  1355020  6.99  5.69  5.19   720.0  175.0    2024-11-28\n",
       "2959  1344430  0.55  0.55  0.47    65.0   22.0    2024-11-28"
      ]
     },
     "execution_count": 575,
     "metadata": {},
     "output_type": "execute_result"
    }
   ],
   "source": [
    "prices_ids = set(prices['gameid'])\n",
    "games_ids = set(gamesdf['gameid'])\n",
    "# IDs in reviews that don't exist in games\n",
    "price_id_not_in_games = prices_ids - games_ids\n",
    "print(\"Number of games in prices table that do not appear in original games table:\", len(price_id_not_in_games))  \n",
    "gameid_not_in_games = prices[prices['gameid'].isin(list(price_id_not_in_games))]\n",
    "prices = prices[prices['gameid'].isin(gamesdf['gameid'])] #remove these games\n",
    "gameid_not_in_games.head()\n"
   ]
  },
  {
   "cell_type": "code",
   "execution_count": 571,
   "id": "f261435a-41a4-4ba9-88ad-5f95c9d029c1",
   "metadata": {},
   "outputs": [
    {
     "name": "stdout",
     "output_type": "stream",
     "text": [
      "Number of games in prices table that do not appear in games table: 217\n"
     ]
    },
    {
     "data": {
      "text/html": [
       "<div>\n",
       "<style scoped>\n",
       "    .dataframe tbody tr th:only-of-type {\n",
       "        vertical-align: middle;\n",
       "    }\n",
       "\n",
       "    .dataframe tbody tr th {\n",
       "        vertical-align: top;\n",
       "    }\n",
       "\n",
       "    .dataframe thead th {\n",
       "        text-align: right;\n",
       "    }\n",
       "</style>\n",
       "<table border=\"1\" class=\"dataframe\">\n",
       "  <thead>\n",
       "    <tr style=\"text-align: right;\">\n",
       "      <th></th>\n",
       "      <th>gameid</th>\n",
       "      <th>usd</th>\n",
       "      <th>eur</th>\n",
       "      <th>gbp</th>\n",
       "      <th>jpy</th>\n",
       "      <th>rub</th>\n",
       "      <th>date_acquired</th>\n",
       "    </tr>\n",
       "  </thead>\n",
       "  <tbody>\n",
       "    <tr>\n",
       "      <th>361</th>\n",
       "      <td>1423450</td>\n",
       "      <td>9.99</td>\n",
       "      <td>9.75</td>\n",
       "      <td>8.50</td>\n",
       "      <td>1200.0</td>\n",
       "      <td>385.0</td>\n",
       "      <td>2024-11-28</td>\n",
       "    </tr>\n",
       "    <tr>\n",
       "      <th>1816</th>\n",
       "      <td>1378820</td>\n",
       "      <td>0.99</td>\n",
       "      <td>0.99</td>\n",
       "      <td>0.84</td>\n",
       "      <td>117.0</td>\n",
       "      <td>41.0</td>\n",
       "      <td>2024-11-28</td>\n",
       "    </tr>\n",
       "    <tr>\n",
       "      <th>2447</th>\n",
       "      <td>1360760</td>\n",
       "      <td>0.99</td>\n",
       "      <td>0.79</td>\n",
       "      <td>0.79</td>\n",
       "      <td>100.0</td>\n",
       "      <td>30.0</td>\n",
       "      <td>2024-11-28</td>\n",
       "    </tr>\n",
       "    <tr>\n",
       "      <th>2622</th>\n",
       "      <td>1355020</td>\n",
       "      <td>6.99</td>\n",
       "      <td>5.69</td>\n",
       "      <td>5.19</td>\n",
       "      <td>720.0</td>\n",
       "      <td>175.0</td>\n",
       "      <td>2024-11-28</td>\n",
       "    </tr>\n",
       "    <tr>\n",
       "      <th>2959</th>\n",
       "      <td>1344430</td>\n",
       "      <td>0.55</td>\n",
       "      <td>0.55</td>\n",
       "      <td>0.47</td>\n",
       "      <td>65.0</td>\n",
       "      <td>22.0</td>\n",
       "      <td>2024-11-28</td>\n",
       "    </tr>\n",
       "  </tbody>\n",
       "</table>\n",
       "</div>"
      ],
      "text/plain": [
       "       gameid   usd   eur   gbp     jpy    rub date_acquired\n",
       "361   1423450  9.99  9.75  8.50  1200.0  385.0    2024-11-28\n",
       "1816  1378820  0.99  0.99  0.84   117.0   41.0    2024-11-28\n",
       "2447  1360760  0.99  0.79  0.79   100.0   30.0    2024-11-28\n",
       "2622  1355020  6.99  5.69  5.19   720.0  175.0    2024-11-28\n",
       "2959  1344430  0.55  0.55  0.47    65.0   22.0    2024-11-28"
      ]
     },
     "execution_count": 571,
     "metadata": {},
     "output_type": "execute_result"
    }
   ],
   "source": [
    "\n",
    "#unmatched_playtest_ids = review_id_not_in_games.intersection(playtest_ids)\n",
    "#print(\"Number of games in reviews not in games table but are in the playtest:\", len(unmatched_playtest_ids))  \n",
    "#remaining_unmatched = review_id_not_in_games - unmatched_playtest_ids\n",
    "#print(\"Number of games in reviews that do not appear in games after removing playtests:\", len(expected_remaining_unmatched))  \n"
   ]
  },
  {
   "cell_type": "code",
   "execution_count": 576,
   "id": "0847c4e4-2537-4f5c-b420-784ac486c5de",
   "metadata": {},
   "outputs": [
    {
     "name": "stdout",
     "output_type": "stream",
     "text": [
      "Number of unique game ids in new prices table: 98248\n",
      "Number of unique game ids in original games: 98248\n",
      "Number of unique game ids in updated games: 92965\n"
     ]
    }
   ],
   "source": [
    "uniq_ids_prices = prices['gameid'].nunique()\n",
    "uniq_ids_original_games = gamesdf['gameid'].nunique()\n",
    "uniq_ids_updated_games = games['gameid'].nunique()\n",
    "print(f'Number of unique game ids in new prices table: {uniq_ids_prices}')\n",
    "print(f'Number of unique game ids in original games: {uniq_ids_original_games}')\n",
    "print(f'Number of unique game ids in updated games: {uniq_ids_updated_games}')"
   ]
  },
  {
   "cell_type": "markdown",
   "id": "d7975d53-17b7-4d7a-bd75-d3a7666b3142",
   "metadata": {},
   "source": [
    "Next we shall remove the playtest games. The attempt now is to get the prices table as close as possible to the updated games table. We will first check the 'playtest' games in the prices (using the game_id) to see if these have prices (they probably shouldn't) then remove these, so we have a leaner dataframe more in line with the cleaned games table. In the prices table, we shall remove the games that correspond to playtest games since these have no prices. Below we first confirm that indeed all the prices for the playtest games are NaNs, afterwhich we remove these."
   ]
  },
  {
   "cell_type": "code",
   "execution_count": 577,
   "id": "86a63785-eca6-4a1b-bb8e-97bc412592c6",
   "metadata": {},
   "outputs": [
    {
     "name": "stdout",
     "output_type": "stream",
     "text": [
      "Number of rows: 233714\n",
      "Number of missing values per column:\n"
     ]
    },
    {
     "data": {
      "text/plain": [
       "gameid                0\n",
       "usd              233714\n",
       "eur              233714\n",
       "gbp              233714\n",
       "jpy              233714\n",
       "rub              233714\n",
       "date_acquired         0\n",
       "dtype: int64"
      ]
     },
     "execution_count": 577,
     "metadata": {},
     "output_type": "execute_result"
    }
   ],
   "source": [
    "playtest_ids = playtest_games['gameid']  # game ids with playtest in title in games df \n",
    "playtest_prices = prices[prices['gameid'].isin(playtest_ids)] #prices for games which are playtests\n",
    "print(f'Number of rows: {playtest_prices.shape[0]}') #number of rows\n",
    "print('Number of missing values per column:')\n",
    "playtest_prices.isna().sum() #which of the playtest games are NaNs?"
   ]
  },
  {
   "cell_type": "code",
   "execution_count": 578,
   "id": "8c2f179c-fb04-4691-aa0c-7019157552b8",
   "metadata": {},
   "outputs": [
    {
     "name": "stdout",
     "output_type": "stream",
     "text": [
      "<class 'pandas.core.frame.DataFrame'>\n",
      "Index: 4170948 entries, 5 to 4414272\n",
      "Data columns (total 7 columns):\n",
      " #   Column         Dtype  \n",
      "---  ------         -----  \n",
      " 0   gameid         int64  \n",
      " 1   usd            float64\n",
      " 2   eur            float64\n",
      " 3   gbp            float64\n",
      " 4   jpy            float64\n",
      " 5   rub            float64\n",
      " 6   date_acquired  object \n",
      "dtypes: float64(5), int64(1), object(1)\n",
      "memory usage: 254.6+ MB\n"
     ]
    }
   ],
   "source": [
    "prices = prices[~prices['gameid'].isin(playtest_ids)]\n",
    "prices.info()"
   ]
  },
  {
   "cell_type": "markdown",
   "id": "93dad7f4-8af1-4218-b0b6-ec13d46acaeb",
   "metadata": {},
   "source": [
    "Below we see that the number of unique ids in the prices and games table are almost the same (with a difference of 3). I suspect these are the 3 games with no title that we removed earlier on, and this is confirmed below as well. We shall remove these gameids from prices. "
   ]
  },
  {
   "cell_type": "code",
   "execution_count": 416,
   "id": "98726dbc-0d3b-47a2-b580-0f8aaa87a60d",
   "metadata": {},
   "outputs": [
    {
     "name": "stdout",
     "output_type": "stream",
     "text": [
      "Number of unique game ids in updated prices table: 92968\n",
      "Number of unique game ids in updated games: 92965\n"
     ]
    }
   ],
   "source": [
    "uniq_ids_prices = prices['gameid'].nunique()\n",
    "uniq_ids_updated_games = games['gameid'].nunique()\n",
    "print(f'Number of unique game ids in updated prices table: {uniq_ids_prices}')\n",
    "print(f'Number of unique game ids in updated games: {uniq_ids_updated_games}')"
   ]
  },
  {
   "cell_type": "code",
   "execution_count": 581,
   "id": "b2b2f191-4b7a-4f30-b57a-13aa65767af0",
   "metadata": {},
   "outputs": [
    {
     "data": {
      "text/plain": [
       "True"
      ]
     },
     "execution_count": 581,
     "metadata": {},
     "output_type": "execute_result"
    }
   ],
   "source": [
    "#checking if the gameids in prices that dont appear in games are exactly the ones that have no title from before\n",
    "set(prices['gameid']) - set(games['gameid'])  == set(no_title_games['gameid']) "
   ]
  },
  {
   "cell_type": "code",
   "execution_count": 582,
   "id": "221fd946-7faa-4135-942a-7ec46a7ddd43",
   "metadata": {},
   "outputs": [
    {
     "name": "stdout",
     "output_type": "stream",
     "text": [
      "Number of unique game ids in updated prices table: 92965\n",
      "Number of unique game ids in updated games: 92965\n"
     ]
    }
   ],
   "source": [
    "prices = prices[prices['gameid'].isin(games['gameid'])]\n",
    "uniq_ids_prices = prices['gameid'].nunique()\n",
    "uniq_ids_updated_games = games['gameid'].nunique()\n",
    "print(f'Number of unique game ids in updated prices table: {uniq_ids_prices}')\n",
    "print(f'Number of unique game ids in updated games: {uniq_ids_updated_games}')"
   ]
  },
  {
   "cell_type": "code",
   "execution_count": 583,
   "id": "475c837b-d521-404b-bef0-28c8d57766a9",
   "metadata": {},
   "outputs": [
    {
     "data": {
      "text/plain": [
       "True"
      ]
     },
     "execution_count": 583,
     "metadata": {},
     "output_type": "execute_result"
    }
   ],
   "source": [
    "set(games['gameid']) == set(prices['gameid']) #check if all IDs in games are in prices and vice versa"
   ]
  },
  {
   "cell_type": "markdown",
   "id": "9e65856d-c023-44ad-9db9-90f51251d27d",
   "metadata": {},
   "source": [
    "Just a remninder of how the prices table looks:"
   ]
  },
  {
   "cell_type": "code",
   "execution_count": 584,
   "id": "bbf4be05-7956-4f17-8b88-878c4c7807a0",
   "metadata": {},
   "outputs": [
    {
     "data": {
      "text/html": [
       "<div>\n",
       "<style scoped>\n",
       "    .dataframe tbody tr th:only-of-type {\n",
       "        vertical-align: middle;\n",
       "    }\n",
       "\n",
       "    .dataframe tbody tr th {\n",
       "        vertical-align: top;\n",
       "    }\n",
       "\n",
       "    .dataframe thead th {\n",
       "        text-align: right;\n",
       "    }\n",
       "</style>\n",
       "<table border=\"1\" class=\"dataframe\">\n",
       "  <thead>\n",
       "    <tr style=\"text-align: right;\">\n",
       "      <th></th>\n",
       "      <th>gameid</th>\n",
       "      <th>usd</th>\n",
       "      <th>eur</th>\n",
       "      <th>gbp</th>\n",
       "      <th>jpy</th>\n",
       "      <th>rub</th>\n",
       "      <th>date_acquired</th>\n",
       "    </tr>\n",
       "  </thead>\n",
       "  <tbody>\n",
       "    <tr>\n",
       "      <th>5</th>\n",
       "      <td>3278740</td>\n",
       "      <td>5.99</td>\n",
       "      <td>5.85</td>\n",
       "      <td>5.10</td>\n",
       "      <td>720.0</td>\n",
       "      <td>228.0</td>\n",
       "      <td>2024-11-28</td>\n",
       "    </tr>\n",
       "    <tr>\n",
       "      <th>10</th>\n",
       "      <td>3270850</td>\n",
       "      <td>3.99</td>\n",
       "      <td>3.99</td>\n",
       "      <td>3.89</td>\n",
       "      <td>470.0</td>\n",
       "      <td>165.0</td>\n",
       "      <td>2024-11-28</td>\n",
       "    </tr>\n",
       "    <tr>\n",
       "      <th>15</th>\n",
       "      <td>3267350</td>\n",
       "      <td>NaN</td>\n",
       "      <td>NaN</td>\n",
       "      <td>NaN</td>\n",
       "      <td>NaN</td>\n",
       "      <td>NaN</td>\n",
       "      <td>2024-11-28</td>\n",
       "    </tr>\n",
       "  </tbody>\n",
       "</table>\n",
       "</div>"
      ],
      "text/plain": [
       "     gameid   usd   eur   gbp    jpy    rub date_acquired\n",
       "5   3278740  5.99  5.85  5.10  720.0  228.0    2024-11-28\n",
       "10  3270850  3.99  3.99  3.89  470.0  165.0    2024-11-28\n",
       "15  3267350   NaN   NaN   NaN    NaN    NaN    2024-11-28"
      ]
     },
     "execution_count": 584,
     "metadata": {},
     "output_type": "execute_result"
    }
   ],
   "source": [
    "prices.head(3)"
   ]
  },
  {
   "cell_type": "markdown",
   "id": "79d4314e-c4c4-4df5-8fae-bca90962f44b",
   "metadata": {},
   "source": [
    "We continue checking the NA's in prices. First we check which rows have an NaN in any column, i.e which game has no price in at least one currency.  The table below indicates theres quite a number of missing prices in the different currencies."
   ]
  },
  {
   "cell_type": "code",
   "execution_count": 585,
   "id": "e411dc91-9efd-486f-946d-12ddfdb0ce26",
   "metadata": {},
   "outputs": [
    {
     "name": "stdout",
     "output_type": "stream",
     "text": [
      "Sample of table with at least one missing price:\n",
      "\n",
      "     gameid   usd  eur   gbp    jpy    rub date_acquired\n",
      "15  3267350   NaN  NaN   NaN    NaN    NaN    2024-11-28\n",
      "17  3266470  3.49  NaN  3.00  406.0  140.0    2024-11-28\n",
      "22  3263370  0.99  NaN  0.89  120.0   42.0    2024-11-28\n",
      "\n",
      "Percentage of missing values per column: \n"
     ]
    },
    {
     "data": {
      "text/html": [
       "<div>\n",
       "<style scoped>\n",
       "    .dataframe tbody tr th:only-of-type {\n",
       "        vertical-align: middle;\n",
       "    }\n",
       "\n",
       "    .dataframe tbody tr th {\n",
       "        vertical-align: top;\n",
       "    }\n",
       "\n",
       "    .dataframe thead th {\n",
       "        text-align: right;\n",
       "    }\n",
       "</style>\n",
       "<table border=\"1\" class=\"dataframe\">\n",
       "  <thead>\n",
       "    <tr style=\"text-align: right;\">\n",
       "      <th></th>\n",
       "      <th>Number of Missing Values</th>\n",
       "      <th>Percent of Total Values</th>\n",
       "    </tr>\n",
       "  </thead>\n",
       "  <tbody>\n",
       "    <tr>\n",
       "      <th>eur</th>\n",
       "      <td>1463601</td>\n",
       "      <td>93.89</td>\n",
       "    </tr>\n",
       "    <tr>\n",
       "      <th>rub</th>\n",
       "      <td>767321</td>\n",
       "      <td>49.22</td>\n",
       "    </tr>\n",
       "    <tr>\n",
       "      <th>jpy</th>\n",
       "      <td>681478</td>\n",
       "      <td>43.72</td>\n",
       "    </tr>\n",
       "    <tr>\n",
       "      <th>gbp</th>\n",
       "      <td>669734</td>\n",
       "      <td>42.96</td>\n",
       "    </tr>\n",
       "    <tr>\n",
       "      <th>usd</th>\n",
       "      <td>668743</td>\n",
       "      <td>42.90</td>\n",
       "    </tr>\n",
       "    <tr>\n",
       "      <th>gameid</th>\n",
       "      <td>0</td>\n",
       "      <td>0.00</td>\n",
       "    </tr>\n",
       "    <tr>\n",
       "      <th>date_acquired</th>\n",
       "      <td>0</td>\n",
       "      <td>0.00</td>\n",
       "    </tr>\n",
       "  </tbody>\n",
       "</table>\n",
       "</div>"
      ],
      "text/plain": [
       "               Number of Missing Values  Percent of Total Values\n",
       "eur                             1463601                    93.89\n",
       "rub                              767321                    49.22\n",
       "jpy                              681478                    43.72\n",
       "gbp                              669734                    42.96\n",
       "usd                              668743                    42.90\n",
       "gameid                                0                     0.00\n",
       "date_acquired                         0                     0.00"
      ]
     },
     "execution_count": 585,
     "metadata": {},
     "output_type": "execute_result"
    }
   ],
   "source": [
    "rows_with_nan = prices[prices.isnull().any(axis=1)]\n",
    "#print('')\n",
    "print('Sample of table with at least one missing price:\\n')\n",
    "print(rows_with_nan.head(3))\n",
    "print('\\nPercentage of missing values per column: ')\n",
    "miss_prices = miss_val_per(rows_with_nan)\n",
    "miss_prices"
   ]
  },
  {
   "cell_type": "markdown",
   "id": "6f1cbc8c-c6f5-4a83-9529-f1a55138581e",
   "metadata": {},
   "source": [
    "We are going to attempt to investigate the issue of the NaN prices in the prices table by extracting just one such game. As seen below, in the prices table this one game has no prices (NaN). Checking the game in the games table indicates that this game is 'Free to play' (listed under genres) so customers need not pay. Two ways to deal with this: \n",
    "* either remove this and risk losing a lot of data or\n",
    "* replace this with 0 which may skew the price distribution if theres a lot of such games compared to those which have a price greater than 0. "
   ]
  },
  {
   "cell_type": "code",
   "execution_count": 586,
   "id": "e7be1d6a-c70f-459d-9939-9480917afae3",
   "metadata": {},
   "outputs": [
    {
     "data": {
      "text/html": [
       "<div>\n",
       "<style scoped>\n",
       "    .dataframe tbody tr th:only-of-type {\n",
       "        vertical-align: middle;\n",
       "    }\n",
       "\n",
       "    .dataframe tbody tr th {\n",
       "        vertical-align: top;\n",
       "    }\n",
       "\n",
       "    .dataframe thead th {\n",
       "        text-align: right;\n",
       "    }\n",
       "</style>\n",
       "<table border=\"1\" class=\"dataframe\">\n",
       "  <thead>\n",
       "    <tr style=\"text-align: right;\">\n",
       "      <th></th>\n",
       "      <th>gameid</th>\n",
       "      <th>usd</th>\n",
       "      <th>eur</th>\n",
       "      <th>gbp</th>\n",
       "      <th>jpy</th>\n",
       "      <th>rub</th>\n",
       "      <th>date_acquired</th>\n",
       "    </tr>\n",
       "  </thead>\n",
       "  <tbody>\n",
       "    <tr>\n",
       "      <th>15</th>\n",
       "      <td>3267350</td>\n",
       "      <td>NaN</td>\n",
       "      <td>NaN</td>\n",
       "      <td>NaN</td>\n",
       "      <td>NaN</td>\n",
       "      <td>NaN</td>\n",
       "      <td>2024-11-28</td>\n",
       "    </tr>\n",
       "    <tr>\n",
       "      <th>97912</th>\n",
       "      <td>3267350</td>\n",
       "      <td>NaN</td>\n",
       "      <td>NaN</td>\n",
       "      <td>NaN</td>\n",
       "      <td>NaN</td>\n",
       "      <td>NaN</td>\n",
       "      <td>2024-11-30</td>\n",
       "    </tr>\n",
       "    <tr>\n",
       "      <th>195685</th>\n",
       "      <td>3267350</td>\n",
       "      <td>NaN</td>\n",
       "      <td>NaN</td>\n",
       "      <td>NaN</td>\n",
       "      <td>NaN</td>\n",
       "      <td>NaN</td>\n",
       "      <td>2024-12-02</td>\n",
       "    </tr>\n",
       "    <tr>\n",
       "      <th>293331</th>\n",
       "      <td>3267350</td>\n",
       "      <td>NaN</td>\n",
       "      <td>NaN</td>\n",
       "      <td>NaN</td>\n",
       "      <td>NaN</td>\n",
       "      <td>NaN</td>\n",
       "      <td>2024-12-04</td>\n",
       "    </tr>\n",
       "    <tr>\n",
       "      <th>390988</th>\n",
       "      <td>3267350</td>\n",
       "      <td>NaN</td>\n",
       "      <td>NaN</td>\n",
       "      <td>NaN</td>\n",
       "      <td>NaN</td>\n",
       "      <td>NaN</td>\n",
       "      <td>2024-12-06</td>\n",
       "    </tr>\n",
       "  </tbody>\n",
       "</table>\n",
       "</div>"
      ],
      "text/plain": [
       "         gameid  usd  eur  gbp  jpy  rub date_acquired\n",
       "15      3267350  NaN  NaN  NaN  NaN  NaN    2024-11-28\n",
       "97912   3267350  NaN  NaN  NaN  NaN  NaN    2024-11-30\n",
       "195685  3267350  NaN  NaN  NaN  NaN  NaN    2024-12-02\n",
       "293331  3267350  NaN  NaN  NaN  NaN  NaN    2024-12-04\n",
       "390988  3267350  NaN  NaN  NaN  NaN  NaN    2024-12-06"
      ]
     },
     "execution_count": 586,
     "metadata": {},
     "output_type": "execute_result"
    }
   ],
   "source": [
    "one_suspicious_game = prices[prices['gameid']==3267350]\n",
    "one_suspicious_game.head()"
   ]
  },
  {
   "cell_type": "code",
   "execution_count": 587,
   "id": "25a2cfe1-06cf-4ae9-a7ad-f61d0db31475",
   "metadata": {},
   "outputs": [
    {
     "data": {
      "text/html": [
       "<div>\n",
       "<style scoped>\n",
       "    .dataframe tbody tr th:only-of-type {\n",
       "        vertical-align: middle;\n",
       "    }\n",
       "\n",
       "    .dataframe tbody tr th {\n",
       "        vertical-align: top;\n",
       "    }\n",
       "\n",
       "    .dataframe thead th {\n",
       "        text-align: right;\n",
       "    }\n",
       "</style>\n",
       "<table border=\"1\" class=\"dataframe\">\n",
       "  <thead>\n",
       "    <tr style=\"text-align: right;\">\n",
       "      <th></th>\n",
       "      <th>gameid</th>\n",
       "      <th>title</th>\n",
       "      <th>developers</th>\n",
       "      <th>publishers</th>\n",
       "      <th>genres</th>\n",
       "      <th>supported_languages</th>\n",
       "      <th>release_date</th>\n",
       "    </tr>\n",
       "  </thead>\n",
       "  <tbody>\n",
       "    <tr>\n",
       "      <th>15</th>\n",
       "      <td>3267350</td>\n",
       "      <td>Tiny Shooters</td>\n",
       "      <td>['madilumar']</td>\n",
       "      <td>['Thetinyverse']</td>\n",
       "      <td>['Action', 'Free To Play']</td>\n",
       "      <td>['English']</td>\n",
       "      <td>2024-10-19</td>\n",
       "    </tr>\n",
       "  </tbody>\n",
       "</table>\n",
       "</div>"
      ],
      "text/plain": [
       "     gameid          title     developers        publishers  \\\n",
       "15  3267350  Tiny Shooters  ['madilumar']  ['Thetinyverse']   \n",
       "\n",
       "                        genres supported_languages release_date  \n",
       "15  ['Action', 'Free To Play']         ['English']   2024-10-19  "
      ]
     },
     "execution_count": 587,
     "metadata": {},
     "output_type": "execute_result"
    }
   ],
   "source": [
    "games[games['gameid']==3267350]"
   ]
  },
  {
   "cell_type": "markdown",
   "id": "6b08fa24-1542-4e0d-9dbf-3d7b2f1f4f72",
   "metadata": {},
   "source": [
    "We shall extract all 'Free to play games' and study them further. The print out shows there are 8746 of such games, about 9% of the total.\n",
    "We then check in the prices table if indeed all these games have NaN for all prices. "
   ]
  },
  {
   "cell_type": "code",
   "execution_count": 588,
   "id": "b92b743c-e501-4dd0-aab6-3eba36dfffc2",
   "metadata": {},
   "outputs": [
    {
     "data": {
      "text/html": [
       "<div>\n",
       "<style scoped>\n",
       "    .dataframe tbody tr th:only-of-type {\n",
       "        vertical-align: middle;\n",
       "    }\n",
       "\n",
       "    .dataframe tbody tr th {\n",
       "        vertical-align: top;\n",
       "    }\n",
       "\n",
       "    .dataframe thead th {\n",
       "        text-align: right;\n",
       "    }\n",
       "</style>\n",
       "<table border=\"1\" class=\"dataframe\">\n",
       "  <thead>\n",
       "    <tr style=\"text-align: right;\">\n",
       "      <th></th>\n",
       "      <th>gameid</th>\n",
       "      <th>title</th>\n",
       "      <th>developers</th>\n",
       "      <th>publishers</th>\n",
       "      <th>genres</th>\n",
       "      <th>supported_languages</th>\n",
       "      <th>release_date</th>\n",
       "    </tr>\n",
       "  </thead>\n",
       "  <tbody>\n",
       "    <tr>\n",
       "      <th>15</th>\n",
       "      <td>3267350</td>\n",
       "      <td>Tiny Shooters</td>\n",
       "      <td>['madilumar']</td>\n",
       "      <td>['Thetinyverse']</td>\n",
       "      <td>['Action', 'Free To Play']</td>\n",
       "      <td>['English']</td>\n",
       "      <td>2024-10-19</td>\n",
       "    </tr>\n",
       "    <tr>\n",
       "      <th>28</th>\n",
       "      <td>3261860</td>\n",
       "      <td>CAIGE: Cum Overflow</td>\n",
       "      <td>['Zapt5454']</td>\n",
       "      <td>['Zapt5454']</td>\n",
       "      <td>['Casual', 'Free To Play']</td>\n",
       "      <td>['English']</td>\n",
       "      <td>2024-10-18</td>\n",
       "    </tr>\n",
       "  </tbody>\n",
       "</table>\n",
       "</div>"
      ],
      "text/plain": [
       "     gameid                title     developers        publishers  \\\n",
       "15  3267350        Tiny Shooters  ['madilumar']  ['Thetinyverse']   \n",
       "28  3261860  CAIGE: Cum Overflow   ['Zapt5454']      ['Zapt5454']   \n",
       "\n",
       "                        genres supported_languages release_date  \n",
       "15  ['Action', 'Free To Play']         ['English']   2024-10-19  \n",
       "28  ['Casual', 'Free To Play']         ['English']   2024-10-18  "
      ]
     },
     "execution_count": 588,
     "metadata": {},
     "output_type": "execute_result"
    }
   ],
   "source": [
    "free_to_play = games[games['genres'].astype(str).str.contains('Free To Play', case=False)] \n",
    "free_to_play.head(2)"
   ]
  },
  {
   "cell_type": "code",
   "execution_count": 589,
   "id": "babe021e-2482-47cf-905c-1fc273debd0f",
   "metadata": {},
   "outputs": [
    {
     "name": "stdout",
     "output_type": "stream",
     "text": [
      "Number of free to play games: 8750\n",
      "Percentage of free to play games:  9.41%\n"
     ]
    }
   ],
   "source": [
    "num_free_to_play = len(free_to_play)\n",
    "print(f'Number of free to play games: {num_free_to_play}')\n",
    "free_to_play_perc = (len(free_to_play) / len(games) )*100\n",
    "print(f'Percentage of free to play games: {free_to_play_perc: .2f}%')"
   ]
  },
  {
   "cell_type": "markdown",
   "id": "7282dcc6-c182-4d59-8fa0-72b90f2d4224",
   "metadata": {},
   "source": [
    "The print out below shows that not all 'Free to play' games have a price of NaN in the prices table. This could suggest that the game was once 'free to play' and so the tag stuck with it. In any case, since the prices are available, we can assume that the game is no longer free to play. I am making the decision to remove this 'tag' from the genres for games that actually have a price in the prices table so that it accuractely reflects the current state. We shall start with the usd column and see where the analysis takes us."
   ]
  },
  {
   "cell_type": "code",
   "execution_count": 590,
   "id": "f70694f7-4ac3-4eaa-9464-408b6a0f20a5",
   "metadata": {},
   "outputs": [
    {
     "data": {
      "text/html": [
       "<div>\n",
       "<style scoped>\n",
       "    .dataframe tbody tr th:only-of-type {\n",
       "        vertical-align: middle;\n",
       "    }\n",
       "\n",
       "    .dataframe tbody tr th {\n",
       "        vertical-align: top;\n",
       "    }\n",
       "\n",
       "    .dataframe thead th {\n",
       "        text-align: right;\n",
       "    }\n",
       "</style>\n",
       "<table border=\"1\" class=\"dataframe\">\n",
       "  <thead>\n",
       "    <tr style=\"text-align: right;\">\n",
       "      <th></th>\n",
       "      <th>gameid</th>\n",
       "      <th>usd</th>\n",
       "      <th>eur</th>\n",
       "      <th>gbp</th>\n",
       "      <th>jpy</th>\n",
       "      <th>rub</th>\n",
       "      <th>date_acquired</th>\n",
       "    </tr>\n",
       "  </thead>\n",
       "  <tbody>\n",
       "    <tr>\n",
       "      <th>340</th>\n",
       "      <td>1424420</td>\n",
       "      <td>24.99</td>\n",
       "      <td>24.99</td>\n",
       "      <td>20.99</td>\n",
       "      <td>2800.0</td>\n",
       "      <td>880.0</td>\n",
       "      <td>2024-11-28</td>\n",
       "    </tr>\n",
       "    <tr>\n",
       "      <th>1009</th>\n",
       "      <td>1402280</td>\n",
       "      <td>14.39</td>\n",
       "      <td>NaN</td>\n",
       "      <td>11.99</td>\n",
       "      <td>1600.0</td>\n",
       "      <td>520.0</td>\n",
       "      <td>2024-11-28</td>\n",
       "    </tr>\n",
       "  </tbody>\n",
       "</table>\n",
       "</div>"
      ],
      "text/plain": [
       "       gameid    usd    eur    gbp     jpy    rub date_acquired\n",
       "340   1424420  24.99  24.99  20.99  2800.0  880.0    2024-11-28\n",
       "1009  1402280  14.39    NaN  11.99  1600.0  520.0    2024-11-28"
      ]
     },
     "execution_count": 590,
     "metadata": {},
     "output_type": "execute_result"
    }
   ],
   "source": [
    "free_to_play_ids = free_to_play['gameid']\n",
    "free_to_play_prices = prices[prices['gameid'].isin(free_to_play_ids)]\n",
    "\n",
    "#miss_val_per(free_to_play_prices)\n",
    "#free_to_play_prices['gameid'].nunique()\n",
    "#free_to_play_prices.info()\n",
    "free_to_play_prices[~free_to_play_prices['usd'].isna()].head(2) #checking which of the supposed free to play games actually have prices."
   ]
  },
  {
   "cell_type": "code",
   "execution_count": 466,
   "id": "397f4ab0-b7a4-4208-9575-37bf73e491a3",
   "metadata": {},
   "outputs": [
    {
     "data": {
      "text/html": [
       "<div>\n",
       "<style scoped>\n",
       "    .dataframe tbody tr th:only-of-type {\n",
       "        vertical-align: middle;\n",
       "    }\n",
       "\n",
       "    .dataframe tbody tr th {\n",
       "        vertical-align: top;\n",
       "    }\n",
       "\n",
       "    .dataframe thead th {\n",
       "        text-align: right;\n",
       "    }\n",
       "</style>\n",
       "<table border=\"1\" class=\"dataframe\">\n",
       "  <thead>\n",
       "    <tr style=\"text-align: right;\">\n",
       "      <th></th>\n",
       "      <th>gameid</th>\n",
       "      <th>title</th>\n",
       "      <th>developers</th>\n",
       "      <th>publishers</th>\n",
       "      <th>genres</th>\n",
       "      <th>supported_languages</th>\n",
       "      <th>release_date</th>\n",
       "    </tr>\n",
       "  </thead>\n",
       "  <tbody>\n",
       "    <tr>\n",
       "      <th>340</th>\n",
       "      <td>1424420</td>\n",
       "      <td>Warchief</td>\n",
       "      <td>['Honikou Games']</td>\n",
       "      <td>['Honikou Games']</td>\n",
       "      <td>['Action', 'Indie', 'Strategy', 'Free To Play'...</td>\n",
       "      <td>['English', 'French', 'Italian', 'German', 'Sp...</td>\n",
       "      <td>2024-06-27</td>\n",
       "    </tr>\n",
       "  </tbody>\n",
       "</table>\n",
       "</div>"
      ],
      "text/plain": [
       "      gameid     title         developers         publishers  \\\n",
       "340  1424420  Warchief  ['Honikou Games']  ['Honikou Games']   \n",
       "\n",
       "                                                genres  \\\n",
       "340  ['Action', 'Indie', 'Strategy', 'Free To Play'...   \n",
       "\n",
       "                                   supported_languages release_date  \n",
       "340  ['English', 'French', 'Italian', 'German', 'Sp...   2024-06-27  "
      ]
     },
     "execution_count": 466,
     "metadata": {},
     "output_type": "execute_result"
    }
   ],
   "source": [
    "games[games['gameid']==1424420] #extracting one such game for further analysis"
   ]
  },
  {
   "cell_type": "code",
   "execution_count": 467,
   "id": "b4160309-abe4-4cd1-9404-50da11e66f89",
   "metadata": {},
   "outputs": [
    {
     "data": {
      "text/plain": [
       "\"['Action', 'Indie', 'Strategy', 'Free To Play', 'Early Access']\""
      ]
     },
     "execution_count": 467,
     "metadata": {},
     "output_type": "execute_result"
    }
   ],
   "source": [
    "games.loc[340, 'genres']"
   ]
  },
  {
   "cell_type": "markdown",
   "id": "31564a30-8440-4556-a035-5236f4c547d2",
   "metadata": {},
   "source": [
    "So clearly below, one game classifed as free to play has prices  in all the currencies:"
   ]
  },
  {
   "cell_type": "code",
   "execution_count": 468,
   "id": "20889dd1-911d-4fde-8715-c33519cb5f98",
   "metadata": {},
   "outputs": [
    {
     "data": {
      "text/html": [
       "<div>\n",
       "<style scoped>\n",
       "    .dataframe tbody tr th:only-of-type {\n",
       "        vertical-align: middle;\n",
       "    }\n",
       "\n",
       "    .dataframe tbody tr th {\n",
       "        vertical-align: top;\n",
       "    }\n",
       "\n",
       "    .dataframe thead th {\n",
       "        text-align: right;\n",
       "    }\n",
       "</style>\n",
       "<table border=\"1\" class=\"dataframe\">\n",
       "  <thead>\n",
       "    <tr style=\"text-align: right;\">\n",
       "      <th></th>\n",
       "      <th>gameid</th>\n",
       "      <th>usd</th>\n",
       "      <th>eur</th>\n",
       "      <th>gbp</th>\n",
       "      <th>jpy</th>\n",
       "      <th>rub</th>\n",
       "      <th>date_acquired</th>\n",
       "    </tr>\n",
       "  </thead>\n",
       "  <tbody>\n",
       "    <tr>\n",
       "      <th>340</th>\n",
       "      <td>1424420</td>\n",
       "      <td>24.99</td>\n",
       "      <td>24.99</td>\n",
       "      <td>20.99</td>\n",
       "      <td>2800.0</td>\n",
       "      <td>880.0</td>\n",
       "      <td>2024-11-28</td>\n",
       "    </tr>\n",
       "    <tr>\n",
       "      <th>98238</th>\n",
       "      <td>1424420</td>\n",
       "      <td>24.99</td>\n",
       "      <td>24.99</td>\n",
       "      <td>20.99</td>\n",
       "      <td>2800.0</td>\n",
       "      <td>880.0</td>\n",
       "      <td>2024-11-30</td>\n",
       "    </tr>\n",
       "    <tr>\n",
       "      <th>196011</th>\n",
       "      <td>1424420</td>\n",
       "      <td>24.99</td>\n",
       "      <td>24.99</td>\n",
       "      <td>20.99</td>\n",
       "      <td>2800.0</td>\n",
       "      <td>880.0</td>\n",
       "      <td>2024-12-02</td>\n",
       "    </tr>\n",
       "  </tbody>\n",
       "</table>\n",
       "</div>"
      ],
      "text/plain": [
       "         gameid    usd    eur    gbp     jpy    rub date_acquired\n",
       "340     1424420  24.99  24.99  20.99  2800.0  880.0    2024-11-28\n",
       "98238   1424420  24.99  24.99  20.99  2800.0  880.0    2024-11-30\n",
       "196011  1424420  24.99  24.99  20.99  2800.0  880.0    2024-12-02"
      ]
     },
     "execution_count": 468,
     "metadata": {},
     "output_type": "execute_result"
    }
   ],
   "source": [
    "prices[prices['gameid']==1424420].head(3)"
   ]
  },
  {
   "cell_type": "code",
   "execution_count": 591,
   "id": "cdb1a5cb-76eb-4e44-a206-45d8017c577f",
   "metadata": {},
   "outputs": [
    {
     "data": {
      "text/html": [
       "<div>\n",
       "<style scoped>\n",
       "    .dataframe tbody tr th:only-of-type {\n",
       "        vertical-align: middle;\n",
       "    }\n",
       "\n",
       "    .dataframe tbody tr th {\n",
       "        vertical-align: top;\n",
       "    }\n",
       "\n",
       "    .dataframe thead th {\n",
       "        text-align: right;\n",
       "    }\n",
       "</style>\n",
       "<table border=\"1\" class=\"dataframe\">\n",
       "  <thead>\n",
       "    <tr style=\"text-align: right;\">\n",
       "      <th></th>\n",
       "      <th>gameid</th>\n",
       "      <th>title</th>\n",
       "      <th>developers</th>\n",
       "      <th>publishers</th>\n",
       "      <th>genres</th>\n",
       "      <th>supported_languages</th>\n",
       "      <th>release_date</th>\n",
       "    </tr>\n",
       "  </thead>\n",
       "  <tbody>\n",
       "    <tr>\n",
       "      <th>5</th>\n",
       "      <td>3278740</td>\n",
       "      <td>NEURO</td>\n",
       "      <td>['Revolt Games']</td>\n",
       "      <td>['Strategy First']</td>\n",
       "      <td>[Action]</td>\n",
       "      <td>['English', 'Russian']</td>\n",
       "      <td>2024-10-11</td>\n",
       "    </tr>\n",
       "    <tr>\n",
       "      <th>10</th>\n",
       "      <td>3270850</td>\n",
       "      <td>Keep Your Eyes Open</td>\n",
       "      <td>['Texerikus']</td>\n",
       "      <td>['Texerikus']</td>\n",
       "      <td>[Indie]</td>\n",
       "      <td>['English']</td>\n",
       "      <td>2024-10-21</td>\n",
       "    </tr>\n",
       "    <tr>\n",
       "      <th>15</th>\n",
       "      <td>3267350</td>\n",
       "      <td>Tiny Shooters</td>\n",
       "      <td>['madilumar']</td>\n",
       "      <td>['Thetinyverse']</td>\n",
       "      <td>[Action, Free To Play]</td>\n",
       "      <td>['English']</td>\n",
       "      <td>2024-10-19</td>\n",
       "    </tr>\n",
       "  </tbody>\n",
       "</table>\n",
       "</div>"
      ],
      "text/plain": [
       "     gameid                title        developers          publishers  \\\n",
       "5   3278740                NEURO  ['Revolt Games']  ['Strategy First']   \n",
       "10  3270850  Keep Your Eyes Open     ['Texerikus']       ['Texerikus']   \n",
       "15  3267350        Tiny Shooters     ['madilumar']    ['Thetinyverse']   \n",
       "\n",
       "                    genres     supported_languages release_date  \n",
       "5                 [Action]  ['English', 'Russian']   2024-10-11  \n",
       "10                 [Indie]             ['English']   2024-10-21  \n",
       "15  [Action, Free To Play]             ['English']   2024-10-19  "
      ]
     },
     "execution_count": 591,
     "metadata": {},
     "output_type": "execute_result"
    }
   ],
   "source": [
    "#the goal in this cell is just some clean up on the genres column so we can access the genres to remove the 'Free to play' tag.\n",
    "#For instance, the genre is represented as a list inside a string: \"['Action', 'Free To Play']\" but we want it as a list ['Action', 'Free To Play']\n",
    "#so we can loop through it\n",
    "games['genres'] = games['genres'].apply(lambda x: ast.literal_eval(x) if isinstance(x, str) else x)\n",
    "games.head(3)"
   ]
  },
  {
   "cell_type": "code",
   "execution_count": 592,
   "id": "78718739-e89b-4424-a04e-3683e14414e5",
   "metadata": {},
   "outputs": [],
   "source": [
    "games_w_price = free_to_play_prices[~free_to_play_prices['usd'].isna()]#games with the free to play tag that have a usd price (not NaN) in the price table\n",
    "target_ids = games_w_price['gameid']  \n",
    "\n",
    "# Function to remove 'Free To Play' from the genre column for those with prices\n",
    "def remove_free_to_play(genres):\n",
    "    return [g for g in genres if g != 'Free To Play']\n",
    "# Apply only to rows where id is in target_ids\n",
    "games.loc[games['gameid'].isin(target_ids), 'genres'] = games.loc[games['gameid'].isin(target_ids), 'genres'].apply(remove_free_to_play)\n"
   ]
  },
  {
   "cell_type": "code",
   "execution_count": 593,
   "id": "03527eca-5a95-4b6d-a84a-fc9a55669011",
   "metadata": {},
   "outputs": [
    {
     "data": {
      "text/plain": [
       "['Action', 'Indie', 'Strategy', 'Early Access']"
      ]
     },
     "execution_count": 593,
     "metadata": {},
     "output_type": "execute_result"
    }
   ],
   "source": [
    "#test\n",
    "games.loc[340, 'genres']"
   ]
  },
  {
   "cell_type": "markdown",
   "id": "7960506b-86cf-48b0-b9e3-2abe783dc432",
   "metadata": {},
   "source": [
    "Now we shall check the 'Free to play' games again having removed the ones impersonating as free to play. We now expect all the records to indicate that there are null values for all currencies. But the table shows that all the 'usd' entries (387528) are (correctly) null but the other currencies, 387483 are (correctly null). So about 45 (387528 - 387483) of the rows need further investigation. "
   ]
  },
  {
   "cell_type": "code",
   "execution_count": 594,
   "id": "c5e466c2-f5bc-43fc-b71b-af82c56fa064",
   "metadata": {},
   "outputs": [
    {
     "name": "stdout",
     "output_type": "stream",
     "text": [
      "Number of free to play games:  8666\n",
      "Percentage of free to play games:  9.32%\n"
     ]
    },
    {
     "data": {
      "text/plain": [
       "gameid                0\n",
       "usd              387528\n",
       "eur              387483\n",
       "gbp              387483\n",
       "jpy              387483\n",
       "rub              387483\n",
       "date_acquired         0\n",
       "dtype: int64"
      ]
     },
     "execution_count": 594,
     "metadata": {},
     "output_type": "execute_result"
    }
   ],
   "source": [
    "free_to_play = games[games['genres'].astype(str).str.contains('Free To Play')] \n",
    "num_free_to_play = len(free_to_play)\n",
    "print(f'Number of free to play games: {num_free_to_play: }')\n",
    "free_to_play_perc = (len(free_to_play) / len(games) )*100\n",
    "print(f'Percentage of free to play games: {free_to_play_perc: .2f}%')\n",
    "free_to_play_ids = free_to_play['gameid']\n",
    "free_to_play_prices = prices[prices['gameid'].isin(free_to_play_ids)]\n",
    "free_to_play_prices.isna().sum()\n"
   ]
  },
  {
   "cell_type": "markdown",
   "id": "672e7e79-982c-4b94-b0ec-e8b8426e484c",
   "metadata": {},
   "source": [
    "Using just one curency to check which is not null. Interestingly, this is the same game. It has a NaN for 'usd' but for the other currencies it has a price. Perhaps it is 'free to play' in the USA only. In any case, since I will be using usd prices, and this is just one game, we shall remove it from the analysis."
   ]
  },
  {
   "cell_type": "code",
   "execution_count": 595,
   "id": "8ebed5b5-27d8-42d7-b4ed-bc900bf71257",
   "metadata": {},
   "outputs": [
    {
     "data": {
      "text/html": [
       "<div>\n",
       "<style scoped>\n",
       "    .dataframe tbody tr th:only-of-type {\n",
       "        vertical-align: middle;\n",
       "    }\n",
       "\n",
       "    .dataframe tbody tr th {\n",
       "        vertical-align: top;\n",
       "    }\n",
       "\n",
       "    .dataframe thead th {\n",
       "        text-align: right;\n",
       "    }\n",
       "</style>\n",
       "<table border=\"1\" class=\"dataframe\">\n",
       "  <thead>\n",
       "    <tr style=\"text-align: right;\">\n",
       "      <th></th>\n",
       "      <th>gameid</th>\n",
       "      <th>usd</th>\n",
       "      <th>eur</th>\n",
       "      <th>gbp</th>\n",
       "      <th>jpy</th>\n",
       "      <th>rub</th>\n",
       "      <th>date_acquired</th>\n",
       "    </tr>\n",
       "  </thead>\n",
       "  <tbody>\n",
       "    <tr>\n",
       "      <th>81147</th>\n",
       "      <td>382120</td>\n",
       "      <td>NaN</td>\n",
       "      <td>0.79</td>\n",
       "      <td>0.79</td>\n",
       "      <td>100.0</td>\n",
       "      <td>30.0</td>\n",
       "      <td>2024-11-28</td>\n",
       "    </tr>\n",
       "    <tr>\n",
       "      <th>178963</th>\n",
       "      <td>382120</td>\n",
       "      <td>NaN</td>\n",
       "      <td>0.79</td>\n",
       "      <td>0.79</td>\n",
       "      <td>100.0</td>\n",
       "      <td>30.0</td>\n",
       "      <td>2024-11-30</td>\n",
       "    </tr>\n",
       "    <tr>\n",
       "      <th>276596</th>\n",
       "      <td>382120</td>\n",
       "      <td>NaN</td>\n",
       "      <td>0.79</td>\n",
       "      <td>0.79</td>\n",
       "      <td>100.0</td>\n",
       "      <td>30.0</td>\n",
       "      <td>2024-12-02</td>\n",
       "    </tr>\n",
       "    <tr>\n",
       "      <th>374193</th>\n",
       "      <td>382120</td>\n",
       "      <td>NaN</td>\n",
       "      <td>0.79</td>\n",
       "      <td>0.79</td>\n",
       "      <td>100.0</td>\n",
       "      <td>30.0</td>\n",
       "      <td>2024-12-04</td>\n",
       "    </tr>\n",
       "    <tr>\n",
       "      <th>471791</th>\n",
       "      <td>382120</td>\n",
       "      <td>NaN</td>\n",
       "      <td>0.79</td>\n",
       "      <td>0.79</td>\n",
       "      <td>100.0</td>\n",
       "      <td>30.0</td>\n",
       "      <td>2024-12-06</td>\n",
       "    </tr>\n",
       "    <tr>\n",
       "      <th>569594</th>\n",
       "      <td>382120</td>\n",
       "      <td>NaN</td>\n",
       "      <td>0.79</td>\n",
       "      <td>0.79</td>\n",
       "      <td>100.0</td>\n",
       "      <td>30.0</td>\n",
       "      <td>2024-12-08</td>\n",
       "    </tr>\n",
       "    <tr>\n",
       "      <th>667527</th>\n",
       "      <td>382120</td>\n",
       "      <td>NaN</td>\n",
       "      <td>0.79</td>\n",
       "      <td>0.79</td>\n",
       "      <td>100.0</td>\n",
       "      <td>30.0</td>\n",
       "      <td>2024-12-10</td>\n",
       "    </tr>\n",
       "    <tr>\n",
       "      <th>765101</th>\n",
       "      <td>382120</td>\n",
       "      <td>NaN</td>\n",
       "      <td>0.79</td>\n",
       "      <td>0.79</td>\n",
       "      <td>100.0</td>\n",
       "      <td>30.0</td>\n",
       "      <td>2024-12-12</td>\n",
       "    </tr>\n",
       "    <tr>\n",
       "      <th>862693</th>\n",
       "      <td>382120</td>\n",
       "      <td>NaN</td>\n",
       "      <td>0.79</td>\n",
       "      <td>0.79</td>\n",
       "      <td>100.0</td>\n",
       "      <td>30.0</td>\n",
       "      <td>2024-12-14</td>\n",
       "    </tr>\n",
       "    <tr>\n",
       "      <th>960483</th>\n",
       "      <td>382120</td>\n",
       "      <td>NaN</td>\n",
       "      <td>0.79</td>\n",
       "      <td>0.79</td>\n",
       "      <td>100.0</td>\n",
       "      <td>30.0</td>\n",
       "      <td>2024-12-16</td>\n",
       "    </tr>\n",
       "    <tr>\n",
       "      <th>1058342</th>\n",
       "      <td>382120</td>\n",
       "      <td>NaN</td>\n",
       "      <td>0.79</td>\n",
       "      <td>0.79</td>\n",
       "      <td>100.0</td>\n",
       "      <td>30.0</td>\n",
       "      <td>2024-12-18</td>\n",
       "    </tr>\n",
       "    <tr>\n",
       "      <th>1155994</th>\n",
       "      <td>382120</td>\n",
       "      <td>NaN</td>\n",
       "      <td>0.79</td>\n",
       "      <td>0.79</td>\n",
       "      <td>100.0</td>\n",
       "      <td>30.0</td>\n",
       "      <td>2024-12-20</td>\n",
       "    </tr>\n",
       "    <tr>\n",
       "      <th>1253791</th>\n",
       "      <td>382120</td>\n",
       "      <td>NaN</td>\n",
       "      <td>0.79</td>\n",
       "      <td>0.79</td>\n",
       "      <td>100.0</td>\n",
       "      <td>30.0</td>\n",
       "      <td>2024-12-22</td>\n",
       "    </tr>\n",
       "    <tr>\n",
       "      <th>1351248</th>\n",
       "      <td>382120</td>\n",
       "      <td>NaN</td>\n",
       "      <td>0.79</td>\n",
       "      <td>0.79</td>\n",
       "      <td>100.0</td>\n",
       "      <td>30.0</td>\n",
       "      <td>2024-12-24</td>\n",
       "    </tr>\n",
       "    <tr>\n",
       "      <th>1449190</th>\n",
       "      <td>382120</td>\n",
       "      <td>NaN</td>\n",
       "      <td>0.79</td>\n",
       "      <td>0.79</td>\n",
       "      <td>100.0</td>\n",
       "      <td>30.0</td>\n",
       "      <td>2024-12-26</td>\n",
       "    </tr>\n",
       "    <tr>\n",
       "      <th>1546892</th>\n",
       "      <td>382120</td>\n",
       "      <td>NaN</td>\n",
       "      <td>0.79</td>\n",
       "      <td>0.79</td>\n",
       "      <td>100.0</td>\n",
       "      <td>30.0</td>\n",
       "      <td>2024-12-28</td>\n",
       "    </tr>\n",
       "    <tr>\n",
       "      <th>1644364</th>\n",
       "      <td>382120</td>\n",
       "      <td>NaN</td>\n",
       "      <td>0.79</td>\n",
       "      <td>0.79</td>\n",
       "      <td>100.0</td>\n",
       "      <td>30.0</td>\n",
       "      <td>2024-12-30</td>\n",
       "    </tr>\n",
       "    <tr>\n",
       "      <th>1742251</th>\n",
       "      <td>382120</td>\n",
       "      <td>NaN</td>\n",
       "      <td>0.79</td>\n",
       "      <td>0.79</td>\n",
       "      <td>100.0</td>\n",
       "      <td>30.0</td>\n",
       "      <td>2025-01-01</td>\n",
       "    </tr>\n",
       "    <tr>\n",
       "      <th>1840086</th>\n",
       "      <td>382120</td>\n",
       "      <td>NaN</td>\n",
       "      <td>0.79</td>\n",
       "      <td>0.79</td>\n",
       "      <td>100.0</td>\n",
       "      <td>30.0</td>\n",
       "      <td>2025-01-03</td>\n",
       "    </tr>\n",
       "    <tr>\n",
       "      <th>1937759</th>\n",
       "      <td>382120</td>\n",
       "      <td>NaN</td>\n",
       "      <td>0.79</td>\n",
       "      <td>0.79</td>\n",
       "      <td>100.0</td>\n",
       "      <td>30.0</td>\n",
       "      <td>2025-01-05</td>\n",
       "    </tr>\n",
       "    <tr>\n",
       "      <th>2035491</th>\n",
       "      <td>382120</td>\n",
       "      <td>NaN</td>\n",
       "      <td>0.79</td>\n",
       "      <td>0.79</td>\n",
       "      <td>100.0</td>\n",
       "      <td>30.0</td>\n",
       "      <td>2025-01-07</td>\n",
       "    </tr>\n",
       "    <tr>\n",
       "      <th>2133178</th>\n",
       "      <td>382120</td>\n",
       "      <td>NaN</td>\n",
       "      <td>0.79</td>\n",
       "      <td>0.79</td>\n",
       "      <td>100.0</td>\n",
       "      <td>30.0</td>\n",
       "      <td>2025-01-09</td>\n",
       "    </tr>\n",
       "    <tr>\n",
       "      <th>2230926</th>\n",
       "      <td>382120</td>\n",
       "      <td>NaN</td>\n",
       "      <td>0.79</td>\n",
       "      <td>0.79</td>\n",
       "      <td>100.0</td>\n",
       "      <td>30.0</td>\n",
       "      <td>2025-01-11</td>\n",
       "    </tr>\n",
       "    <tr>\n",
       "      <th>2329661</th>\n",
       "      <td>382120</td>\n",
       "      <td>NaN</td>\n",
       "      <td>0.79</td>\n",
       "      <td>0.79</td>\n",
       "      <td>100.0</td>\n",
       "      <td>30.0</td>\n",
       "      <td>2025-01-13</td>\n",
       "    </tr>\n",
       "    <tr>\n",
       "      <th>2428470</th>\n",
       "      <td>382120</td>\n",
       "      <td>NaN</td>\n",
       "      <td>0.79</td>\n",
       "      <td>0.79</td>\n",
       "      <td>100.0</td>\n",
       "      <td>30.0</td>\n",
       "      <td>2025-01-15</td>\n",
       "    </tr>\n",
       "    <tr>\n",
       "      <th>2526849</th>\n",
       "      <td>382120</td>\n",
       "      <td>NaN</td>\n",
       "      <td>0.79</td>\n",
       "      <td>0.79</td>\n",
       "      <td>100.0</td>\n",
       "      <td>30.0</td>\n",
       "      <td>2025-01-17</td>\n",
       "    </tr>\n",
       "    <tr>\n",
       "      <th>2625188</th>\n",
       "      <td>382120</td>\n",
       "      <td>NaN</td>\n",
       "      <td>0.79</td>\n",
       "      <td>0.79</td>\n",
       "      <td>100.0</td>\n",
       "      <td>30.0</td>\n",
       "      <td>2025-01-19</td>\n",
       "    </tr>\n",
       "    <tr>\n",
       "      <th>2723644</th>\n",
       "      <td>382120</td>\n",
       "      <td>NaN</td>\n",
       "      <td>0.79</td>\n",
       "      <td>0.79</td>\n",
       "      <td>100.0</td>\n",
       "      <td>30.0</td>\n",
       "      <td>2025-01-21</td>\n",
       "    </tr>\n",
       "    <tr>\n",
       "      <th>2822175</th>\n",
       "      <td>382120</td>\n",
       "      <td>NaN</td>\n",
       "      <td>0.79</td>\n",
       "      <td>0.79</td>\n",
       "      <td>100.0</td>\n",
       "      <td>30.0</td>\n",
       "      <td>2025-01-23</td>\n",
       "    </tr>\n",
       "    <tr>\n",
       "      <th>2920813</th>\n",
       "      <td>382120</td>\n",
       "      <td>NaN</td>\n",
       "      <td>0.79</td>\n",
       "      <td>0.79</td>\n",
       "      <td>100.0</td>\n",
       "      <td>30.0</td>\n",
       "      <td>2025-01-25</td>\n",
       "    </tr>\n",
       "    <tr>\n",
       "      <th>3019405</th>\n",
       "      <td>382120</td>\n",
       "      <td>NaN</td>\n",
       "      <td>0.79</td>\n",
       "      <td>0.79</td>\n",
       "      <td>100.0</td>\n",
       "      <td>30.0</td>\n",
       "      <td>2025-01-27</td>\n",
       "    </tr>\n",
       "    <tr>\n",
       "      <th>3117754</th>\n",
       "      <td>382120</td>\n",
       "      <td>NaN</td>\n",
       "      <td>0.79</td>\n",
       "      <td>0.79</td>\n",
       "      <td>100.0</td>\n",
       "      <td>30.0</td>\n",
       "      <td>2025-01-29</td>\n",
       "    </tr>\n",
       "    <tr>\n",
       "      <th>3216134</th>\n",
       "      <td>382120</td>\n",
       "      <td>NaN</td>\n",
       "      <td>0.79</td>\n",
       "      <td>0.79</td>\n",
       "      <td>100.0</td>\n",
       "      <td>30.0</td>\n",
       "      <td>2025-01-31</td>\n",
       "    </tr>\n",
       "    <tr>\n",
       "      <th>3314499</th>\n",
       "      <td>382120</td>\n",
       "      <td>NaN</td>\n",
       "      <td>0.79</td>\n",
       "      <td>0.79</td>\n",
       "      <td>100.0</td>\n",
       "      <td>30.0</td>\n",
       "      <td>2025-02-02</td>\n",
       "    </tr>\n",
       "    <tr>\n",
       "      <th>3413171</th>\n",
       "      <td>382120</td>\n",
       "      <td>NaN</td>\n",
       "      <td>0.79</td>\n",
       "      <td>0.79</td>\n",
       "      <td>100.0</td>\n",
       "      <td>30.0</td>\n",
       "      <td>2025-02-04</td>\n",
       "    </tr>\n",
       "    <tr>\n",
       "      <th>3511794</th>\n",
       "      <td>382120</td>\n",
       "      <td>NaN</td>\n",
       "      <td>0.79</td>\n",
       "      <td>0.79</td>\n",
       "      <td>100.0</td>\n",
       "      <td>30.0</td>\n",
       "      <td>2025-02-06</td>\n",
       "    </tr>\n",
       "    <tr>\n",
       "      <th>3610407</th>\n",
       "      <td>382120</td>\n",
       "      <td>NaN</td>\n",
       "      <td>0.79</td>\n",
       "      <td>0.79</td>\n",
       "      <td>100.0</td>\n",
       "      <td>30.0</td>\n",
       "      <td>2025-02-08</td>\n",
       "    </tr>\n",
       "    <tr>\n",
       "      <th>3707815</th>\n",
       "      <td>382120</td>\n",
       "      <td>NaN</td>\n",
       "      <td>0.79</td>\n",
       "      <td>0.79</td>\n",
       "      <td>100.0</td>\n",
       "      <td>30.0</td>\n",
       "      <td>2025-02-10</td>\n",
       "    </tr>\n",
       "    <tr>\n",
       "      <th>3806145</th>\n",
       "      <td>382120</td>\n",
       "      <td>NaN</td>\n",
       "      <td>0.79</td>\n",
       "      <td>0.79</td>\n",
       "      <td>100.0</td>\n",
       "      <td>30.0</td>\n",
       "      <td>2025-02-12</td>\n",
       "    </tr>\n",
       "    <tr>\n",
       "      <th>3904634</th>\n",
       "      <td>382120</td>\n",
       "      <td>NaN</td>\n",
       "      <td>0.79</td>\n",
       "      <td>0.79</td>\n",
       "      <td>100.0</td>\n",
       "      <td>30.0</td>\n",
       "      <td>2025-02-14</td>\n",
       "    </tr>\n",
       "    <tr>\n",
       "      <th>4003240</th>\n",
       "      <td>382120</td>\n",
       "      <td>NaN</td>\n",
       "      <td>0.79</td>\n",
       "      <td>0.79</td>\n",
       "      <td>100.0</td>\n",
       "      <td>30.0</td>\n",
       "      <td>2025-02-16</td>\n",
       "    </tr>\n",
       "    <tr>\n",
       "      <th>4101845</th>\n",
       "      <td>382120</td>\n",
       "      <td>NaN</td>\n",
       "      <td>0.79</td>\n",
       "      <td>0.79</td>\n",
       "      <td>100.0</td>\n",
       "      <td>30.0</td>\n",
       "      <td>2025-02-18</td>\n",
       "    </tr>\n",
       "    <tr>\n",
       "      <th>4200193</th>\n",
       "      <td>382120</td>\n",
       "      <td>NaN</td>\n",
       "      <td>0.79</td>\n",
       "      <td>0.79</td>\n",
       "      <td>100.0</td>\n",
       "      <td>30.0</td>\n",
       "      <td>2025-02-20</td>\n",
       "    </tr>\n",
       "    <tr>\n",
       "      <th>4298526</th>\n",
       "      <td>382120</td>\n",
       "      <td>NaN</td>\n",
       "      <td>0.79</td>\n",
       "      <td>0.79</td>\n",
       "      <td>100.0</td>\n",
       "      <td>30.0</td>\n",
       "      <td>2025-02-22</td>\n",
       "    </tr>\n",
       "    <tr>\n",
       "      <th>4396861</th>\n",
       "      <td>382120</td>\n",
       "      <td>NaN</td>\n",
       "      <td>0.79</td>\n",
       "      <td>0.79</td>\n",
       "      <td>100.0</td>\n",
       "      <td>30.0</td>\n",
       "      <td>2025-02-24</td>\n",
       "    </tr>\n",
       "  </tbody>\n",
       "</table>\n",
       "</div>"
      ],
      "text/plain": [
       "         gameid  usd   eur   gbp    jpy   rub date_acquired\n",
       "81147    382120  NaN  0.79  0.79  100.0  30.0    2024-11-28\n",
       "178963   382120  NaN  0.79  0.79  100.0  30.0    2024-11-30\n",
       "276596   382120  NaN  0.79  0.79  100.0  30.0    2024-12-02\n",
       "374193   382120  NaN  0.79  0.79  100.0  30.0    2024-12-04\n",
       "471791   382120  NaN  0.79  0.79  100.0  30.0    2024-12-06\n",
       "569594   382120  NaN  0.79  0.79  100.0  30.0    2024-12-08\n",
       "667527   382120  NaN  0.79  0.79  100.0  30.0    2024-12-10\n",
       "765101   382120  NaN  0.79  0.79  100.0  30.0    2024-12-12\n",
       "862693   382120  NaN  0.79  0.79  100.0  30.0    2024-12-14\n",
       "960483   382120  NaN  0.79  0.79  100.0  30.0    2024-12-16\n",
       "1058342  382120  NaN  0.79  0.79  100.0  30.0    2024-12-18\n",
       "1155994  382120  NaN  0.79  0.79  100.0  30.0    2024-12-20\n",
       "1253791  382120  NaN  0.79  0.79  100.0  30.0    2024-12-22\n",
       "1351248  382120  NaN  0.79  0.79  100.0  30.0    2024-12-24\n",
       "1449190  382120  NaN  0.79  0.79  100.0  30.0    2024-12-26\n",
       "1546892  382120  NaN  0.79  0.79  100.0  30.0    2024-12-28\n",
       "1644364  382120  NaN  0.79  0.79  100.0  30.0    2024-12-30\n",
       "1742251  382120  NaN  0.79  0.79  100.0  30.0    2025-01-01\n",
       "1840086  382120  NaN  0.79  0.79  100.0  30.0    2025-01-03\n",
       "1937759  382120  NaN  0.79  0.79  100.0  30.0    2025-01-05\n",
       "2035491  382120  NaN  0.79  0.79  100.0  30.0    2025-01-07\n",
       "2133178  382120  NaN  0.79  0.79  100.0  30.0    2025-01-09\n",
       "2230926  382120  NaN  0.79  0.79  100.0  30.0    2025-01-11\n",
       "2329661  382120  NaN  0.79  0.79  100.0  30.0    2025-01-13\n",
       "2428470  382120  NaN  0.79  0.79  100.0  30.0    2025-01-15\n",
       "2526849  382120  NaN  0.79  0.79  100.0  30.0    2025-01-17\n",
       "2625188  382120  NaN  0.79  0.79  100.0  30.0    2025-01-19\n",
       "2723644  382120  NaN  0.79  0.79  100.0  30.0    2025-01-21\n",
       "2822175  382120  NaN  0.79  0.79  100.0  30.0    2025-01-23\n",
       "2920813  382120  NaN  0.79  0.79  100.0  30.0    2025-01-25\n",
       "3019405  382120  NaN  0.79  0.79  100.0  30.0    2025-01-27\n",
       "3117754  382120  NaN  0.79  0.79  100.0  30.0    2025-01-29\n",
       "3216134  382120  NaN  0.79  0.79  100.0  30.0    2025-01-31\n",
       "3314499  382120  NaN  0.79  0.79  100.0  30.0    2025-02-02\n",
       "3413171  382120  NaN  0.79  0.79  100.0  30.0    2025-02-04\n",
       "3511794  382120  NaN  0.79  0.79  100.0  30.0    2025-02-06\n",
       "3610407  382120  NaN  0.79  0.79  100.0  30.0    2025-02-08\n",
       "3707815  382120  NaN  0.79  0.79  100.0  30.0    2025-02-10\n",
       "3806145  382120  NaN  0.79  0.79  100.0  30.0    2025-02-12\n",
       "3904634  382120  NaN  0.79  0.79  100.0  30.0    2025-02-14\n",
       "4003240  382120  NaN  0.79  0.79  100.0  30.0    2025-02-16\n",
       "4101845  382120  NaN  0.79  0.79  100.0  30.0    2025-02-18\n",
       "4200193  382120  NaN  0.79  0.79  100.0  30.0    2025-02-20\n",
       "4298526  382120  NaN  0.79  0.79  100.0  30.0    2025-02-22\n",
       "4396861  382120  NaN  0.79  0.79  100.0  30.0    2025-02-24"
      ]
     },
     "execution_count": 595,
     "metadata": {},
     "output_type": "execute_result"
    }
   ],
   "source": [
    "suspicious_not_null_price = free_to_play_prices[~free_to_play_prices['gbp'].isna()]\n",
    "suspicious_not_null_price"
   ]
  },
  {
   "cell_type": "code",
   "execution_count": 598,
   "id": "47c4261d-0c71-4c7f-a380-215504e22807",
   "metadata": {},
   "outputs": [
    {
     "name": "stdout",
     "output_type": "stream",
     "text": [
      "Number of free to play games:  8665\n",
      "Percentage of free to play games:  9.32%\n"
     ]
    },
    {
     "data": {
      "text/plain": [
       "gameid           0\n",
       "usd              0\n",
       "eur              0\n",
       "gbp              0\n",
       "jpy              0\n",
       "rub              0\n",
       "date_acquired    0\n",
       "dtype: int64"
      ]
     },
     "execution_count": 598,
     "metadata": {},
     "output_type": "execute_result"
    }
   ],
   "source": [
    "games = games[games['gameid']!=382120].copy()#remove the game \n",
    "prices = prices[prices['gameid']!=382120].copy()\n",
    "free_to_play = games[games['genres'].astype(str).str.contains('Free To Play')] \n",
    "num_free_to_play = len(free_to_play)\n",
    "print(f'Number of free to play games: {num_free_to_play: }')\n",
    "free_to_play_perc = (len(free_to_play) / len(games) )*100\n",
    "print(f'Percentage of free to play games: {free_to_play_perc: .2f}%')\n",
    "free_to_play_ids = free_to_play['gameid']\n",
    "free_to_play_prices = prices[prices['gameid'].isin(free_to_play_ids)]\n",
    "free_to_play_prices.isna().sum()"
   ]
  },
  {
   "cell_type": "markdown",
   "id": "438e07a1-9891-4711-8d40-94b91ca46b37",
   "metadata": {},
   "source": [
    "For analysis later, I will add a column that indicates if the game was free to play or not, then also in the prices, assign the price of 0. "
   ]
  },
  {
   "cell_type": "code",
   "execution_count": 599,
   "id": "a52b995b-749b-46b6-bc19-170306ba070b",
   "metadata": {},
   "outputs": [],
   "source": [
    "games['Free to play'] = 'No'\n",
    "games.loc[games['gameid'].isin(free_to_play_ids), 'Free to play'] = 'Yes'\n",
    "prices = prices.fillna(0.0)\n"
   ]
  },
  {
   "cell_type": "code",
   "execution_count": 600,
   "id": "81cab13b-d140-4bb3-bb71-874f079c6bf1",
   "metadata": {},
   "outputs": [
    {
     "data": {
      "text/html": [
       "<div>\n",
       "<style scoped>\n",
       "    .dataframe tbody tr th:only-of-type {\n",
       "        vertical-align: middle;\n",
       "    }\n",
       "\n",
       "    .dataframe tbody tr th {\n",
       "        vertical-align: top;\n",
       "    }\n",
       "\n",
       "    .dataframe thead th {\n",
       "        text-align: right;\n",
       "    }\n",
       "</style>\n",
       "<table border=\"1\" class=\"dataframe\">\n",
       "  <thead>\n",
       "    <tr style=\"text-align: right;\">\n",
       "      <th></th>\n",
       "      <th>gameid</th>\n",
       "      <th>title</th>\n",
       "      <th>developers</th>\n",
       "      <th>publishers</th>\n",
       "      <th>genres</th>\n",
       "      <th>supported_languages</th>\n",
       "      <th>release_date</th>\n",
       "      <th>Free to play</th>\n",
       "    </tr>\n",
       "  </thead>\n",
       "  <tbody>\n",
       "    <tr>\n",
       "      <th>5</th>\n",
       "      <td>3278740</td>\n",
       "      <td>NEURO</td>\n",
       "      <td>['Revolt Games']</td>\n",
       "      <td>['Strategy First']</td>\n",
       "      <td>[Action]</td>\n",
       "      <td>['English', 'Russian']</td>\n",
       "      <td>2024-10-11</td>\n",
       "      <td>No</td>\n",
       "    </tr>\n",
       "    <tr>\n",
       "      <th>10</th>\n",
       "      <td>3270850</td>\n",
       "      <td>Keep Your Eyes Open</td>\n",
       "      <td>['Texerikus']</td>\n",
       "      <td>['Texerikus']</td>\n",
       "      <td>[Indie]</td>\n",
       "      <td>['English']</td>\n",
       "      <td>2024-10-21</td>\n",
       "      <td>No</td>\n",
       "    </tr>\n",
       "    <tr>\n",
       "      <th>15</th>\n",
       "      <td>3267350</td>\n",
       "      <td>Tiny Shooters</td>\n",
       "      <td>['madilumar']</td>\n",
       "      <td>['Thetinyverse']</td>\n",
       "      <td>[Action, Free To Play]</td>\n",
       "      <td>['English']</td>\n",
       "      <td>2024-10-19</td>\n",
       "      <td>Yes</td>\n",
       "    </tr>\n",
       "  </tbody>\n",
       "</table>\n",
       "</div>"
      ],
      "text/plain": [
       "     gameid                title        developers          publishers  \\\n",
       "5   3278740                NEURO  ['Revolt Games']  ['Strategy First']   \n",
       "10  3270850  Keep Your Eyes Open     ['Texerikus']       ['Texerikus']   \n",
       "15  3267350        Tiny Shooters     ['madilumar']    ['Thetinyverse']   \n",
       "\n",
       "                    genres     supported_languages release_date Free to play  \n",
       "5                 [Action]  ['English', 'Russian']   2024-10-11           No  \n",
       "10                 [Indie]             ['English']   2024-10-21           No  \n",
       "15  [Action, Free To Play]             ['English']   2024-10-19          Yes  "
      ]
     },
     "execution_count": 600,
     "metadata": {},
     "output_type": "execute_result"
    }
   ],
   "source": [
    "games.head(3)"
   ]
  },
  {
   "cell_type": "code",
   "execution_count": 601,
   "id": "464d4e2d-04f0-4906-809e-803286383071",
   "metadata": {},
   "outputs": [
    {
     "data": {
      "text/html": [
       "<div>\n",
       "<style scoped>\n",
       "    .dataframe tbody tr th:only-of-type {\n",
       "        vertical-align: middle;\n",
       "    }\n",
       "\n",
       "    .dataframe tbody tr th {\n",
       "        vertical-align: top;\n",
       "    }\n",
       "\n",
       "    .dataframe thead th {\n",
       "        text-align: right;\n",
       "    }\n",
       "</style>\n",
       "<table border=\"1\" class=\"dataframe\">\n",
       "  <thead>\n",
       "    <tr style=\"text-align: right;\">\n",
       "      <th></th>\n",
       "      <th>gameid</th>\n",
       "      <th>usd</th>\n",
       "      <th>eur</th>\n",
       "      <th>gbp</th>\n",
       "      <th>jpy</th>\n",
       "      <th>rub</th>\n",
       "      <th>date_acquired</th>\n",
       "    </tr>\n",
       "  </thead>\n",
       "  <tbody>\n",
       "    <tr>\n",
       "      <th>5</th>\n",
       "      <td>3278740</td>\n",
       "      <td>5.99</td>\n",
       "      <td>5.85</td>\n",
       "      <td>5.10</td>\n",
       "      <td>720.0</td>\n",
       "      <td>228.0</td>\n",
       "      <td>2024-11-28</td>\n",
       "    </tr>\n",
       "    <tr>\n",
       "      <th>10</th>\n",
       "      <td>3270850</td>\n",
       "      <td>3.99</td>\n",
       "      <td>3.99</td>\n",
       "      <td>3.89</td>\n",
       "      <td>470.0</td>\n",
       "      <td>165.0</td>\n",
       "      <td>2024-11-28</td>\n",
       "    </tr>\n",
       "    <tr>\n",
       "      <th>15</th>\n",
       "      <td>3267350</td>\n",
       "      <td>0.00</td>\n",
       "      <td>0.00</td>\n",
       "      <td>0.00</td>\n",
       "      <td>0.0</td>\n",
       "      <td>0.0</td>\n",
       "      <td>2024-11-28</td>\n",
       "    </tr>\n",
       "  </tbody>\n",
       "</table>\n",
       "</div>"
      ],
      "text/plain": [
       "     gameid   usd   eur   gbp    jpy    rub date_acquired\n",
       "5   3278740  5.99  5.85  5.10  720.0  228.0    2024-11-28\n",
       "10  3270850  3.99  3.99  3.89  470.0  165.0    2024-11-28\n",
       "15  3267350  0.00  0.00  0.00    0.0    0.0    2024-11-28"
      ]
     },
     "execution_count": 601,
     "metadata": {},
     "output_type": "execute_result"
    }
   ],
   "source": [
    "prices.head(3)"
   ]
  },
  {
   "cell_type": "markdown",
   "id": "94a84c07-91a1-42d6-9af6-6e077cc52c7b",
   "metadata": {},
   "source": [
    "Steam uses regional pricing so with the missing values in other currencies it is not a simple matter of converting the price from one currency to another. Furthermore, since we have prices recorded over time, there is the issue of the varying exchange rate to consider. Therefore, instead, as already alluded to earlier on,for our analysis we shall focus only on USD prices. For our table to use less space, we remove the other currencies. Perhaps later on we could try to include them in the analysis. "
   ]
  },
  {
   "cell_type": "code",
   "execution_count": 602,
   "id": "a741956a-2258-439b-8216-7caef089c123",
   "metadata": {},
   "outputs": [],
   "source": [
    "cols_to_drop = ['eur','gbp','jpy','rub']\n",
    "prices = prices.drop(columns= cols_to_drop)\n"
   ]
  },
  {
   "cell_type": "code",
   "execution_count": 288,
   "id": "fd20b808-f9d9-4308-9950-7b2d59837e0e",
   "metadata": {},
   "outputs": [],
   "source": [
    "#prices.to_csv('../steam/prices_cleaned.csv', index=False)\n",
    "#games.to_csv('../steam/games_cleaned.csv', index=False)\n"
   ]
  },
  {
   "cell_type": "markdown",
   "id": "82c22e62-2738-47ce-8963-2bb7384072ad",
   "metadata": {},
   "source": [
    "## Date\n",
    "To enable proper time-series analysis in Power BI, we shall create date tables.\n",
    "The games table has a release date column for when the game was released. The prices table has a date_acquired column which, according to the documentation, is the date when the price was acquired. Each game can have multiple of date_acquired dates since the price can vary over time (for example, during sales) but the release date is expected to be one for each game."
   ]
  },
  {
   "cell_type": "code",
   "execution_count": 294,
   "id": "e825e08a-f014-4dcd-9771-07bc0355751f",
   "metadata": {},
   "outputs": [
    {
     "name": "stderr",
     "output_type": "stream",
     "text": [
      "C:\\Users\\kunen\\AppData\\Local\\Temp\\ipykernel_27872\\1623994211.py:1: SettingWithCopyWarning: \n",
      "A value is trying to be set on a copy of a slice from a DataFrame.\n",
      "Try using .loc[row_indexer,col_indexer] = value instead\n",
      "\n",
      "See the caveats in the documentation: https://pandas.pydata.org/pandas-docs/stable/user_guide/indexing.html#returning-a-view-versus-a-copy\n",
      "  games['release_date'] = pd.to_datetime(games['release_date'], errors='coerce')\n"
     ]
    },
    {
     "data": {
      "text/html": [
       "<div>\n",
       "<style scoped>\n",
       "    .dataframe tbody tr th:only-of-type {\n",
       "        vertical-align: middle;\n",
       "    }\n",
       "\n",
       "    .dataframe tbody tr th {\n",
       "        vertical-align: top;\n",
       "    }\n",
       "\n",
       "    .dataframe thead th {\n",
       "        text-align: right;\n",
       "    }\n",
       "</style>\n",
       "<table border=\"1\" class=\"dataframe\">\n",
       "  <thead>\n",
       "    <tr style=\"text-align: right;\">\n",
       "      <th></th>\n",
       "      <th>gameid</th>\n",
       "      <th>title</th>\n",
       "      <th>developers</th>\n",
       "      <th>publishers</th>\n",
       "      <th>genres</th>\n",
       "      <th>supported_languages</th>\n",
       "      <th>release_date</th>\n",
       "      <th>Free to play</th>\n",
       "    </tr>\n",
       "  </thead>\n",
       "  <tbody>\n",
       "    <tr>\n",
       "      <th>5</th>\n",
       "      <td>3278740</td>\n",
       "      <td>NEURO</td>\n",
       "      <td>['Revolt Games']</td>\n",
       "      <td>['Strategy First']</td>\n",
       "      <td>[Action]</td>\n",
       "      <td>['English', 'Russian']</td>\n",
       "      <td>2024-10-11</td>\n",
       "      <td>No</td>\n",
       "    </tr>\n",
       "    <tr>\n",
       "      <th>10</th>\n",
       "      <td>3270850</td>\n",
       "      <td>Keep Your Eyes Open</td>\n",
       "      <td>['Texerikus']</td>\n",
       "      <td>['Texerikus']</td>\n",
       "      <td>[Indie]</td>\n",
       "      <td>['English']</td>\n",
       "      <td>2024-10-21</td>\n",
       "      <td>No</td>\n",
       "    </tr>\n",
       "  </tbody>\n",
       "</table>\n",
       "</div>"
      ],
      "text/plain": [
       "     gameid                title        developers          publishers  \\\n",
       "5   3278740                NEURO  ['Revolt Games']  ['Strategy First']   \n",
       "10  3270850  Keep Your Eyes Open     ['Texerikus']       ['Texerikus']   \n",
       "\n",
       "      genres     supported_languages release_date Free to play  \n",
       "5   [Action]  ['English', 'Russian']   2024-10-11           No  \n",
       "10   [Indie]             ['English']   2024-10-21           No  "
      ]
     },
     "execution_count": 294,
     "metadata": {},
     "output_type": "execute_result"
    }
   ],
   "source": [
    "games['release_date'] = pd.to_datetime(games['release_date'], errors='coerce')\n",
    "games.head(2)"
   ]
  },
  {
   "cell_type": "code",
   "execution_count": 299,
   "id": "5821e2ea-bf15-40a0-9d39-0f6a6cc3cd18",
   "metadata": {},
   "outputs": [],
   "source": [
    "date_release = pd.DataFrame({\n",
    "    'Date': pd.date_range(start=games['release_date'].min(), end=games['release_date'].max())\n",
    "})\n",
    "date_release['Year'] = date_release['Date'].dt.year\n",
    "date_release['Month'] = date_release['Date'].dt.strftime('%b')\n",
    "date_release['MonthNumber'] = date_release['Date'].dt.month\n",
    "date_release['YearMonth'] = date_release['Date'].dt.strftime('%Y-%m')\n",
    "\n",
    "prices['date_acquired'] = pd.to_datetime(prices['date_acquired'], errors='coerce')\n",
    "\n",
    "date_price = pd.DataFrame({\n",
    "    'Date': pd.date_range(start=prices['date_acquired'].min(), end=prices['date_acquired'].max())\n",
    "})\n",
    "date_price['Year'] = date_price['Date'].dt.year\n",
    "date_price['Month'] = date_price['Date'].dt.strftime('%b')\n",
    "date_price['MonthNumber'] = date_price['Date'].dt.month\n",
    "date_price['YearMonth'] = date_price['Date'].dt.strftime('%Y-%m')\n",
    "\n",
    "date_price.to_csv(\"date_price.csv\", index=False)\n",
    "date_release.to_csv(\"date_release.csv\", index=False)"
   ]
  },
  {
   "cell_type": "markdown",
   "id": "518e67b0-74d5-4a7d-adcf-648ac675e253",
   "metadata": {},
   "source": [
    "## Review table"
   ]
  },
  {
   "cell_type": "markdown",
   "id": "a44e2220-082d-4b27-8ff1-701596b17acd",
   "metadata": {},
   "source": [
    "We now look at the table with reviews. As per the documentation, this has reviewid, playerid, gameid and the review. The main thing we will be concerning ourselves with is the gameid since, later one, this can help in finding the number of reviews per game. We will drop the 'review' column since it will not be useful in our analyses. "
   ]
  },
  {
   "cell_type": "code",
   "execution_count": 603,
   "id": "500aaf67-44d1-4844-9623-2bc477ebcfcf",
   "metadata": {},
   "outputs": [],
   "source": [
    "reviewsdf = pd.read_csv('../steam/reviews.csv')"
   ]
  },
  {
   "cell_type": "code",
   "execution_count": 604,
   "id": "cfd7bdd2-181a-45ee-b1e0-53de753940d0",
   "metadata": {},
   "outputs": [
    {
     "data": {
      "text/html": [
       "<div>\n",
       "<style scoped>\n",
       "    .dataframe tbody tr th:only-of-type {\n",
       "        vertical-align: middle;\n",
       "    }\n",
       "\n",
       "    .dataframe tbody tr th {\n",
       "        vertical-align: top;\n",
       "    }\n",
       "\n",
       "    .dataframe thead th {\n",
       "        text-align: right;\n",
       "    }\n",
       "</style>\n",
       "<table border=\"1\" class=\"dataframe\">\n",
       "  <thead>\n",
       "    <tr style=\"text-align: right;\">\n",
       "      <th></th>\n",
       "      <th>reviewid</th>\n",
       "      <th>playerid</th>\n",
       "      <th>gameid</th>\n",
       "      <th>review</th>\n",
       "      <th>helpful</th>\n",
       "      <th>funny</th>\n",
       "      <th>awards</th>\n",
       "      <th>posted</th>\n",
       "    </tr>\n",
       "  </thead>\n",
       "  <tbody>\n",
       "    <tr>\n",
       "      <th>0</th>\n",
       "      <td>639543</td>\n",
       "      <td>76561198796340888</td>\n",
       "      <td>730</td>\n",
       "      <td>Goud gamę i have 3 vac ban acont but i stilll ...</td>\n",
       "      <td>0</td>\n",
       "      <td>0</td>\n",
       "      <td>0</td>\n",
       "      <td>2018-03-22</td>\n",
       "    </tr>\n",
       "    <tr>\n",
       "      <th>1</th>\n",
       "      <td>639544</td>\n",
       "      <td>76561198028706627</td>\n",
       "      <td>393380</td>\n",
       "      <td>---{ Graphics }---☐ You forget what reality is...</td>\n",
       "      <td>0</td>\n",
       "      <td>0</td>\n",
       "      <td>0</td>\n",
       "      <td>2025-01-03</td>\n",
       "    </tr>\n",
       "    <tr>\n",
       "      <th>2</th>\n",
       "      <td>639545</td>\n",
       "      <td>76561198028706627</td>\n",
       "      <td>10</td>\n",
       "      <td>One of the best FPS games :)</td>\n",
       "      <td>0</td>\n",
       "      <td>0</td>\n",
       "      <td>0</td>\n",
       "      <td>2012-05-13</td>\n",
       "    </tr>\n",
       "  </tbody>\n",
       "</table>\n",
       "</div>"
      ],
      "text/plain": [
       "   reviewid           playerid  gameid  \\\n",
       "0    639543  76561198796340888     730   \n",
       "1    639544  76561198028706627  393380   \n",
       "2    639545  76561198028706627      10   \n",
       "\n",
       "                                              review  helpful  funny  awards  \\\n",
       "0  Goud gamę i have 3 vac ban acont but i stilll ...        0      0       0   \n",
       "1  ---{ Graphics }---☐ You forget what reality is...        0      0       0   \n",
       "2                       One of the best FPS games :)        0      0       0   \n",
       "\n",
       "       posted  \n",
       "0  2018-03-22  \n",
       "1  2025-01-03  \n",
       "2  2012-05-13  "
      ]
     },
     "execution_count": 604,
     "metadata": {},
     "output_type": "execute_result"
    }
   ],
   "source": [
    "reviews = reviewsdf.copy()\n",
    "reviews.head(3)"
   ]
  },
  {
   "cell_type": "code",
   "execution_count": 605,
   "id": "65abf548-f749-4519-b907-63d8372e9e4e",
   "metadata": {},
   "outputs": [
    {
     "data": {
      "text/html": [
       "<div>\n",
       "<style scoped>\n",
       "    .dataframe tbody tr th:only-of-type {\n",
       "        vertical-align: middle;\n",
       "    }\n",
       "\n",
       "    .dataframe tbody tr th {\n",
       "        vertical-align: top;\n",
       "    }\n",
       "\n",
       "    .dataframe thead th {\n",
       "        text-align: right;\n",
       "    }\n",
       "</style>\n",
       "<table border=\"1\" class=\"dataframe\">\n",
       "  <thead>\n",
       "    <tr style=\"text-align: right;\">\n",
       "      <th></th>\n",
       "      <th>reviewid</th>\n",
       "      <th>playerid</th>\n",
       "      <th>gameid</th>\n",
       "      <th>helpful</th>\n",
       "      <th>funny</th>\n",
       "      <th>awards</th>\n",
       "      <th>posted</th>\n",
       "    </tr>\n",
       "  </thead>\n",
       "  <tbody>\n",
       "    <tr>\n",
       "      <th>0</th>\n",
       "      <td>639543</td>\n",
       "      <td>76561198796340888</td>\n",
       "      <td>730</td>\n",
       "      <td>0</td>\n",
       "      <td>0</td>\n",
       "      <td>0</td>\n",
       "      <td>2018-03-22</td>\n",
       "    </tr>\n",
       "    <tr>\n",
       "      <th>1</th>\n",
       "      <td>639544</td>\n",
       "      <td>76561198028706627</td>\n",
       "      <td>393380</td>\n",
       "      <td>0</td>\n",
       "      <td>0</td>\n",
       "      <td>0</td>\n",
       "      <td>2025-01-03</td>\n",
       "    </tr>\n",
       "    <tr>\n",
       "      <th>2</th>\n",
       "      <td>639545</td>\n",
       "      <td>76561198028706627</td>\n",
       "      <td>10</td>\n",
       "      <td>0</td>\n",
       "      <td>0</td>\n",
       "      <td>0</td>\n",
       "      <td>2012-05-13</td>\n",
       "    </tr>\n",
       "  </tbody>\n",
       "</table>\n",
       "</div>"
      ],
      "text/plain": [
       "   reviewid           playerid  gameid  helpful  funny  awards      posted\n",
       "0    639543  76561198796340888     730        0      0       0  2018-03-22\n",
       "1    639544  76561198028706627  393380        0      0       0  2025-01-03\n",
       "2    639545  76561198028706627      10        0      0       0  2012-05-13"
      ]
     },
     "execution_count": 605,
     "metadata": {},
     "output_type": "execute_result"
    }
   ],
   "source": [
    "reviews = reviews.drop(columns=['review'])\n",
    "reviews.head(3)"
   ]
  },
  {
   "cell_type": "code",
   "execution_count": 606,
   "id": "10903e15-cf0f-4a2e-82df-485982f0a324",
   "metadata": {},
   "outputs": [
    {
     "name": "stdout",
     "output_type": "stream",
     "text": [
      "Total review gameids missing in original games: 161\n"
     ]
    }
   ],
   "source": [
    "original_unmatched_ids = set(reviewsdf['gameid']) - set(gamesdf['gameid'])\n",
    "print(f\"Total review gameids missing in original games: {len(original_unmatched_ids)}\")\n"
   ]
  },
  {
   "cell_type": "markdown",
   "id": "6cd7307d-53d6-4362-b585-81dce3196820",
   "metadata": {},
   "source": [
    "We will want to check if all the game ids in the reviews table appear in our main games table. It would be problematic to have a review for a game but no way to verify which game it is. First we check the number of unique ids in each."
   ]
  },
  {
   "cell_type": "code",
   "execution_count": 515,
   "id": "4e7c2c80-9748-4184-9a02-a83350dc92c3",
   "metadata": {},
   "outputs": [
    {
     "name": "stdout",
     "output_type": "stream",
     "text": [
      "Number of games reviewed is: 51910\n",
      "Total number of games is: 92964\n"
     ]
    }
   ],
   "source": [
    "num_games_reviewed = reviews['gameid'].nunique()\n",
    "tot_games = games['gameid'].nunique()\n",
    "print(f'Number of games reviewed is: {num_games_reviewed}')\n",
    "print(f'Total number of games is: {tot_games}')"
   ]
  },
  {
   "cell_type": "markdown",
   "id": "aba5bd3b-1fc8-454d-a4ba-d3f36ac3fc85",
   "metadata": {},
   "source": [
    "From above it appears not all games were reviewed (so some games have zero reviews). With this in mind, we can create a variable \"HasReview\", perhaps it will be important later. But first we will check if all gameids in reviews appear in games. It appears that in the reviews table, there are some game ids that do not appear in the main games table (235 of these). This is concerning as the games table is the main games table with all game related information. Perhaps these rogue games are those we removed that were playtests. "
   ]
  },
  {
   "cell_type": "code",
   "execution_count": 508,
   "id": "72d86eb1-966b-434e-9e30-ca01f08899a7",
   "metadata": {},
   "outputs": [
    {
     "name": "stdout",
     "output_type": "stream",
     "text": [
      "Number of games in reviews table that do not appear in games table: 235\n"
     ]
    }
   ],
   "source": [
    "#set(reviews['gameid'])\n",
    "#set(reviews['gameid']) == set(games['gameid'])\n",
    "review_id_not_in_games = list(set(reviews['gameid']) - set(games['gameid'])) #IDs in reviews not in games\n",
    "\n",
    "print(f'Number of games in reviews table that do not appear in games table: {len(review_id_not_in_games)}')"
   ]
  },
  {
   "cell_type": "code",
   "execution_count": 608,
   "id": "37d42e4b-e927-4dee-b6be-e76ef4c60f80",
   "metadata": {},
   "outputs": [
    {
     "name": "stdout",
     "output_type": "stream",
     "text": [
      "Number of games in reviews table that do not appear in games table: 235\n",
      "Number of games in reviews not in games table but are in the playtest: 72\n",
      "Number of games in reviews that do not appear in games after removing playtests: 163\n"
     ]
    }
   ],
   "source": [
    "reviews_ids = set(reviews['gameid'])\n",
    "games_ids = set(games['gameid'])\n",
    "# IDs in reviews that don't exist in games\n",
    "review_id_not_in_games = reviews_ids - games_ids\n",
    "print(\"Number of games in reviews table that do not appear in games table:\", len(review_id_not_in_games))  \n",
    "unmatched_playtest_ids = review_id_not_in_games.intersection(playtest_ids)\n",
    "print(\"Number of games in reviews not in games table but are in the playtest:\", len(unmatched_playtest_ids))  \n",
    "remaining_unmatched = review_id_not_in_games - unmatched_playtest_ids\n",
    "print(\"Number of games in reviews that do not appear in games after removing playtests:\", len(expected_remaining_unmatched))  \n"
   ]
  },
  {
   "cell_type": "markdown",
   "id": "d57a0457-7062-4ca2-ae54-a3ab425fb5c6",
   "metadata": {},
   "source": [
    "We have 72 playtest games. We shall remove these from the reviews for consistency. Then we continue to investigate which IDs are not in main games tables."
   ]
  },
  {
   "cell_type": "code",
   "execution_count": 609,
   "id": "85e6cf40-65bb-47ff-81ff-917b94bb0bfe",
   "metadata": {},
   "outputs": [
    {
     "name": "stdout",
     "output_type": "stream",
     "text": [
      "Unmatched review gameids (post-playtest-removal): 163\n"
     ]
    }
   ],
   "source": [
    "reviews = reviews[~reviews['gameid'].isin(playtest_ids)]\n",
    "# sanity check\n",
    "games_ids = set(games['gameid'])\n",
    "reviews_ids = set(reviews['gameid'])# Gameids in reviews (after playtest removal)\n",
    "unmatched_review_ids = reviews_ids - games_ids # IDs in reviews that are NOT in games\n",
    "\n",
    "print(f\"Unmatched review gameids (post-playtest-removal): {len(unmatched_review_ids)}\")  # Expect 163\n"
   ]
  },
  {
   "cell_type": "markdown",
   "id": "d7800bec-beb9-4680-aec6-bbbb881653e8",
   "metadata": {},
   "source": [
    "We will also remove the no title games like we did for games and prices (in this case its just one of the games appearing in reviews)\n"
   ]
  },
  {
   "cell_type": "code",
   "execution_count": 536,
   "id": "a0c3f8f9-4067-4017-94ca-d863a56c9a68",
   "metadata": {},
   "outputs": [
    {
     "data": {
      "text/plain": [
       "2853     False\n",
       "39705    False\n",
       "77700     True\n",
       "Name: gameid, dtype: bool"
      ]
     },
     "execution_count": 536,
     "metadata": {},
     "output_type": "execute_result"
    }
   ],
   "source": [
    "no_title_games['gameid'].isin(reviews['gameid'])"
   ]
  },
  {
   "cell_type": "code",
   "execution_count": 610,
   "id": "a136ee1c-d8bc-44f8-8d09-6f795d12346c",
   "metadata": {},
   "outputs": [],
   "source": [
    "reviews = reviews[~reviews['gameid'].isin(no_title_games['gameid'])]"
   ]
  },
  {
   "cell_type": "code",
   "execution_count": 611,
   "id": "622c9086-474d-4251-8970-f1d3efcc0b8c",
   "metadata": {},
   "outputs": [
    {
     "name": "stdout",
     "output_type": "stream",
     "text": [
      "Unmatched review gameids (post-playtest-no-title-removal): 162\n"
     ]
    }
   ],
   "source": [
    "# sanity check\n",
    "games_ids = set(games['gameid'])\n",
    "reviews_ids = set(reviews['gameid'])# Gameids in reviews (after playtest and no title games removal)\n",
    "unmatched_review_ids = reviews_ids - games_ids # IDs in reviews that are NOT in games\n",
    "\n",
    "print(f\"Unmatched review gameids (post-playtest-no-title-removal): {len(unmatched_review_ids)}\")  # Expect 162\n"
   ]
  },
  {
   "cell_type": "markdown",
   "id": "67bde38a-eb91-4da8-9226-486f08073f0a",
   "metadata": {},
   "source": [
    "We have no 162 games that appear in reviews but do not appear in games. Since these games have no information associated with them in the games table, I am making the decision to remove these. Perhaps it is a case of missing data in games table (perhaps de-listed games) or incorrectly captured ids in the review table. In anycase, with now way to verify game information (like title, developers etc) these would be of little use, hence the decision. "
   ]
  },
  {
   "cell_type": "code",
   "execution_count": null,
   "id": "a662c7db-e92e-4dd7-b1b5-4b7bfa1f044b",
   "metadata": {},
   "outputs": [],
   "source": [
    "# Keep only reviews whose gameid appears in the main games table\n",
    "reviews = reviews[reviews['gameid'].isin(games['gameid'])].copy()\n"
   ]
  },
  {
   "cell_type": "markdown",
   "id": "ea975acc-b9ca-44a5-a798-00e885f6cc1a",
   "metadata": {},
   "source": [
    "## Achievements \n",
    "The table achievements contains:\n",
    "* achievementid - unique achievementID, constructed as gameID + '_' + achievementNotUniqueID\n",
    "* gameid - unique gameID on the Steam platform\n",
    "* title - achievement title\n",
    "* description - description of how to unlock the achievement\n",
    "\n",
    "For data consistency here, I will keep only the achievements that have games ids in the main games table. We will also drop the title and description for our analyses."
   ]
  },
  {
   "cell_type": "code",
   "execution_count": 616,
   "id": "1162b039-db99-4b9f-ae60-18531865bf38",
   "metadata": {},
   "outputs": [],
   "source": [
    "achievementsdf = pd.read_csv('../steam/achievements.csv')"
   ]
  },
  {
   "cell_type": "code",
   "execution_count": 626,
   "id": "6b13ca9f-485c-4648-929d-5f8ec37a7202",
   "metadata": {},
   "outputs": [],
   "source": [
    "achievements = achievementsdf.copy()"
   ]
  },
  {
   "cell_type": "code",
   "execution_count": 618,
   "id": "9514eeeb-ad9a-4bcf-b442-baeff7642ca7",
   "metadata": {},
   "outputs": [
    {
     "data": {
      "text/html": [
       "<div>\n",
       "<style scoped>\n",
       "    .dataframe tbody tr th:only-of-type {\n",
       "        vertical-align: middle;\n",
       "    }\n",
       "\n",
       "    .dataframe tbody tr th {\n",
       "        vertical-align: top;\n",
       "    }\n",
       "\n",
       "    .dataframe thead th {\n",
       "        text-align: right;\n",
       "    }\n",
       "</style>\n",
       "<table border=\"1\" class=\"dataframe\">\n",
       "  <thead>\n",
       "    <tr style=\"text-align: right;\">\n",
       "      <th></th>\n",
       "      <th>achievementid</th>\n",
       "      <th>gameid</th>\n",
       "      <th>title</th>\n",
       "      <th>description</th>\n",
       "    </tr>\n",
       "  </thead>\n",
       "  <tbody>\n",
       "    <tr>\n",
       "      <th>0</th>\n",
       "      <td>2621440_ACH_FIRST_KILL</td>\n",
       "      <td>2621440</td>\n",
       "      <td>FIRST KILL</td>\n",
       "      <td>You should kill ONE enemy.</td>\n",
       "    </tr>\n",
       "    <tr>\n",
       "      <th>1</th>\n",
       "      <td>2621440_ACH_0_LEVEL_COMPLETED</td>\n",
       "      <td>2621440</td>\n",
       "      <td>TUTORIAL COMPLETED</td>\n",
       "      <td>You should complete tutorial.</td>\n",
       "    </tr>\n",
       "    <tr>\n",
       "      <th>2</th>\n",
       "      <td>2621440_ACH_1_LEVEL_COMPLETED</td>\n",
       "      <td>2621440</td>\n",
       "      <td>FIRST LEVEL</td>\n",
       "      <td>You should complete first level</td>\n",
       "    </tr>\n",
       "    <tr>\n",
       "      <th>3</th>\n",
       "      <td>2621440_ACH_2_LEVEL_COMPLETED</td>\n",
       "      <td>2621440</td>\n",
       "      <td>SECOND LEVEL</td>\n",
       "      <td>You should complete second level</td>\n",
       "    </tr>\n",
       "    <tr>\n",
       "      <th>4</th>\n",
       "      <td>2621440_ACH_3_LEVEL_COMPLETED</td>\n",
       "      <td>2621440</td>\n",
       "      <td>THIRD LEVEL</td>\n",
       "      <td>You should complete third level</td>\n",
       "    </tr>\n",
       "  </tbody>\n",
       "</table>\n",
       "</div>"
      ],
      "text/plain": [
       "                   achievementid   gameid               title  \\\n",
       "0         2621440_ACH_FIRST_KILL  2621440          FIRST KILL   \n",
       "1  2621440_ACH_0_LEVEL_COMPLETED  2621440  TUTORIAL COMPLETED   \n",
       "2  2621440_ACH_1_LEVEL_COMPLETED  2621440         FIRST LEVEL   \n",
       "3  2621440_ACH_2_LEVEL_COMPLETED  2621440        SECOND LEVEL   \n",
       "4  2621440_ACH_3_LEVEL_COMPLETED  2621440         THIRD LEVEL   \n",
       "\n",
       "                        description  \n",
       "0        You should kill ONE enemy.  \n",
       "1     You should complete tutorial.  \n",
       "2   You should complete first level  \n",
       "3  You should complete second level  \n",
       "4   You should complete third level  "
      ]
     },
     "execution_count": 618,
     "metadata": {},
     "output_type": "execute_result"
    }
   ],
   "source": [
    "achievements.head()"
   ]
  },
  {
   "cell_type": "code",
   "execution_count": 627,
   "id": "f7e75bed-51af-4d46-be33-e65ca65c5b7a",
   "metadata": {},
   "outputs": [],
   "source": [
    "unmatched_achievements = achievements[~achievements['gameid'].isin(games['gameid'])].copy() #in case I want to come back later and analyse\n",
    "achievements = achievements[achievements['gameid'].isin(games['gameid'])].copy()\n",
    "achievements = achievements.drop(columns= ['title', 'description'])"
   ]
  },
  {
   "cell_type": "code",
   "execution_count": 656,
   "id": "78ec30c3-6fca-402e-91ba-833717c91724",
   "metadata": {},
   "outputs": [
    {
     "data": {
      "text/html": [
       "<div>\n",
       "<style scoped>\n",
       "    .dataframe tbody tr th:only-of-type {\n",
       "        vertical-align: middle;\n",
       "    }\n",
       "\n",
       "    .dataframe tbody tr th {\n",
       "        vertical-align: top;\n",
       "    }\n",
       "\n",
       "    .dataframe thead th {\n",
       "        text-align: right;\n",
       "    }\n",
       "</style>\n",
       "<table border=\"1\" class=\"dataframe\">\n",
       "  <thead>\n",
       "    <tr style=\"text-align: right;\">\n",
       "      <th></th>\n",
       "      <th>achievementid</th>\n",
       "      <th>gameid</th>\n",
       "    </tr>\n",
       "  </thead>\n",
       "  <tbody>\n",
       "    <tr>\n",
       "      <th>0</th>\n",
       "      <td>2621440_ACH_FIRST_KILL</td>\n",
       "      <td>2621440</td>\n",
       "    </tr>\n",
       "    <tr>\n",
       "      <th>1</th>\n",
       "      <td>2621440_ACH_0_LEVEL_COMPLETED</td>\n",
       "      <td>2621440</td>\n",
       "    </tr>\n",
       "    <tr>\n",
       "      <th>2</th>\n",
       "      <td>2621440_ACH_1_LEVEL_COMPLETED</td>\n",
       "      <td>2621440</td>\n",
       "    </tr>\n",
       "    <tr>\n",
       "      <th>3</th>\n",
       "      <td>2621440_ACH_2_LEVEL_COMPLETED</td>\n",
       "      <td>2621440</td>\n",
       "    </tr>\n",
       "    <tr>\n",
       "      <th>4</th>\n",
       "      <td>2621440_ACH_3_LEVEL_COMPLETED</td>\n",
       "      <td>2621440</td>\n",
       "    </tr>\n",
       "  </tbody>\n",
       "</table>\n",
       "</div>"
      ],
      "text/plain": [
       "                   achievementid   gameid\n",
       "0         2621440_ACH_FIRST_KILL  2621440\n",
       "1  2621440_ACH_0_LEVEL_COMPLETED  2621440\n",
       "2  2621440_ACH_1_LEVEL_COMPLETED  2621440\n",
       "3  2621440_ACH_2_LEVEL_COMPLETED  2621440\n",
       "4  2621440_ACH_3_LEVEL_COMPLETED  2621440"
      ]
     },
     "execution_count": 656,
     "metadata": {},
     "output_type": "execute_result"
    }
   ],
   "source": [
    "achievements.head()"
   ]
  },
  {
   "cell_type": "code",
   "execution_count": 631,
   "id": "8a3e0921-754e-45c7-b77f-7e80f8795218",
   "metadata": {},
   "outputs": [
    {
     "data": {
      "text/plain": [
       "486"
      ]
     },
     "execution_count": 631,
     "metadata": {},
     "output_type": "execute_result"
    }
   ],
   "source": [
    "unmatched_achievements['gameid'].nunique()"
   ]
  },
  {
   "cell_type": "code",
   "execution_count": 632,
   "id": "be88d3d4-604f-43b0-be50-4ac77ea2d635",
   "metadata": {},
   "outputs": [
    {
     "data": {
      "text/html": [
       "<div>\n",
       "<style scoped>\n",
       "    .dataframe tbody tr th:only-of-type {\n",
       "        vertical-align: middle;\n",
       "    }\n",
       "\n",
       "    .dataframe tbody tr th {\n",
       "        vertical-align: top;\n",
       "    }\n",
       "\n",
       "    .dataframe thead th {\n",
       "        text-align: right;\n",
       "    }\n",
       "</style>\n",
       "<table border=\"1\" class=\"dataframe\">\n",
       "  <thead>\n",
       "    <tr style=\"text-align: right;\">\n",
       "      <th></th>\n",
       "      <th>achievementid</th>\n",
       "      <th>gameid</th>\n",
       "      <th>title</th>\n",
       "      <th>description</th>\n",
       "    </tr>\n",
       "  </thead>\n",
       "  <tbody>\n",
       "    <tr>\n",
       "      <th>9761</th>\n",
       "      <td>2884310_AC_OpenTheDoor</td>\n",
       "      <td>2884310</td>\n",
       "      <td>Open the door</td>\n",
       "      <td>Replace the Bypass chip of the door control.</td>\n",
       "    </tr>\n",
       "    <tr>\n",
       "      <th>9762</th>\n",
       "      <td>2884310_AC_NANDDone</td>\n",
       "      <td>2884310</td>\n",
       "      <td>NAND Designer</td>\n",
       "      <td>Create a NAND gate.</td>\n",
       "    </tr>\n",
       "    <tr>\n",
       "      <th>9763</th>\n",
       "      <td>2884310_AC_Chapter1Done</td>\n",
       "      <td>2884310</td>\n",
       "      <td>Ghost in the Grid</td>\n",
       "      <td>Complete the Chapter 1.</td>\n",
       "    </tr>\n",
       "    <tr>\n",
       "      <th>9764</th>\n",
       "      <td>2884310_AC_64BitAdderDone</td>\n",
       "      <td>2884310</td>\n",
       "      <td>Carry Champion</td>\n",
       "      <td>Create an unreasonable 64-bit Adder.</td>\n",
       "    </tr>\n",
       "    <tr>\n",
       "      <th>9765</th>\n",
       "      <td>2884310_AC_8BitMultiplierDone</td>\n",
       "      <td>2884310</td>\n",
       "      <td>Multiplier Maverick</td>\n",
       "      <td>Multiply the unthinkable and came out on top. ...</td>\n",
       "    </tr>\n",
       "    <tr>\n",
       "      <th>...</th>\n",
       "      <td>...</td>\n",
       "      <td>...</td>\n",
       "      <td>...</td>\n",
       "      <td>...</td>\n",
       "    </tr>\n",
       "    <tr>\n",
       "      <th>1938857</th>\n",
       "      <td>3288950_GOOD_INFLUENCE_0</td>\n",
       "      <td>3288950</td>\n",
       "      <td>Brick by Brick</td>\n",
       "      <td>Sacrifice your inner desires to help everyone</td>\n",
       "    </tr>\n",
       "    <tr>\n",
       "      <th>1938858</th>\n",
       "      <td>3288950_LOSE_0</td>\n",
       "      <td>3288950</td>\n",
       "      <td>No Room In Heaven</td>\n",
       "      <td>Get locked out of heaven for nothing</td>\n",
       "    </tr>\n",
       "    <tr>\n",
       "      <th>1938859</th>\n",
       "      <td>3288950_WING_UPGRADE_0</td>\n",
       "      <td>3288950</td>\n",
       "      <td>Surge of Power!</td>\n",
       "      <td>NaN</td>\n",
       "    </tr>\n",
       "    <tr>\n",
       "      <th>1938860</th>\n",
       "      <td>3288950_WIN_1</td>\n",
       "      <td>3288950</td>\n",
       "      <td>Okaeri, Maou-sama</td>\n",
       "      <td>NaN</td>\n",
       "    </tr>\n",
       "    <tr>\n",
       "      <th>1938861</th>\n",
       "      <td>3288950_WIN_0</td>\n",
       "      <td>3288950</td>\n",
       "      <td>Welcome back, Kazfiel. You've made some new fr...</td>\n",
       "      <td>NaN</td>\n",
       "    </tr>\n",
       "  </tbody>\n",
       "</table>\n",
       "<p>10768 rows × 4 columns</p>\n",
       "</div>"
      ],
      "text/plain": [
       "                         achievementid   gameid  \\\n",
       "9761            2884310_AC_OpenTheDoor  2884310   \n",
       "9762               2884310_AC_NANDDone  2884310   \n",
       "9763           2884310_AC_Chapter1Done  2884310   \n",
       "9764         2884310_AC_64BitAdderDone  2884310   \n",
       "9765     2884310_AC_8BitMultiplierDone  2884310   \n",
       "...                                ...      ...   \n",
       "1938857       3288950_GOOD_INFLUENCE_0  3288950   \n",
       "1938858                 3288950_LOSE_0  3288950   \n",
       "1938859         3288950_WING_UPGRADE_0  3288950   \n",
       "1938860                  3288950_WIN_1  3288950   \n",
       "1938861                  3288950_WIN_0  3288950   \n",
       "\n",
       "                                                     title  \\\n",
       "9761                                         Open the door   \n",
       "9762                                         NAND Designer   \n",
       "9763                                     Ghost in the Grid   \n",
       "9764                                        Carry Champion   \n",
       "9765                                   Multiplier Maverick   \n",
       "...                                                    ...   \n",
       "1938857                                     Brick by Brick   \n",
       "1938858                                  No Room In Heaven   \n",
       "1938859                                    Surge of Power!   \n",
       "1938860                                  Okaeri, Maou-sama   \n",
       "1938861  Welcome back, Kazfiel. You've made some new fr...   \n",
       "\n",
       "                                               description  \n",
       "9761          Replace the Bypass chip of the door control.  \n",
       "9762                                   Create a NAND gate.  \n",
       "9763                               Complete the Chapter 1.  \n",
       "9764                  Create an unreasonable 64-bit Adder.  \n",
       "9765     Multiply the unthinkable and came out on top. ...  \n",
       "...                                                    ...  \n",
       "1938857      Sacrifice your inner desires to help everyone  \n",
       "1938858               Get locked out of heaven for nothing  \n",
       "1938859                                                NaN  \n",
       "1938860                                                NaN  \n",
       "1938861                                                NaN  \n",
       "\n",
       "[10768 rows x 4 columns]"
      ]
     },
     "execution_count": 632,
     "metadata": {},
     "output_type": "execute_result"
    }
   ],
   "source": [
    "unmatched_achievements"
   ]
  },
  {
   "cell_type": "markdown",
   "id": "37f78df4-bae7-487e-81b2-15b2286e2962",
   "metadata": {},
   "source": [
    "## History \n",
    "The table history contains:\n",
    "* playerid - unique userID on the Steam platform who earned achievementID\n",
    "* achievementid - unique achievementID, constructed as gameID + '_' + achievementNotUniqueID\n",
    "* date_acquired - timestamp of when the achievement was earned\n",
    "\n",
    "For data consistency here, I will keep only the rows where the achievementid is in the cleaned achievements table."
   ]
  },
  {
   "cell_type": "code",
   "execution_count": 641,
   "id": "8501f3e6-5bc5-4ee1-8f04-93d833d16b1e",
   "metadata": {},
   "outputs": [],
   "source": [
    "historydf = pd.read_csv(\"../steam/history.csv\")"
   ]
  },
  {
   "cell_type": "code",
   "execution_count": 642,
   "id": "45f40e9e-0b43-4156-af81-612ca293bc2c",
   "metadata": {},
   "outputs": [],
   "source": [
    "history = historydf.copy()"
   ]
  },
  {
   "cell_type": "code",
   "execution_count": 643,
   "id": "0a89ff5b-ff7b-40d0-9d8d-636457ad8315",
   "metadata": {},
   "outputs": [
    {
     "data": {
      "text/html": [
       "<div>\n",
       "<style scoped>\n",
       "    .dataframe tbody tr th:only-of-type {\n",
       "        vertical-align: middle;\n",
       "    }\n",
       "\n",
       "    .dataframe tbody tr th {\n",
       "        vertical-align: top;\n",
       "    }\n",
       "\n",
       "    .dataframe thead th {\n",
       "        text-align: right;\n",
       "    }\n",
       "</style>\n",
       "<table border=\"1\" class=\"dataframe\">\n",
       "  <thead>\n",
       "    <tr style=\"text-align: right;\">\n",
       "      <th></th>\n",
       "      <th>playerid</th>\n",
       "      <th>achievementid</th>\n",
       "      <th>date_acquired</th>\n",
       "    </tr>\n",
       "  </thead>\n",
       "  <tbody>\n",
       "    <tr>\n",
       "      <th>0</th>\n",
       "      <td>76561198220441373</td>\n",
       "      <td>403640_ACH_1</td>\n",
       "      <td>2019-12-18 15:33:43</td>\n",
       "    </tr>\n",
       "    <tr>\n",
       "      <th>1</th>\n",
       "      <td>76561198220441373</td>\n",
       "      <td>403640_ACH_2</td>\n",
       "      <td>2019-12-18 23:49:51</td>\n",
       "    </tr>\n",
       "    <tr>\n",
       "      <th>2</th>\n",
       "      <td>76561198220441373</td>\n",
       "      <td>403640_ACH_3</td>\n",
       "      <td>2019-12-19 23:05:07</td>\n",
       "    </tr>\n",
       "  </tbody>\n",
       "</table>\n",
       "</div>"
      ],
      "text/plain": [
       "            playerid achievementid        date_acquired\n",
       "0  76561198220441373  403640_ACH_1  2019-12-18 15:33:43\n",
       "1  76561198220441373  403640_ACH_2  2019-12-18 23:49:51\n",
       "2  76561198220441373  403640_ACH_3  2019-12-19 23:05:07"
      ]
     },
     "execution_count": 643,
     "metadata": {},
     "output_type": "execute_result"
    }
   ],
   "source": [
    "history.head(3)"
   ]
  },
  {
   "cell_type": "code",
   "execution_count": 644,
   "id": "c1a833ac-1dec-4fc5-b3d9-c1fd6b28f162",
   "metadata": {},
   "outputs": [
    {
     "name": "stdout",
     "output_type": "stream",
     "text": [
      "<class 'pandas.core.frame.DataFrame'>\n",
      "RangeIndex: 10693879 entries, 0 to 10693878\n",
      "Data columns (total 3 columns):\n",
      " #   Column         Dtype \n",
      "---  ------         ----- \n",
      " 0   playerid       int64 \n",
      " 1   achievementid  object\n",
      " 2   date_acquired  object\n",
      "dtypes: int64(1), object(2)\n",
      "memory usage: 244.8+ MB\n"
     ]
    }
   ],
   "source": [
    "history.info()"
   ]
  },
  {
   "cell_type": "markdown",
   "id": "29c4dbff-8497-4c45-b86f-825a22900515",
   "metadata": {},
   "source": [
    "Luckily for this table, it appears there aren't any missing values. "
   ]
  },
  {
   "cell_type": "code",
   "execution_count": 645,
   "id": "1d731503-354e-4add-821a-8964431c4eb2",
   "metadata": {},
   "outputs": [
    {
     "data": {
      "text/html": [
       "<div>\n",
       "<style scoped>\n",
       "    .dataframe tbody tr th:only-of-type {\n",
       "        vertical-align: middle;\n",
       "    }\n",
       "\n",
       "    .dataframe tbody tr th {\n",
       "        vertical-align: top;\n",
       "    }\n",
       "\n",
       "    .dataframe thead th {\n",
       "        text-align: right;\n",
       "    }\n",
       "</style>\n",
       "<table border=\"1\" class=\"dataframe\">\n",
       "  <thead>\n",
       "    <tr style=\"text-align: right;\">\n",
       "      <th></th>\n",
       "      <th>Number of Missing Values</th>\n",
       "      <th>Percent of Total Values</th>\n",
       "    </tr>\n",
       "  </thead>\n",
       "  <tbody>\n",
       "    <tr>\n",
       "      <th>playerid</th>\n",
       "      <td>0</td>\n",
       "      <td>0.0</td>\n",
       "    </tr>\n",
       "    <tr>\n",
       "      <th>achievementid</th>\n",
       "      <td>0</td>\n",
       "      <td>0.0</td>\n",
       "    </tr>\n",
       "    <tr>\n",
       "      <th>date_acquired</th>\n",
       "      <td>0</td>\n",
       "      <td>0.0</td>\n",
       "    </tr>\n",
       "  </tbody>\n",
       "</table>\n",
       "</div>"
      ],
      "text/plain": [
       "               Number of Missing Values  Percent of Total Values\n",
       "playerid                              0                      0.0\n",
       "achievementid                         0                      0.0\n",
       "date_acquired                         0                      0.0"
      ]
     },
     "execution_count": 645,
     "metadata": {},
     "output_type": "execute_result"
    }
   ],
   "source": [
    "miss_per_col  = miss_val_per(history)\n",
    "miss_per_col"
   ]
  },
  {
   "cell_type": "markdown",
   "id": "8186b950-f47c-49cc-9034-fa148f08d9e0",
   "metadata": {},
   "source": [
    "There are 1928259 unique achievements and from below, it appears that quite a number of achievements (1043018) haven't been 'achieved'. "
   ]
  },
  {
   "cell_type": "code",
   "execution_count": 658,
   "id": "1faf432d-c148-413f-aa56-9b6e751af90d",
   "metadata": {},
   "outputs": [
    {
     "name": "stdout",
     "output_type": "stream",
     "text": [
      "Number of unique achievements: 1928259\n",
      "Number of achievements that haven't been achieved yet: 1043018\n"
     ]
    }
   ],
   "source": [
    "number_of_achievements = set(achievements['achievementid'])\n",
    "number_of_achieved_achievements = set(history['achievementid'])\n",
    "achievements_not_achieved = number_of_achievements - number_of_achieved_achievements\n",
    "#perc_achievements_not_achieved = achievements_not_achieved / number_of_achievements * 100\n",
    "print(f\"Number of unique achievements: {len(number_of_achievements)}\")\n",
    "print(f\"Number of achievements that haven't been achieved yet: {len(achievements_not_achieved)}\")\n",
    "#print(f\"Percentage of achievements that haven't been achieved yet: {perc_achievements_not_achieved: 0.2f}%\")\n"
   ]
  },
  {
   "cell_type": "code",
   "execution_count": 655,
   "id": "4c2790c7-5405-4ac9-960b-053245280ef4",
   "metadata": {},
   "outputs": [
    {
     "data": {
      "text/plain": [
       "1043018"
      ]
     },
     "execution_count": 655,
     "metadata": {},
     "output_type": "execute_result"
    }
   ],
   "source": [
    "len(set(achievements['achievementid'])-set(history['achievementid']))"
   ]
  },
  {
   "cell_type": "code",
   "execution_count": 657,
   "id": "c070c259-25ae-4edd-b563-78d34134f861",
   "metadata": {},
   "outputs": [
    {
     "data": {
      "text/plain": [
       "1041271"
      ]
     },
     "execution_count": 657,
     "metadata": {},
     "output_type": "execute_result"
    }
   ],
   "source": [
    "len(set(achievements['achievementid']))-len(set(history['achievementid']))"
   ]
  },
  {
   "cell_type": "code",
   "execution_count": 637,
   "id": "e769894c-70d5-40cc-941e-bfc650714f95",
   "metadata": {},
   "outputs": [],
   "source": [
    "prices.to_csv('../steam/prices_cleaned.csv', index=False)\n",
    "games.to_csv('../steam/games_cleaned.csv', index=False)\n",
    "achievements.to_csv('../steam/achievements_cleaned.csv', index=False)\n",
    "reviews.to_csv('../steam/reviews_cleaned.csv', index=False)"
   ]
  },
  {
   "cell_type": "markdown",
   "id": "ada84760-beaa-458b-834f-0020fd832a4f",
   "metadata": {},
   "source": [
    "## Summary\n",
    "This is what we have done in this notebok:\n",
    "* Removed irrelevant or inconsistent records, such as playtest games\n",
    "\n",
    "* Handled missing values appropriately across all key fields\n",
    "\n",
    "* Standardised data types and formats (e.g., date formats, game IDs, price as float)\n",
    "\n",
    "* Converted stringified lists (e.g., developers, genres) into actual Python lists for later normalization\n",
    "\n",
    "* Ensured data consistency across tables (e.g., all references to gameid are valid and aligned)"
   ]
  },
  {
   "cell_type": "code",
   "execution_count": null,
   "id": "9fbbe5e5-73f1-43c9-845b-71bad3e0a923",
   "metadata": {},
   "outputs": [],
   "source": []
  }
 ],
 "metadata": {
  "kernelspec": {
   "display_name": "Python 3 (ipykernel)",
   "language": "python",
   "name": "python3"
  },
  "language_info": {
   "codemirror_mode": {
    "name": "ipython",
    "version": 3
   },
   "file_extension": ".py",
   "mimetype": "text/x-python",
   "name": "python",
   "nbconvert_exporter": "python",
   "pygments_lexer": "ipython3",
   "version": "3.12.9"
  }
 },
 "nbformat": 4,
 "nbformat_minor": 5
}
