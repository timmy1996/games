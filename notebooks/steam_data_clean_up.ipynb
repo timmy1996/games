{
 "cells": [
  {
   "cell_type": "markdown",
   "id": "feb3c0a9-c827-4bab-814c-97c2fbc0568f",
   "metadata": {},
   "source": [
    "## Data Cleaning Summary\n",
    "In this notebook, we focus on the initial cleaning and validation of the raw Steam dataset to prepare it for modeling and analysis. The dataset includes game metadata, pricing, reviews, achievements, and other attributes collected from [Steam Game Data on Kaggle](https://www.kaggle.com/datasets/artyomkruglov/gaming-profiles-2025-steam-playstation-xbox/). \n",
    "\n",
    "The hope is that the cleaned dataset serves as a reliable foundation for downstream modeling in Power BI. It should eliminate structural issues that could affect joins, aggregations, and filtering during Power BI reporting. The output of this notebook will be used as input for the normalization process that follows in the next notebook.\n",
    "\n"
   ]
  },
  {
   "cell_type": "code",
   "execution_count": 3,
   "id": "432dc865-b0be-4b3e-a2d3-3fe43b82513a",
   "metadata": {},
   "outputs": [],
   "source": [
    "import pandas as pd\n",
    "import numpy as np\n",
    "import sys\n",
    "import ast\n",
    "import os\n",
    "sys.path.append(os.path.abspath(\"..\"))\n",
    "from utils.data_utils import missing_value_summary"
   ]
  },
  {
   "cell_type": "markdown",
   "id": "1a5d2318-2bb9-43d7-b475-07f4143b229a",
   "metadata": {},
   "source": [
    "### Games"
   ]
  },
  {
   "cell_type": "code",
   "execution_count": 23,
   "id": "c1411a37-fbea-42ea-a4d0-e7fca2159f28",
   "metadata": {},
   "outputs": [],
   "source": [
    "gamesdf = pd.read_csv(\"../data_steam/raw/games.csv\")"
   ]
  },
  {
   "cell_type": "code",
   "execution_count": 24,
   "id": "e6ff92d4-7e98-4555-b97e-5f580184913e",
   "metadata": {},
   "outputs": [],
   "source": [
    "games = gamesdf.copy()"
   ]
  },
  {
   "cell_type": "code",
   "execution_count": 63,
   "id": "f0b88581-c0ba-42fe-bb1c-2a107df2c04a",
   "metadata": {},
   "outputs": [
    {
     "data": {
      "text/html": [
       "<div>\n",
       "<style scoped>\n",
       "    .dataframe tbody tr th:only-of-type {\n",
       "        vertical-align: middle;\n",
       "    }\n",
       "\n",
       "    .dataframe tbody tr th {\n",
       "        vertical-align: top;\n",
       "    }\n",
       "\n",
       "    .dataframe thead th {\n",
       "        text-align: right;\n",
       "    }\n",
       "</style>\n",
       "<table border=\"1\" class=\"dataframe\">\n",
       "  <thead>\n",
       "    <tr style=\"text-align: right;\">\n",
       "      <th></th>\n",
       "      <th>gameid</th>\n",
       "      <th>title</th>\n",
       "      <th>developers</th>\n",
       "      <th>publishers</th>\n",
       "      <th>genres</th>\n",
       "      <th>supported_languages</th>\n",
       "      <th>release_date</th>\n",
       "    </tr>\n",
       "  </thead>\n",
       "  <tbody>\n",
       "    <tr>\n",
       "      <th>0</th>\n",
       "      <td>3281560</td>\n",
       "      <td>Horror Game To Play With Friends! Playtest</td>\n",
       "      <td>NaN</td>\n",
       "      <td>NaN</td>\n",
       "      <td>NaN</td>\n",
       "      <td>NaN</td>\n",
       "      <td>2024-10-21</td>\n",
       "    </tr>\n",
       "    <tr>\n",
       "      <th>1</th>\n",
       "      <td>3280930</td>\n",
       "      <td>Eternals' Path Playtest</td>\n",
       "      <td>NaN</td>\n",
       "      <td>NaN</td>\n",
       "      <td>NaN</td>\n",
       "      <td>NaN</td>\n",
       "      <td>2024-10-17</td>\n",
       "    </tr>\n",
       "    <tr>\n",
       "      <th>2</th>\n",
       "      <td>3280770</td>\n",
       "      <td>ANGST: A TALE OF SURVIVAL - Singleplayer Playtest</td>\n",
       "      <td>NaN</td>\n",
       "      <td>NaN</td>\n",
       "      <td>NaN</td>\n",
       "      <td>NaN</td>\n",
       "      <td>2024-10-13</td>\n",
       "    </tr>\n",
       "  </tbody>\n",
       "</table>\n",
       "</div>"
      ],
      "text/plain": [
       "    gameid                                              title developers  \\\n",
       "0  3281560         Horror Game To Play With Friends! Playtest        NaN   \n",
       "1  3280930                            Eternals' Path Playtest        NaN   \n",
       "2  3280770  ANGST: A TALE OF SURVIVAL - Singleplayer Playtest        NaN   \n",
       "\n",
       "  publishers genres supported_languages release_date  \n",
       "0        NaN    NaN                 NaN   2024-10-21  \n",
       "1        NaN    NaN                 NaN   2024-10-17  \n",
       "2        NaN    NaN                 NaN   2024-10-13  "
      ]
     },
     "execution_count": 63,
     "metadata": {},
     "output_type": "execute_result"
    }
   ],
   "source": [
    "games.head(3)"
   ]
  },
  {
   "cell_type": "code",
   "execution_count": 170,
   "id": "95609d74-363c-48b7-9649-846ae75788c3",
   "metadata": {},
   "outputs": [
    {
     "name": "stdout",
     "output_type": "stream",
     "text": [
      "<class 'pandas.core.frame.DataFrame'>\n",
      "Index: 92965 entries, 5 to 98247\n",
      "Data columns (total 7 columns):\n",
      " #   Column               Non-Null Count  Dtype \n",
      "---  ------               --------------  ----- \n",
      " 0   gameid               92965 non-null  int64 \n",
      " 1   title                92965 non-null  object\n",
      " 2   developers           92965 non-null  object\n",
      " 3   publishers           92965 non-null  object\n",
      " 4   genres               92965 non-null  object\n",
      " 5   supported_languages  92965 non-null  object\n",
      " 6   release_date         92965 non-null  object\n",
      "dtypes: int64(1), object(6)\n",
      "memory usage: 7.7+ MB\n"
     ]
    }
   ],
   "source": [
    "games.info()"
   ]
  },
  {
   "cell_type": "markdown",
   "id": "1eb64aad-6e68-46b3-aad7-f9833f790afd",
   "metadata": {},
   "source": [
    "### Initial Overview of the `games` Table\n",
    "\n",
    "The `games` table contains 98,248 rows and 98,248 unique `gameid`s, confirming that each row represents a distinct game — there are no duplicates.\n",
    "\n",
    "As described by the dataset curator on Kaggle, the table includes the following fields:\n",
    "\n",
    "- **gameid** – unique game ID on the Steam platform  \n",
    "- **title** – full title of the game  \n",
    "- **developers** – list of game developers  \n",
    "- **publishers** – list of game publishers  \n",
    "- **genres** – list of associated game genres  \n",
    "- **supported_languages** – available languages (subtitles or voice-over)  \n",
    "- **release_date** – date the game was released\n",
    "\n",
    "Some of these columns contain missing values, which will be addressed shortly. One notable pattern in the data is that some game titles contain the word *\"Playtest\"*. These entries are typically stripped-down test versions of games and, as shown below, most lack critical metadata such as developers, publishers, or genres.\n",
    "\n",
    "Since these *\"Playtest\"* entries are incomplete and not analytically useful, we remove them from the dataset. There are 5,280 such entries, accounting for roughly 5% of the total.\n"
   ]
  },
  {
   "cell_type": "code",
   "execution_count": 25,
   "id": "3f14254d-0956-404e-9010-d5cd91ea9021",
   "metadata": {},
   "outputs": [
    {
     "name": "stdout",
     "output_type": "stream",
     "text": [
      "Number of rows in games table:  98248\n",
      "\n",
      "Number of unique gameids in games table: 98248\n",
      "\n",
      "Number of playtest games: 5280\n",
      "\n",
      "Percentage of playtest games:  5.37%\n",
      "\n",
      " Number of NaNs per column:\n",
      "\n",
      "gameid                    0\n",
      "title                     0\n",
      "developers             5273\n",
      "publishers             5276\n",
      "genres                 5273\n",
      "supported_languages    5273\n",
      "release_date              0\n",
      "dtype: int64\n"
     ]
    }
   ],
   "source": [
    "n_rows = len(games)\n",
    "uniq_game_ids = games['gameid'].nunique()\n",
    "playtest_games = games[games['title'].astype(str).str.contains('Playtest')] \n",
    "playtest_num = len(playtest_games)\n",
    "\n",
    "print(f'Number of rows in games table:  {n_rows}\\n')\n",
    "print(f'Number of unique gameids in games table: {uniq_game_ids}\\n')\n",
    "\n",
    "print(f'Number of playtest games: {playtest_num}\\n')\n",
    "playtest_perc = (playtest_num / len(games) ) * 100\n",
    "print(f'Percentage of playtest games: {playtest_perc: .2f}%')\n",
    "print(\"\\n Number of NaNs per column:\\n\")\n",
    "print(playtest_games.isna().sum())\n"
   ]
  },
  {
   "cell_type": "code",
   "execution_count": 238,
   "id": "21fcb379-c9b6-4aa9-bbba-0db979155d8b",
   "metadata": {},
   "outputs": [
    {
     "data": {
      "text/html": [
       "<div>\n",
       "<style scoped>\n",
       "    .dataframe tbody tr th:only-of-type {\n",
       "        vertical-align: middle;\n",
       "    }\n",
       "\n",
       "    .dataframe tbody tr th {\n",
       "        vertical-align: top;\n",
       "    }\n",
       "\n",
       "    .dataframe thead th {\n",
       "        text-align: right;\n",
       "    }\n",
       "</style>\n",
       "<table border=\"1\" class=\"dataframe\">\n",
       "  <thead>\n",
       "    <tr style=\"text-align: right;\">\n",
       "      <th></th>\n",
       "      <th>gameid</th>\n",
       "      <th>title</th>\n",
       "      <th>developers</th>\n",
       "      <th>publishers</th>\n",
       "      <th>genres</th>\n",
       "      <th>supported_languages</th>\n",
       "      <th>release_date</th>\n",
       "    </tr>\n",
       "  </thead>\n",
       "  <tbody>\n",
       "    <tr>\n",
       "      <th>0</th>\n",
       "      <td>3281560</td>\n",
       "      <td>Horror Game To Play With Friends! Playtest</td>\n",
       "      <td>NaN</td>\n",
       "      <td>NaN</td>\n",
       "      <td>NaN</td>\n",
       "      <td>NaN</td>\n",
       "      <td>2024-10-21</td>\n",
       "    </tr>\n",
       "    <tr>\n",
       "      <th>1</th>\n",
       "      <td>3280930</td>\n",
       "      <td>Eternals' Path Playtest</td>\n",
       "      <td>NaN</td>\n",
       "      <td>NaN</td>\n",
       "      <td>NaN</td>\n",
       "      <td>NaN</td>\n",
       "      <td>2024-10-17</td>\n",
       "    </tr>\n",
       "    <tr>\n",
       "      <th>2</th>\n",
       "      <td>3280770</td>\n",
       "      <td>ANGST: A TALE OF SURVIVAL - Singleplayer Playtest</td>\n",
       "      <td>NaN</td>\n",
       "      <td>NaN</td>\n",
       "      <td>NaN</td>\n",
       "      <td>NaN</td>\n",
       "      <td>2024-10-13</td>\n",
       "    </tr>\n",
       "    <tr>\n",
       "      <th>3</th>\n",
       "      <td>3279790</td>\n",
       "      <td>Montabi Playtest</td>\n",
       "      <td>NaN</td>\n",
       "      <td>NaN</td>\n",
       "      <td>NaN</td>\n",
       "      <td>NaN</td>\n",
       "      <td>2024-10-13</td>\n",
       "    </tr>\n",
       "    <tr>\n",
       "      <th>4</th>\n",
       "      <td>3278320</td>\n",
       "      <td>파이팅걸 유리 Playtest</td>\n",
       "      <td>NaN</td>\n",
       "      <td>NaN</td>\n",
       "      <td>NaN</td>\n",
       "      <td>NaN</td>\n",
       "      <td>2024-10-12</td>\n",
       "    </tr>\n",
       "  </tbody>\n",
       "</table>\n",
       "</div>"
      ],
      "text/plain": [
       "    gameid                                              title developers  \\\n",
       "0  3281560         Horror Game To Play With Friends! Playtest        NaN   \n",
       "1  3280930                            Eternals' Path Playtest        NaN   \n",
       "2  3280770  ANGST: A TALE OF SURVIVAL - Singleplayer Playtest        NaN   \n",
       "3  3279790                                   Montabi Playtest        NaN   \n",
       "4  3278320                                   파이팅걸 유리 Playtest        NaN   \n",
       "\n",
       "  publishers genres supported_languages release_date  \n",
       "0        NaN    NaN                 NaN   2024-10-21  \n",
       "1        NaN    NaN                 NaN   2024-10-17  \n",
       "2        NaN    NaN                 NaN   2024-10-13  \n",
       "3        NaN    NaN                 NaN   2024-10-13  \n",
       "4        NaN    NaN                 NaN   2024-10-12  "
      ]
     },
     "execution_count": 238,
     "metadata": {},
     "output_type": "execute_result"
    }
   ],
   "source": [
    "# View them just to see if its the expected output.\n",
    "playtest_games.head(5)"
   ]
  },
  {
   "cell_type": "code",
   "execution_count": 346,
   "id": "8b2601f6-3077-450c-8c8c-7bece0374134",
   "metadata": {},
   "outputs": [],
   "source": [
    "games = games[~games['title'].astype(str).str.contains('Playtest')] #remove Playtestgames"
   ]
  },
  {
   "cell_type": "code",
   "execution_count": 347,
   "id": "8b4ff40e-cd2c-4e06-9a13-3f97b8da5067",
   "metadata": {},
   "outputs": [
    {
     "name": "stdout",
     "output_type": "stream",
     "text": [
      "<class 'pandas.core.frame.DataFrame'>\n",
      "Index: 92968 entries, 5 to 98247\n",
      "Data columns (total 7 columns):\n",
      " #   Column               Non-Null Count  Dtype \n",
      "---  ------               --------------  ----- \n",
      " 0   gameid               92968 non-null  int64 \n",
      " 1   title                92965 non-null  object\n",
      " 2   developers           92682 non-null  object\n",
      " 3   publishers           92303 non-null  object\n",
      " 4   genres               92692 non-null  object\n",
      " 5   supported_languages  92735 non-null  object\n",
      " 6   release_date         92968 non-null  object\n",
      "dtypes: int64(1), object(6)\n",
      "memory usage: 5.7+ MB\n"
     ]
    }
   ],
   "source": [
    "games.info()"
   ]
  },
  {
   "cell_type": "markdown",
   "id": "0b73de71-6c39-447a-8fa7-2dc56c13ee0d",
   "metadata": {},
   "source": [
    "#### Games – Missing Values\n",
    "\n",
    "After removing the *\"Playtest\"* games, we now explore the presence of missing values in the partially cleaned `games` dataset. As shown in the table below, most columns have less than 1% missing values, indicating relatively good data completeness. These remaining null entries will be handled accordingly in the next steps of the cleaning process.\n"
   ]
  },
  {
   "cell_type": "code",
   "execution_count": 348,
   "id": "d0ca1226-f9ba-408b-b2e8-9d03847bd510",
   "metadata": {},
   "outputs": [
    {
     "data": {
      "text/html": [
       "<div>\n",
       "<style scoped>\n",
       "    .dataframe tbody tr th:only-of-type {\n",
       "        vertical-align: middle;\n",
       "    }\n",
       "\n",
       "    .dataframe tbody tr th {\n",
       "        vertical-align: top;\n",
       "    }\n",
       "\n",
       "    .dataframe thead th {\n",
       "        text-align: right;\n",
       "    }\n",
       "</style>\n",
       "<table border=\"1\" class=\"dataframe\">\n",
       "  <thead>\n",
       "    <tr style=\"text-align: right;\">\n",
       "      <th></th>\n",
       "      <th>Number of Missing Values</th>\n",
       "      <th>Percent of Total Values</th>\n",
       "    </tr>\n",
       "  </thead>\n",
       "  <tbody>\n",
       "    <tr>\n",
       "      <th>publishers</th>\n",
       "      <td>665</td>\n",
       "      <td>0.72</td>\n",
       "    </tr>\n",
       "    <tr>\n",
       "      <th>developers</th>\n",
       "      <td>286</td>\n",
       "      <td>0.31</td>\n",
       "    </tr>\n",
       "    <tr>\n",
       "      <th>genres</th>\n",
       "      <td>276</td>\n",
       "      <td>0.30</td>\n",
       "    </tr>\n",
       "    <tr>\n",
       "      <th>supported_languages</th>\n",
       "      <td>233</td>\n",
       "      <td>0.25</td>\n",
       "    </tr>\n",
       "    <tr>\n",
       "      <th>gameid</th>\n",
       "      <td>0</td>\n",
       "      <td>0.00</td>\n",
       "    </tr>\n",
       "    <tr>\n",
       "      <th>title</th>\n",
       "      <td>3</td>\n",
       "      <td>0.00</td>\n",
       "    </tr>\n",
       "    <tr>\n",
       "      <th>release_date</th>\n",
       "      <td>0</td>\n",
       "      <td>0.00</td>\n",
       "    </tr>\n",
       "  </tbody>\n",
       "</table>\n",
       "</div>"
      ],
      "text/plain": [
       "                     Number of Missing Values  Percent of Total Values\n",
       "publishers                                665                     0.72\n",
       "developers                                286                     0.31\n",
       "genres                                    276                     0.30\n",
       "supported_languages                       233                     0.25\n",
       "gameid                                      0                     0.00\n",
       "title                                       3                     0.00\n",
       "release_date                                0                     0.00"
      ]
     },
     "execution_count": 348,
     "metadata": {},
     "output_type": "execute_result"
    }
   ],
   "source": [
    "miss_per_col  = missing_value_summary(games)\n",
    "miss_per_col"
   ]
  },
  {
   "cell_type": "markdown",
   "id": "f191f9ff-ec01-464b-acec-f868f6f8b937",
   "metadata": {},
   "source": [
    "##### Handling Missing Titles\n",
    "\n",
    "We begin with the `title` column, which has only 3 missing entries. Since this table serves as the primary source of game information, and these rows lack titles, we have no reliable way to identify or interpret these games.\n",
    "\n",
    "As confirmed in the output below, these entries also lack developer and publisher information — further supporting their removal. We therefore drop these 3 rows from the dataset.\n"
   ]
  },
  {
   "cell_type": "code",
   "execution_count": 349,
   "id": "39e27236-1a14-4ce7-9446-37dc08c158b1",
   "metadata": {},
   "outputs": [
    {
     "data": {
      "text/html": [
       "<div>\n",
       "<style scoped>\n",
       "    .dataframe tbody tr th:only-of-type {\n",
       "        vertical-align: middle;\n",
       "    }\n",
       "\n",
       "    .dataframe tbody tr th {\n",
       "        vertical-align: top;\n",
       "    }\n",
       "\n",
       "    .dataframe thead th {\n",
       "        text-align: right;\n",
       "    }\n",
       "</style>\n",
       "<table border=\"1\" class=\"dataframe\">\n",
       "  <thead>\n",
       "    <tr style=\"text-align: right;\">\n",
       "      <th></th>\n",
       "      <th>gameid</th>\n",
       "      <th>title</th>\n",
       "      <th>developers</th>\n",
       "      <th>publishers</th>\n",
       "      <th>genres</th>\n",
       "      <th>supported_languages</th>\n",
       "      <th>release_date</th>\n",
       "    </tr>\n",
       "  </thead>\n",
       "  <tbody>\n",
       "    <tr>\n",
       "      <th>2853</th>\n",
       "      <td>1347240</td>\n",
       "      <td>NaN</td>\n",
       "      <td>NaN</td>\n",
       "      <td>NaN</td>\n",
       "      <td>NaN</td>\n",
       "      <td>['English']</td>\n",
       "      <td>2021-04-20</td>\n",
       "    </tr>\n",
       "    <tr>\n",
       "      <th>39705</th>\n",
       "      <td>1116910</td>\n",
       "      <td>NaN</td>\n",
       "      <td>NaN</td>\n",
       "      <td>NaN</td>\n",
       "      <td>['Action', 'Adventure', 'Casual', 'Indie', 'RPG', 'Simulation', 'Strategy']</td>\n",
       "      <td>NaN</td>\n",
       "      <td>2019-09-25</td>\n",
       "    </tr>\n",
       "    <tr>\n",
       "      <th>77700</th>\n",
       "      <td>396420</td>\n",
       "      <td>NaN</td>\n",
       "      <td>NaN</td>\n",
       "      <td>NaN</td>\n",
       "      <td>NaN</td>\n",
       "      <td>NaN</td>\n",
       "      <td>2016-11-01</td>\n",
       "    </tr>\n",
       "  </tbody>\n",
       "</table>\n",
       "</div>"
      ],
      "text/plain": [
       "        gameid title developers publishers  \\\n",
       "2853   1347240   NaN        NaN        NaN   \n",
       "39705  1116910   NaN        NaN        NaN   \n",
       "77700   396420   NaN        NaN        NaN   \n",
       "\n",
       "                                                                            genres  \\\n",
       "2853                                                                           NaN   \n",
       "39705  ['Action', 'Adventure', 'Casual', 'Indie', 'RPG', 'Simulation', 'Strategy']   \n",
       "77700                                                                          NaN   \n",
       "\n",
       "      supported_languages release_date  \n",
       "2853          ['English']   2021-04-20  \n",
       "39705                 NaN   2019-09-25  \n",
       "77700                 NaN   2016-11-01  "
      ]
     },
     "execution_count": 349,
     "metadata": {},
     "output_type": "execute_result"
    }
   ],
   "source": [
    "no_title_games = games[games['title'].isna()]\n",
    "games = games[~games['title'].isna()]\n",
    "no_title_games"
   ]
  },
  {
   "cell_type": "code",
   "execution_count": 350,
   "id": "ae57d16f-4605-462b-9679-1cb548ae6dc5",
   "metadata": {},
   "outputs": [
    {
     "data": {
      "text/html": [
       "<div>\n",
       "<style scoped>\n",
       "    .dataframe tbody tr th:only-of-type {\n",
       "        vertical-align: middle;\n",
       "    }\n",
       "\n",
       "    .dataframe tbody tr th {\n",
       "        vertical-align: top;\n",
       "    }\n",
       "\n",
       "    .dataframe thead th {\n",
       "        text-align: right;\n",
       "    }\n",
       "</style>\n",
       "<table border=\"1\" class=\"dataframe\">\n",
       "  <thead>\n",
       "    <tr style=\"text-align: right;\">\n",
       "      <th></th>\n",
       "      <th>Number of Missing Values</th>\n",
       "      <th>Percent of Total Values</th>\n",
       "    </tr>\n",
       "  </thead>\n",
       "  <tbody>\n",
       "    <tr>\n",
       "      <th>publishers</th>\n",
       "      <td>662</td>\n",
       "      <td>0.71</td>\n",
       "    </tr>\n",
       "    <tr>\n",
       "      <th>developers</th>\n",
       "      <td>283</td>\n",
       "      <td>0.30</td>\n",
       "    </tr>\n",
       "    <tr>\n",
       "      <th>genres</th>\n",
       "      <td>274</td>\n",
       "      <td>0.29</td>\n",
       "    </tr>\n",
       "    <tr>\n",
       "      <th>supported_languages</th>\n",
       "      <td>231</td>\n",
       "      <td>0.25</td>\n",
       "    </tr>\n",
       "    <tr>\n",
       "      <th>gameid</th>\n",
       "      <td>0</td>\n",
       "      <td>0.00</td>\n",
       "    </tr>\n",
       "    <tr>\n",
       "      <th>title</th>\n",
       "      <td>0</td>\n",
       "      <td>0.00</td>\n",
       "    </tr>\n",
       "    <tr>\n",
       "      <th>release_date</th>\n",
       "      <td>0</td>\n",
       "      <td>0.00</td>\n",
       "    </tr>\n",
       "  </tbody>\n",
       "</table>\n",
       "</div>"
      ],
      "text/plain": [
       "                     Number of Missing Values  Percent of Total Values\n",
       "publishers                                662                     0.71\n",
       "developers                                283                     0.30\n",
       "genres                                    274                     0.29\n",
       "supported_languages                       231                     0.25\n",
       "gameid                                      0                     0.00\n",
       "title                                       0                     0.00\n",
       "release_date                                0                     0.00"
      ]
     },
     "execution_count": 350,
     "metadata": {},
     "output_type": "execute_result"
    }
   ],
   "source": [
    "miss_per_col  = missing_value_summary(games)\n",
    "miss_per_col"
   ]
  },
  {
   "cell_type": "markdown",
   "id": "e8ea43c6-9d84-4813-ad63-4a661500d72e",
   "metadata": {},
   "source": [
    "##### Handling Missing Categorical Fields\n",
    "\n",
    "For the remaining categorical fields — `developers`, `publishers`, `genres`, and `supported_languages` — we replace missing values with the placeholder `\"None stated\"`. These columns contain only a small percentage of missing values, and dropping these rows would result in unnecessary data loss.\n",
    "\n",
    "Using a consistent placeholder allows us to retain these games in the dataset while making it clear that the specific information is unavailable.\n",
    "\n",
    "We now turn our attention to the `Prices` table. We shall return to the `games` table multiple times since it is our main, primary source of information for games."
   ]
  },
  {
   "cell_type": "code",
   "execution_count": 351,
   "id": "e20de1f6-a71a-43c0-9252-f23fce8a28b2",
   "metadata": {},
   "outputs": [],
   "source": [
    "miss_vals_col = list(miss_per_col[(miss_per_col['Number of Missing Values'] > 0)].index)\n",
    "for col in miss_vals_col:\n",
    "    games[col] = games[col].apply(lambda x: ['None stated'] if pd.isna(x) else x)\n"
   ]
  },
  {
   "cell_type": "code",
   "execution_count": 352,
   "id": "8807694b-96a2-4b33-afe7-441aa9716d4f",
   "metadata": {},
   "outputs": [
    {
     "data": {
      "text/html": [
       "<div>\n",
       "<style scoped>\n",
       "    .dataframe tbody tr th:only-of-type {\n",
       "        vertical-align: middle;\n",
       "    }\n",
       "\n",
       "    .dataframe tbody tr th {\n",
       "        vertical-align: top;\n",
       "    }\n",
       "\n",
       "    .dataframe thead th {\n",
       "        text-align: right;\n",
       "    }\n",
       "</style>\n",
       "<table border=\"1\" class=\"dataframe\">\n",
       "  <thead>\n",
       "    <tr style=\"text-align: right;\">\n",
       "      <th></th>\n",
       "      <th>Number of Missing Values</th>\n",
       "      <th>Percent of Total Values</th>\n",
       "    </tr>\n",
       "  </thead>\n",
       "  <tbody>\n",
       "    <tr>\n",
       "      <th>gameid</th>\n",
       "      <td>0</td>\n",
       "      <td>0.0</td>\n",
       "    </tr>\n",
       "    <tr>\n",
       "      <th>title</th>\n",
       "      <td>0</td>\n",
       "      <td>0.0</td>\n",
       "    </tr>\n",
       "    <tr>\n",
       "      <th>developers</th>\n",
       "      <td>0</td>\n",
       "      <td>0.0</td>\n",
       "    </tr>\n",
       "    <tr>\n",
       "      <th>publishers</th>\n",
       "      <td>0</td>\n",
       "      <td>0.0</td>\n",
       "    </tr>\n",
       "    <tr>\n",
       "      <th>genres</th>\n",
       "      <td>0</td>\n",
       "      <td>0.0</td>\n",
       "    </tr>\n",
       "    <tr>\n",
       "      <th>supported_languages</th>\n",
       "      <td>0</td>\n",
       "      <td>0.0</td>\n",
       "    </tr>\n",
       "    <tr>\n",
       "      <th>release_date</th>\n",
       "      <td>0</td>\n",
       "      <td>0.0</td>\n",
       "    </tr>\n",
       "  </tbody>\n",
       "</table>\n",
       "</div>"
      ],
      "text/plain": [
       "                     Number of Missing Values  Percent of Total Values\n",
       "gameid                                      0                      0.0\n",
       "title                                       0                      0.0\n",
       "developers                                  0                      0.0\n",
       "publishers                                  0                      0.0\n",
       "genres                                      0                      0.0\n",
       "supported_languages                         0                      0.0\n",
       "release_date                                0                      0.0"
      ]
     },
     "execution_count": 352,
     "metadata": {},
     "output_type": "execute_result"
    }
   ],
   "source": [
    "miss_per_col  = missing_value_summary(games)\n",
    "miss_per_col"
   ]
  },
  {
   "cell_type": "markdown",
   "id": "1c52384e-07e1-4cd8-a341-51f4ae1c5162",
   "metadata": {},
   "source": [
    "## Prices table"
   ]
  },
  {
   "cell_type": "code",
   "execution_count": 50,
   "id": "0aec0865-38ab-4b9e-97e9-600e0f214479",
   "metadata": {},
   "outputs": [],
   "source": [
    "pricesdf = pd.read_csv('../data_steam/raw/prices.csv')"
   ]
  },
  {
   "cell_type": "code",
   "execution_count": 353,
   "id": "f11f1519-4f3d-4bdd-b19e-eb843c2f25d2",
   "metadata": {},
   "outputs": [],
   "source": [
    "prices = pricesdf.copy()"
   ]
  },
  {
   "cell_type": "markdown",
   "id": "2db0ba32-0250-48f7-933d-cd2fa6005ebd",
   "metadata": {},
   "source": [
    "As per Kaggle doumentation, the prices table has the following columns:\n",
    "\n",
    "* `gameid` - unique gameID on the Steam platform\n",
    "* `usd` - game price in USD\n",
    "* `eur` - game price in EUR\n",
    "* `gbp` - game price in GBP\n",
    "* `jpy` - game price in JPY\n",
    "* `rub` - game price in RUB\n",
    "* `date_acquired` - date of when the price information was recorded.\n",
    "  \n",
    "The `prices` table contains 4,414,273 entries, reflecting game prices (in multiple currencies) on different `date_acquired` snapshots. Since prices can change due to discounts, sales, or business model shifts, a single game can appear multiple times with varying prices.\n",
    "\n",
    "The original `games` table contains 98,248 unique `gameid`s, while the `prices` table contains 98,465 — meaning there are 217 games in `prices` that do not exist in the `games` table.\n",
    "\n",
    "Since the aim is to build a normalised data model with a `games_dim` table (where `gameid` is the primary key - see next notebook), it makes no sense to retain price records for games that don’t exist in the main games dataset. We therefore remove these 217 unmatched price entries, as they cannot be joined or analyzed meaningfully in our model.\n",
    "\n"
   ]
  },
  {
   "cell_type": "code",
   "execution_count": 354,
   "id": "6e864f65-3379-4979-a19c-e841b7820648",
   "metadata": {},
   "outputs": [
    {
     "name": "stdout",
     "output_type": "stream",
     "text": [
      "Number of unique game ids in prices: 98465\n",
      "Number of unique game ids in original games: 98248\n",
      "Number of unique game ids in prices but not in original games: 217\n"
     ]
    }
   ],
   "source": [
    "uniq_ids_prices = set(prices['gameid'])\n",
    "uniq_ids_original_games = set(gamesdf['gameid']) #use the original games, before removing playtests\n",
    "price_id_not_in_games = uniq_ids_prices - uniq_ids_original_games\n",
    "print(f'Number of unique game ids in prices: {len(uniq_ids_prices)}')\n",
    "print(f'Number of unique game ids in original games: {len(uniq_ids_original_games)}')\n",
    "print(f'Number of unique game ids in prices but not in original games: {len(price_id_not_in_games)}')"
   ]
  },
  {
   "cell_type": "code",
   "execution_count": 355,
   "id": "aeba0c3b-c334-4b85-b25f-7675c0595c34",
   "metadata": {},
   "outputs": [
    {
     "name": "stdout",
     "output_type": "stream",
     "text": [
      "For interest, here is a snapshot the gameids and prices for games not found in the games table\n",
      "\n"
     ]
    },
    {
     "data": {
      "text/html": [
       "<div>\n",
       "<style scoped>\n",
       "    .dataframe tbody tr th:only-of-type {\n",
       "        vertical-align: middle;\n",
       "    }\n",
       "\n",
       "    .dataframe tbody tr th {\n",
       "        vertical-align: top;\n",
       "    }\n",
       "\n",
       "    .dataframe thead th {\n",
       "        text-align: right;\n",
       "    }\n",
       "</style>\n",
       "<table border=\"1\" class=\"dataframe\">\n",
       "  <thead>\n",
       "    <tr style=\"text-align: right;\">\n",
       "      <th></th>\n",
       "      <th>gameid</th>\n",
       "      <th>usd</th>\n",
       "      <th>eur</th>\n",
       "      <th>gbp</th>\n",
       "      <th>jpy</th>\n",
       "      <th>rub</th>\n",
       "      <th>date_acquired</th>\n",
       "    </tr>\n",
       "  </thead>\n",
       "  <tbody>\n",
       "    <tr>\n",
       "      <th>361</th>\n",
       "      <td>1423450</td>\n",
       "      <td>9.99</td>\n",
       "      <td>9.75</td>\n",
       "      <td>8.50</td>\n",
       "      <td>1200.0</td>\n",
       "      <td>385.0</td>\n",
       "      <td>2024-11-28</td>\n",
       "    </tr>\n",
       "    <tr>\n",
       "      <th>1816</th>\n",
       "      <td>1378820</td>\n",
       "      <td>0.99</td>\n",
       "      <td>0.99</td>\n",
       "      <td>0.84</td>\n",
       "      <td>117.0</td>\n",
       "      <td>41.0</td>\n",
       "      <td>2024-11-28</td>\n",
       "    </tr>\n",
       "  </tbody>\n",
       "</table>\n",
       "</div>"
      ],
      "text/plain": [
       "       gameid   usd   eur   gbp     jpy    rub date_acquired\n",
       "361   1423450  9.99  9.75  8.50  1200.0  385.0    2024-11-28\n",
       "1816  1378820  0.99  0.99  0.84   117.0   41.0    2024-11-28"
      ]
     },
     "execution_count": 355,
     "metadata": {},
     "output_type": "execute_result"
    }
   ],
   "source": [
    "gameid_not_in_games = prices[prices['gameid'].isin(list(price_id_not_in_games))]\n",
    "prices = prices[prices['gameid'].isin(gamesdf['gameid'])] #remove these games\n",
    "print(\"For interest, here is a snapshot the gameids and prices for games not found in the games table\\n\")\n",
    "gameid_not_in_games.head(2)\n"
   ]
  },
  {
   "cell_type": "code",
   "execution_count": 356,
   "id": "0847c4e4-2537-4f5c-b420-784ac486c5de",
   "metadata": {},
   "outputs": [
    {
     "name": "stdout",
     "output_type": "stream",
     "text": [
      "Number of unique game ids in new prices table: 98248\n",
      "Number of unique game ids in original games: 98248\n",
      "Number of unique game ids in updated games: 92965\n"
     ]
    }
   ],
   "source": [
    "uniq_ids_prices = set(prices['gameid'])\n",
    "uniq_ids_original_games = set(gamesdf['gameid']) #use the original games, before removing playtests\n",
    "uniq_ids_updated_games = set(games['gameid'])\n",
    "print(f'Number of unique game ids in new prices table: {len(uniq_ids_prices)}')\n",
    "print(f'Number of unique game ids in original games: {len(uniq_ids_original_games)}')\n",
    "print(f'Number of unique game ids in updated games: {len(uniq_ids_updated_games)}')"
   ]
  },
  {
   "cell_type": "markdown",
   "id": "3a56661d-9143-451c-a8da-e449290fbec5",
   "metadata": {},
   "source": [
    "####  Removing Playtest Games from the Prices Table\n",
    "\n",
    "As part of the earlier cleaning process, we removed \"Playtest\" games from the `games` table due to missing metadata (e.g., no developer or publisher information). To ensure consistency across the model, we now remove any corresponding entries from the `prices` table.\n",
    "\n",
    "These playtest games should not have valid price data — and as we confirm below, all associated `usd` prices are indeed missing (`NaN`). Removing them ensures that the `prices` table aligns with the cleaned `games` table, and helps us maintain a lean, reliable fact table free of placeholder or incomplete entries.\n"
   ]
  },
  {
   "cell_type": "code",
   "execution_count": 357,
   "id": "86a63785-eca6-4a1b-bb8e-97bc412592c6",
   "metadata": {},
   "outputs": [
    {
     "name": "stdout",
     "output_type": "stream",
     "text": [
      "Number of rows in Playtests prices table: 233714\n",
      "Number of missing values per column:\n"
     ]
    },
    {
     "data": {
      "text/plain": [
       "gameid                0\n",
       "usd              233714\n",
       "eur              233714\n",
       "gbp              233714\n",
       "jpy              233714\n",
       "rub              233714\n",
       "date_acquired         0\n",
       "dtype: int64"
      ]
     },
     "execution_count": 357,
     "metadata": {},
     "output_type": "execute_result"
    }
   ],
   "source": [
    "playtest_ids = playtest_games['gameid']  # game ids with playtest in 'title' in games df \n",
    "playtest_prices = prices[prices['gameid'].isin(playtest_ids)] #prices for games which are playtests\n",
    "print(f'Number of rows in Playtests prices table: {playtest_prices.shape[0]}') #number of rows\n",
    "print('Number of missing values per column:')\n",
    "playtest_prices.isna().sum() #which of the playtest games are NaNs?"
   ]
  },
  {
   "cell_type": "code",
   "execution_count": 358,
   "id": "8c2f179c-fb04-4691-aa0c-7019157552b8",
   "metadata": {},
   "outputs": [],
   "source": [
    "prices = prices[~prices['gameid'].isin(playtest_ids)]#remove playtests"
   ]
  },
  {
   "cell_type": "markdown",
   "id": "93dad7f4-8af1-4218-b0b6-ec13d46acaeb",
   "metadata": {},
   "source": [
    "#### Removing Games Without Titles from the Prices Table\n",
    "\n",
    "Earlier, we removed a small number of games from the `games` table that lacked a valid `title`, as these entries were incomplete and unusable. When comparing the number of unique `gameid`s between the `games` and `prices` tables, we find a small discrepancy (3 extra IDs in `prices`).\n",
    "\n",
    "Upon inspection, these correspond to the same title-less games previously excluded. To maintain consistency, we remove these `gameid`s from the `prices` table as well — ensuring it remains aligned with the cleaned `games` dataset and avoids entries with missing reference information.\n"
   ]
  },
  {
   "cell_type": "code",
   "execution_count": 359,
   "id": "98726dbc-0d3b-47a2-b580-0f8aaa87a60d",
   "metadata": {},
   "outputs": [
    {
     "name": "stdout",
     "output_type": "stream",
     "text": [
      "Number of unique game ids in updated prices table: 92968\n",
      "Number of unique game ids in updated games: 92965\n",
      "The gameids in prices that dont appear in games are exactly the ones that have no title from before:  True\n"
     ]
    }
   ],
   "source": [
    "uniq_ids_prices = set(prices['gameid'])\n",
    "uniq_ids_updated_games = set(games['gameid'])\n",
    "#checking if the gameids in prices that dont appear in games are exactly the ones that have no title from before\n",
    "check = set(prices['gameid']) - set(games['gameid'])  == set(no_title_games['gameid']) \n",
    "print(f'Number of unique game ids in updated prices table: {len(uniq_ids_prices)}')\n",
    "print(f'Number of unique game ids in updated games: {len(uniq_ids_updated_games)}')\n",
    "print('The gameids in prices that dont appear in games are exactly the ones that have no title from before: ', check)"
   ]
  },
  {
   "cell_type": "code",
   "execution_count": 360,
   "id": "221fd946-7faa-4135-942a-7ec46a7ddd43",
   "metadata": {},
   "outputs": [
    {
     "name": "stdout",
     "output_type": "stream",
     "text": [
      "Number of unique game ids in updated prices table: 92965\n",
      "Number of unique game ids in updated games: 92965\n",
      "All gameids in games also in prices and vice versa:  True\n"
     ]
    }
   ],
   "source": [
    "prices = prices[prices['gameid'].isin(games['gameid'])]\n",
    "uniq_ids_prices = set(prices['gameid'])\n",
    "uniq_ids_updated_games = set(games['gameid'])\n",
    "print(f'Number of unique game ids in updated prices table: {len(uniq_ids_prices)}')\n",
    "print(f'Number of unique game ids in updated games: {len(uniq_ids_updated_games)}')\n",
    "test = set(games['gameid']) == set(prices['gameid']) #check if all IDs in games are in prices and vice versa\n",
    "print(\"All gameids in games also in prices and vice versa: \",test)"
   ]
  },
  {
   "cell_type": "markdown",
   "id": "9e65856d-c023-44ad-9db9-90f51251d27d",
   "metadata": {},
   "source": [
    "Just a reminder of how the prices table looks:"
   ]
  },
  {
   "cell_type": "code",
   "execution_count": 121,
   "id": "bbf4be05-7956-4f17-8b88-878c4c7807a0",
   "metadata": {},
   "outputs": [
    {
     "data": {
      "text/html": [
       "<div>\n",
       "<style scoped>\n",
       "    .dataframe tbody tr th:only-of-type {\n",
       "        vertical-align: middle;\n",
       "    }\n",
       "\n",
       "    .dataframe tbody tr th {\n",
       "        vertical-align: top;\n",
       "    }\n",
       "\n",
       "    .dataframe thead th {\n",
       "        text-align: right;\n",
       "    }\n",
       "</style>\n",
       "<table border=\"1\" class=\"dataframe\">\n",
       "  <thead>\n",
       "    <tr style=\"text-align: right;\">\n",
       "      <th></th>\n",
       "      <th>gameid</th>\n",
       "      <th>usd</th>\n",
       "      <th>eur</th>\n",
       "      <th>gbp</th>\n",
       "      <th>jpy</th>\n",
       "      <th>rub</th>\n",
       "      <th>date_acquired</th>\n",
       "    </tr>\n",
       "  </thead>\n",
       "  <tbody>\n",
       "    <tr>\n",
       "      <th>5</th>\n",
       "      <td>3278740</td>\n",
       "      <td>5.99</td>\n",
       "      <td>5.85</td>\n",
       "      <td>5.10</td>\n",
       "      <td>720.0</td>\n",
       "      <td>228.0</td>\n",
       "      <td>2024-11-28</td>\n",
       "    </tr>\n",
       "    <tr>\n",
       "      <th>10</th>\n",
       "      <td>3270850</td>\n",
       "      <td>3.99</td>\n",
       "      <td>3.99</td>\n",
       "      <td>3.89</td>\n",
       "      <td>470.0</td>\n",
       "      <td>165.0</td>\n",
       "      <td>2024-11-28</td>\n",
       "    </tr>\n",
       "    <tr>\n",
       "      <th>15</th>\n",
       "      <td>3267350</td>\n",
       "      <td>NaN</td>\n",
       "      <td>NaN</td>\n",
       "      <td>NaN</td>\n",
       "      <td>NaN</td>\n",
       "      <td>NaN</td>\n",
       "      <td>2024-11-28</td>\n",
       "    </tr>\n",
       "  </tbody>\n",
       "</table>\n",
       "</div>"
      ],
      "text/plain": [
       "     gameid   usd   eur   gbp    jpy    rub date_acquired\n",
       "5   3278740  5.99  5.85  5.10  720.0  228.0    2024-11-28\n",
       "10  3270850  3.99  3.99  3.89  470.0  165.0    2024-11-28\n",
       "15  3267350   NaN   NaN   NaN    NaN    NaN    2024-11-28"
      ]
     },
     "execution_count": 121,
     "metadata": {},
     "output_type": "execute_result"
    }
   ],
   "source": [
    "prices.head(3)"
   ]
  },
  {
   "cell_type": "markdown",
   "id": "79d4314e-c4c4-4df5-8fae-bca90962f44b",
   "metadata": {},
   "source": [
    "#### Exploring Missing Values in the `prices` Table\n",
    "\n",
    "We now continue with the `prices` table to check for missing values. Our first step is to identify rows that have a `NaN` in **any** of the currency columns. This helps us flag games that are missing price information in at least one currency.\n",
    "\n",
    "As shown in the table below, a considerable number of entries have missing values across different currencies. This highlights the need to decide how we handle incomplete price records depending on the specific use case or analysis.\n",
    "\n",
    "To streamline the analysis and reduce the impact of missing data, we have chosen to focus exclusively on the `usd` column. This column has the **least number of missing values** and provides a consistent basis for comparisons across games. All future price-related analysis will therefore be conducted using USD-based prices.\n"
   ]
  },
  {
   "cell_type": "code",
   "execution_count": 361,
   "id": "e411dc91-9efd-486f-946d-12ddfdb0ce26",
   "metadata": {},
   "outputs": [
    {
     "name": "stdout",
     "output_type": "stream",
     "text": [
      "Sample of table with at least one missing price:\n",
      "\n",
      "     gameid   usd  eur   gbp    jpy    rub date_acquired\n",
      "15  3267350   NaN  NaN   NaN    NaN    NaN    2024-11-28\n",
      "17  3266470  3.49  NaN  3.00  406.0  140.0    2024-11-28\n",
      "22  3263370  0.99  NaN  0.89  120.0   42.0    2024-11-28\n",
      "\n",
      "Percentage of missing values per column: \n"
     ]
    },
    {
     "data": {
      "text/html": [
       "<div>\n",
       "<style scoped>\n",
       "    .dataframe tbody tr th:only-of-type {\n",
       "        vertical-align: middle;\n",
       "    }\n",
       "\n",
       "    .dataframe tbody tr th {\n",
       "        vertical-align: top;\n",
       "    }\n",
       "\n",
       "    .dataframe thead th {\n",
       "        text-align: right;\n",
       "    }\n",
       "</style>\n",
       "<table border=\"1\" class=\"dataframe\">\n",
       "  <thead>\n",
       "    <tr style=\"text-align: right;\">\n",
       "      <th></th>\n",
       "      <th>Number of Missing Values</th>\n",
       "      <th>Percent of Total Values</th>\n",
       "    </tr>\n",
       "  </thead>\n",
       "  <tbody>\n",
       "    <tr>\n",
       "      <th>eur</th>\n",
       "      <td>1463601</td>\n",
       "      <td>93.89</td>\n",
       "    </tr>\n",
       "    <tr>\n",
       "      <th>rub</th>\n",
       "      <td>767321</td>\n",
       "      <td>49.22</td>\n",
       "    </tr>\n",
       "    <tr>\n",
       "      <th>jpy</th>\n",
       "      <td>681478</td>\n",
       "      <td>43.72</td>\n",
       "    </tr>\n",
       "    <tr>\n",
       "      <th>gbp</th>\n",
       "      <td>669734</td>\n",
       "      <td>42.96</td>\n",
       "    </tr>\n",
       "    <tr>\n",
       "      <th>usd</th>\n",
       "      <td>668743</td>\n",
       "      <td>42.90</td>\n",
       "    </tr>\n",
       "    <tr>\n",
       "      <th>gameid</th>\n",
       "      <td>0</td>\n",
       "      <td>0.00</td>\n",
       "    </tr>\n",
       "    <tr>\n",
       "      <th>date_acquired</th>\n",
       "      <td>0</td>\n",
       "      <td>0.00</td>\n",
       "    </tr>\n",
       "  </tbody>\n",
       "</table>\n",
       "</div>"
      ],
      "text/plain": [
       "               Number of Missing Values  Percent of Total Values\n",
       "eur                             1463601                    93.89\n",
       "rub                              767321                    49.22\n",
       "jpy                              681478                    43.72\n",
       "gbp                              669734                    42.96\n",
       "usd                              668743                    42.90\n",
       "gameid                                0                     0.00\n",
       "date_acquired                         0                     0.00"
      ]
     },
     "execution_count": 361,
     "metadata": {},
     "output_type": "execute_result"
    }
   ],
   "source": [
    "rows_with_nan = prices[prices.isnull().any(axis=1)]\n",
    "#print('')\n",
    "print('Sample of table with at least one missing price:\\n')\n",
    "print(rows_with_nan.head(3))\n",
    "print('\\nPercentage of missing values per column: ')\n",
    "miss_prices = missing_value_summary(rows_with_nan)\n",
    "miss_prices"
   ]
  },
  {
   "cell_type": "code",
   "execution_count": 362,
   "id": "5e0e3ef1-0347-4fd1-8601-fa479d574c67",
   "metadata": {},
   "outputs": [],
   "source": [
    "cols_to_drop = ['eur','gbp','jpy','rub']\n",
    "prices = prices.drop(columns= cols_to_drop)"
   ]
  },
  {
   "cell_type": "markdown",
   "id": "6f1cbc8c-c6f5-4a83-9529-f1a55138581e",
   "metadata": {},
   "source": [
    "#### Investigating Missing Prices\n",
    "\n",
    "To better understand the `NaN` values in the `prices` table, we examine one such example (`gameid`=3267350). Upon checking its entry in the `games` table, we observe that it is tagged as **\"Free to Play\"** in the `genres` column — meaning players are not expected to pay for it.\n",
    "\n",
    "It is important to note that while the `genres` field is curated (not user-defined), some inaccuracies still exist. In particular, there are games that are free to play but are not tagged explicitly as such, likely due to inconsistencies or incomplete updates in the dataset.\n",
    "\n",
    "In cases where the \"Free to Play\" tag is present, we initially plan to impute the missing price as `0.00` to reflect the game's intended free status. While imputing zeros may skew overall price distributions, we will mitigate this by also introducing a new categorical variable, `Free to Play`, based on the game's genre.\n",
    "\n",
    "This flag will allow us to filter or group games by payment model during price-based analysis, helping preserve analytical integrity despite the imputation.\n",
    "\n",
    "For now we do a further investigation into \"Free to Play\" games."
   ]
  },
  {
   "cell_type": "code",
   "execution_count": 270,
   "id": "df9631e6-3928-4752-9982-2ee21d9291d0",
   "metadata": {},
   "outputs": [
    {
     "data": {
      "text/html": [
       "<div>\n",
       "<style scoped>\n",
       "    .dataframe tbody tr th:only-of-type {\n",
       "        vertical-align: middle;\n",
       "    }\n",
       "\n",
       "    .dataframe tbody tr th {\n",
       "        vertical-align: top;\n",
       "    }\n",
       "\n",
       "    .dataframe thead th {\n",
       "        text-align: right;\n",
       "    }\n",
       "</style>\n",
       "<table border=\"1\" class=\"dataframe\">\n",
       "  <thead>\n",
       "    <tr style=\"text-align: right;\">\n",
       "      <th></th>\n",
       "      <th>gameid</th>\n",
       "      <th>usd</th>\n",
       "      <th>date_acquired</th>\n",
       "    </tr>\n",
       "  </thead>\n",
       "  <tbody>\n",
       "    <tr>\n",
       "      <th>5</th>\n",
       "      <td>3278740</td>\n",
       "      <td>5.99</td>\n",
       "      <td>2024-11-28</td>\n",
       "    </tr>\n",
       "    <tr>\n",
       "      <th>10</th>\n",
       "      <td>3270850</td>\n",
       "      <td>3.99</td>\n",
       "      <td>2024-11-28</td>\n",
       "    </tr>\n",
       "    <tr>\n",
       "      <th>15</th>\n",
       "      <td>3267350</td>\n",
       "      <td>NaN</td>\n",
       "      <td>2024-11-28</td>\n",
       "    </tr>\n",
       "    <tr>\n",
       "      <th>17</th>\n",
       "      <td>3266470</td>\n",
       "      <td>3.49</td>\n",
       "      <td>2024-11-28</td>\n",
       "    </tr>\n",
       "    <tr>\n",
       "      <th>20</th>\n",
       "      <td>3264110</td>\n",
       "      <td>2.99</td>\n",
       "      <td>2024-11-28</td>\n",
       "    </tr>\n",
       "  </tbody>\n",
       "</table>\n",
       "</div>"
      ],
      "text/plain": [
       "     gameid   usd date_acquired\n",
       "5   3278740  5.99    2024-11-28\n",
       "10  3270850  3.99    2024-11-28\n",
       "15  3267350   NaN    2024-11-28\n",
       "17  3266470  3.49    2024-11-28\n",
       "20  3264110  2.99    2024-11-28"
      ]
     },
     "execution_count": 270,
     "metadata": {},
     "output_type": "execute_result"
    }
   ],
   "source": [
    "prices.head(5)"
   ]
  },
  {
   "cell_type": "code",
   "execution_count": 332,
   "id": "7bba3c6e-4da7-4d07-8a75-829606b796be",
   "metadata": {},
   "outputs": [
    {
     "data": {
      "text/html": [
       "<div>\n",
       "<style scoped>\n",
       "    .dataframe tbody tr th:only-of-type {\n",
       "        vertical-align: middle;\n",
       "    }\n",
       "\n",
       "    .dataframe tbody tr th {\n",
       "        vertical-align: top;\n",
       "    }\n",
       "\n",
       "    .dataframe thead th {\n",
       "        text-align: right;\n",
       "    }\n",
       "</style>\n",
       "<table border=\"1\" class=\"dataframe\">\n",
       "  <thead>\n",
       "    <tr style=\"text-align: right;\">\n",
       "      <th></th>\n",
       "      <th>gameid</th>\n",
       "      <th>title</th>\n",
       "      <th>developers</th>\n",
       "      <th>publishers</th>\n",
       "      <th>genres</th>\n",
       "      <th>supported_languages</th>\n",
       "      <th>release_date</th>\n",
       "    </tr>\n",
       "  </thead>\n",
       "  <tbody>\n",
       "    <tr>\n",
       "      <th>15</th>\n",
       "      <td>3267350</td>\n",
       "      <td>Tiny Shooters</td>\n",
       "      <td>['madilumar']</td>\n",
       "      <td>['Thetinyverse']</td>\n",
       "      <td>['Action', 'Free To Play']</td>\n",
       "      <td>['English']</td>\n",
       "      <td>2024-10-19</td>\n",
       "    </tr>\n",
       "  </tbody>\n",
       "</table>\n",
       "</div>"
      ],
      "text/plain": [
       "     gameid          title     developers        publishers  \\\n",
       "15  3267350  Tiny Shooters  ['madilumar']  ['Thetinyverse']   \n",
       "\n",
       "                        genres supported_languages release_date  \n",
       "15  ['Action', 'Free To Play']         ['English']   2024-10-19  "
      ]
     },
     "execution_count": 332,
     "metadata": {},
     "output_type": "execute_result"
    }
   ],
   "source": [
    "one_suspicious_game = prices[prices['gameid']==3267350]\n",
    "games[games['gameid']==3267350]\n",
    "#one_suspicious_game.head(2)"
   ]
  },
  {
   "cell_type": "code",
   "execution_count": 333,
   "id": "117194e2-4251-422a-a745-768af2b66333",
   "metadata": {},
   "outputs": [
    {
     "data": {
      "text/html": [
       "<div>\n",
       "<style scoped>\n",
       "    .dataframe tbody tr th:only-of-type {\n",
       "        vertical-align: middle;\n",
       "    }\n",
       "\n",
       "    .dataframe tbody tr th {\n",
       "        vertical-align: top;\n",
       "    }\n",
       "\n",
       "    .dataframe thead th {\n",
       "        text-align: right;\n",
       "    }\n",
       "</style>\n",
       "<table border=\"1\" class=\"dataframe\">\n",
       "  <thead>\n",
       "    <tr style=\"text-align: right;\">\n",
       "      <th></th>\n",
       "      <th>gameid</th>\n",
       "      <th>usd</th>\n",
       "      <th>date_acquired</th>\n",
       "    </tr>\n",
       "  </thead>\n",
       "  <tbody>\n",
       "    <tr>\n",
       "      <th>340</th>\n",
       "      <td>1424420</td>\n",
       "      <td>24.99</td>\n",
       "      <td>2024-11-28</td>\n",
       "    </tr>\n",
       "    <tr>\n",
       "      <th>1009</th>\n",
       "      <td>1402280</td>\n",
       "      <td>14.39</td>\n",
       "      <td>2024-11-28</td>\n",
       "    </tr>\n",
       "    <tr>\n",
       "      <th>3100</th>\n",
       "      <td>1340180</td>\n",
       "      <td>8.79</td>\n",
       "      <td>2024-11-28</td>\n",
       "    </tr>\n",
       "  </tbody>\n",
       "</table>\n",
       "</div>"
      ],
      "text/plain": [
       "       gameid    usd date_acquired\n",
       "340   1424420  24.99    2024-11-28\n",
       "1009  1402280  14.39    2024-11-28\n",
       "3100  1340180   8.79    2024-11-28"
      ]
     },
     "execution_count": 333,
     "metadata": {},
     "output_type": "execute_result"
    }
   ],
   "source": [
    "free_to_play = games[games['genres'].astype(str).str.contains('Free To Play', case=False)] \n",
    "prices_free_to_play = prices[prices['gameid'].isin(free_to_play['gameid'])]\n",
    "prices_free_to_play[~prices_free_to_play['usd'].isna()].head(3)"
   ]
  },
  {
   "cell_type": "markdown",
   "id": "6b08fa24-1542-4e0d-9dbf-3d7b2f1f4f72",
   "metadata": {},
   "source": [
    "\n",
    "##### Investigating \"Free to Play\" Games\n",
    "\n",
    "Before imputing prices for games tagged as \"Free to Play\", we take a closer look at these entries. There are 8,750 such games in the dataset — approximately 9% of the total.\n",
    "\n",
    "We then check the `prices` table to determine whether all of these games truly lack price data. Interestingly, not all games labeled \"Free to Play\" have `NaN` values in the `usd` column. This may suggest that the game was once free but now requires payment, or that pricing varies by region.\n",
    "\n",
    "To ensure consistency, we decide to remove the `\"Free to Play\"` genre tag from any game that has a valid price listed in the `usd` column. This helps the genre field more accurately reflect the game's current status rather than a historical or partial classification.\n",
    "\n",
    "We begin by filtering on the `usd` column, and may revisit other currencies if needed based on the results.\n"
   ]
  },
  {
   "cell_type": "code",
   "execution_count": 364,
   "id": "b92b743c-e501-4dd0-aab6-3eba36dfffc2",
   "metadata": {},
   "outputs": [
    {
     "name": "stdout",
     "output_type": "stream",
     "text": [
      "Number of free to play games: 8750\n",
      "Percentage of free to play games:  9.41%\n"
     ]
    },
    {
     "data": {
      "text/html": [
       "<div>\n",
       "<style scoped>\n",
       "    .dataframe tbody tr th:only-of-type {\n",
       "        vertical-align: middle;\n",
       "    }\n",
       "\n",
       "    .dataframe tbody tr th {\n",
       "        vertical-align: top;\n",
       "    }\n",
       "\n",
       "    .dataframe thead th {\n",
       "        text-align: right;\n",
       "    }\n",
       "</style>\n",
       "<table border=\"1\" class=\"dataframe\">\n",
       "  <thead>\n",
       "    <tr style=\"text-align: right;\">\n",
       "      <th></th>\n",
       "      <th>gameid</th>\n",
       "      <th>title</th>\n",
       "      <th>developers</th>\n",
       "      <th>publishers</th>\n",
       "      <th>genres</th>\n",
       "      <th>supported_languages</th>\n",
       "      <th>release_date</th>\n",
       "    </tr>\n",
       "  </thead>\n",
       "  <tbody>\n",
       "    <tr>\n",
       "      <th>15</th>\n",
       "      <td>3267350</td>\n",
       "      <td>Tiny Shooters</td>\n",
       "      <td>['madilumar']</td>\n",
       "      <td>['Thetinyverse']</td>\n",
       "      <td>['Action', 'Free To Play']</td>\n",
       "      <td>['English']</td>\n",
       "      <td>2024-10-19</td>\n",
       "    </tr>\n",
       "    <tr>\n",
       "      <th>28</th>\n",
       "      <td>3261860</td>\n",
       "      <td>CAIGE: Cum Overflow</td>\n",
       "      <td>['Zapt5454']</td>\n",
       "      <td>['Zapt5454']</td>\n",
       "      <td>['Casual', 'Free To Play']</td>\n",
       "      <td>['English']</td>\n",
       "      <td>2024-10-18</td>\n",
       "    </tr>\n",
       "  </tbody>\n",
       "</table>\n",
       "</div>"
      ],
      "text/plain": [
       "     gameid                title     developers        publishers  \\\n",
       "15  3267350        Tiny Shooters  ['madilumar']  ['Thetinyverse']   \n",
       "28  3261860  CAIGE: Cum Overflow   ['Zapt5454']      ['Zapt5454']   \n",
       "\n",
       "                        genres supported_languages release_date  \n",
       "15  ['Action', 'Free To Play']         ['English']   2024-10-19  \n",
       "28  ['Casual', 'Free To Play']         ['English']   2024-10-18  "
      ]
     },
     "execution_count": 364,
     "metadata": {},
     "output_type": "execute_result"
    }
   ],
   "source": [
    "free_to_play = games[games['genres'].astype(str).str.contains('Free To Play', case=False)] \n",
    "num_free_to_play = len(free_to_play)\n",
    "print(f'Number of free to play games: {num_free_to_play}')\n",
    "free_to_play_perc = (len(free_to_play) / len(games) )*100\n",
    "print(f'Percentage of free to play games: {free_to_play_perc: .2f}%')\n",
    "free_to_play.head(2)"
   ]
  },
  {
   "cell_type": "markdown",
   "id": "525de5c2-34c7-4b30-b16f-a2d5a0579eb4",
   "metadata": {},
   "source": [
    "An example of a game with 'Free to play' as one of the genres..."
   ]
  },
  {
   "cell_type": "code",
   "execution_count": 365,
   "id": "941d0c16-cff8-45eb-b231-d803cd47b245",
   "metadata": {},
   "outputs": [
    {
     "data": {
      "text/html": [
       "<div>\n",
       "<style scoped>\n",
       "    .dataframe tbody tr th:only-of-type {\n",
       "        vertical-align: middle;\n",
       "    }\n",
       "\n",
       "    .dataframe tbody tr th {\n",
       "        vertical-align: top;\n",
       "    }\n",
       "\n",
       "    .dataframe thead th {\n",
       "        text-align: right;\n",
       "    }\n",
       "</style>\n",
       "<table border=\"1\" class=\"dataframe\">\n",
       "  <thead>\n",
       "    <tr style=\"text-align: right;\">\n",
       "      <th></th>\n",
       "      <th>gameid</th>\n",
       "      <th>title</th>\n",
       "      <th>developers</th>\n",
       "      <th>publishers</th>\n",
       "      <th>genres</th>\n",
       "      <th>supported_languages</th>\n",
       "      <th>release_date</th>\n",
       "    </tr>\n",
       "  </thead>\n",
       "  <tbody>\n",
       "    <tr>\n",
       "      <th>340</th>\n",
       "      <td>1424420</td>\n",
       "      <td>Warchief</td>\n",
       "      <td>['Honikou Games']</td>\n",
       "      <td>['Honikou Games']</td>\n",
       "      <td>['Action', 'Indie', 'Strategy', 'Free To Play', 'Early Access']</td>\n",
       "      <td>['English', 'French', 'Italian', 'German', 'Spanish - Spain', 'Bulgarian', 'Czech', 'Danish', 'Dutch', 'Finnish', 'Greek', 'Hungarian', 'Indonesian', 'Japanese', 'Korean', 'Norwegian', 'Polish', 'Portuguese - Brazil', 'Portuguese - Portugal', 'Romanian', 'Russian', 'Simplified Chinese', 'Spanish - Latin America', 'Swedish', 'Thai', 'Traditional Chinese', 'Turkish', 'Ukrainian', 'Vietnamese']</td>\n",
       "      <td>2024-06-27</td>\n",
       "    </tr>\n",
       "  </tbody>\n",
       "</table>\n",
       "</div>"
      ],
      "text/plain": [
       "      gameid     title         developers         publishers  \\\n",
       "340  1424420  Warchief  ['Honikou Games']  ['Honikou Games']   \n",
       "\n",
       "                                                              genres  \\\n",
       "340  ['Action', 'Indie', 'Strategy', 'Free To Play', 'Early Access']   \n",
       "\n",
       "                                                                                                                                                                                                                                                                                                                                                                                            supported_languages  \\\n",
       "340  ['English', 'French', 'Italian', 'German', 'Spanish - Spain', 'Bulgarian', 'Czech', 'Danish', 'Dutch', 'Finnish', 'Greek', 'Hungarian', 'Indonesian', 'Japanese', 'Korean', 'Norwegian', 'Polish', 'Portuguese - Brazil', 'Portuguese - Portugal', 'Romanian', 'Russian', 'Simplified Chinese', 'Spanish - Latin America', 'Swedish', 'Thai', 'Traditional Chinese', 'Turkish', 'Ukrainian', 'Vietnamese']   \n",
       "\n",
       "    release_date  \n",
       "340   2024-06-27  "
      ]
     },
     "execution_count": 365,
     "metadata": {},
     "output_type": "execute_result"
    }
   ],
   "source": [
    "games[games['gameid']==1424420]"
   ]
  },
  {
   "cell_type": "markdown",
   "id": "47740942-067a-42f6-86a5-2ff6222779ea",
   "metadata": {},
   "source": [
    "...as seen below, this game (first row) has at least one price."
   ]
  },
  {
   "cell_type": "code",
   "execution_count": 366,
   "id": "81270a1f-7745-484d-987a-87a23e825d25",
   "metadata": {},
   "outputs": [
    {
     "data": {
      "text/html": [
       "<div>\n",
       "<style scoped>\n",
       "    .dataframe tbody tr th:only-of-type {\n",
       "        vertical-align: middle;\n",
       "    }\n",
       "\n",
       "    .dataframe tbody tr th {\n",
       "        vertical-align: top;\n",
       "    }\n",
       "\n",
       "    .dataframe thead th {\n",
       "        text-align: right;\n",
       "    }\n",
       "</style>\n",
       "<table border=\"1\" class=\"dataframe\">\n",
       "  <thead>\n",
       "    <tr style=\"text-align: right;\">\n",
       "      <th></th>\n",
       "      <th>gameid</th>\n",
       "      <th>usd</th>\n",
       "      <th>date_acquired</th>\n",
       "    </tr>\n",
       "  </thead>\n",
       "  <tbody>\n",
       "    <tr>\n",
       "      <th>340</th>\n",
       "      <td>1424420</td>\n",
       "      <td>24.99</td>\n",
       "      <td>2024-11-28</td>\n",
       "    </tr>\n",
       "    <tr>\n",
       "      <th>1009</th>\n",
       "      <td>1402280</td>\n",
       "      <td>14.39</td>\n",
       "      <td>2024-11-28</td>\n",
       "    </tr>\n",
       "  </tbody>\n",
       "</table>\n",
       "</div>"
      ],
      "text/plain": [
       "       gameid    usd date_acquired\n",
       "340   1424420  24.99    2024-11-28\n",
       "1009  1402280  14.39    2024-11-28"
      ]
     },
     "execution_count": 366,
     "metadata": {},
     "output_type": "execute_result"
    }
   ],
   "source": [
    "free_to_play_prices = prices[prices['gameid'].isin(free_to_play['gameid'])]\n",
    "free_to_play_prices[~free_to_play_prices['usd'].isna()].head(2)"
   ]
  },
  {
   "cell_type": "markdown",
   "id": "642ad280-274d-493b-a547-18578c96201b",
   "metadata": {},
   "source": [
    "##### Identifying \"Free to Play\" Games with Prices on All Dates\n",
    "\n",
    "While some games are tagged as \"Free to Play\" in the `genres` column, not all of them behave consistently in the `prices` table. To investigate further, we extract the games that have a recorded (non-missing) USD price on **every** date they appear.\n",
    "\n",
    "These games have never truly had a missing price, suggesting that despite their genre tag, they have consistently required payment.\n",
    "\n",
    "This list of game IDs will help us refine the \"Free to Play\" classification and ensure that subsequent price analysis is based on games whose genre and pricing behavior are consistent.\n"
   ]
  },
  {
   "cell_type": "code",
   "execution_count": 367,
   "id": "aff9f807-5f83-4d8c-83cf-a9f80d0dfe5a",
   "metadata": {},
   "outputs": [
    {
     "name": "stdout",
     "output_type": "stream",
     "text": [
      "Number of 'Free to Play' games with prices on all dates: 65\n"
     ]
    }
   ],
   "source": [
    "free_to_play = games[games['genres'].astype(str).str.contains('Free To Play', case=False)] \n",
    "free_to_play_ids = free_to_play['gameid']\n",
    "\n",
    "free_to_play_prices = prices[prices['gameid'].isin(free_to_play_ids)]\n",
    "\n",
    "# group by gameid and check if all USD prices are NOT NaN\n",
    "games_with_all_prices_present = (\n",
    "    free_to_play_prices\n",
    "    .groupby('gameid')['usd']\n",
    "    .apply(lambda x: x.notna().all())  \n",
    ")\n",
    "\n",
    "\n",
    "games_with_all_prices_present_ids = set(\n",
    "    games_with_all_prices_present[games_with_all_prices_present == True].index\n",
    ")\n",
    "\n",
    "print(f\"Number of 'Free to Play' games with prices on all dates: {len(games_with_all_prices_present_ids)}\")\n"
   ]
  },
  {
   "cell_type": "markdown",
   "id": "4c8c903b-c517-4355-a1be-54fff16203af",
   "metadata": {},
   "source": [
    "##### Identifying \"Free to Play\" Games with Prices on All Dates cont...\n",
    "There are 65 of games with prices on all dates, yet they are tagged as \"Free to Play\". We then remove this tag from the `genres` column to be reflect the classification of the game. "
   ]
  },
  {
   "cell_type": "code",
   "execution_count": 285,
   "id": "18dcc727-70fe-4908-b3a2-32a3bf51c799",
   "metadata": {},
   "outputs": [],
   "source": [
    "pd.set_option('display.max_colwidth', None)"
   ]
  },
  {
   "cell_type": "code",
   "execution_count": 368,
   "id": "9b03005e-26fd-47cc-8111-7d6bb95cb6cc",
   "metadata": {},
   "outputs": [
    {
     "data": {
      "text/plain": [
       "87901    ['Adventure', 'Indie', 'Simulation', 'Strategy', 'Free To Play']\n",
       "Name: genres, dtype: object"
      ]
     },
     "execution_count": 368,
     "metadata": {},
     "output_type": "execute_result"
    }
   ],
   "source": [
    "games[games['gameid']==236130]['genres']"
   ]
  },
  {
   "cell_type": "code",
   "execution_count": 369,
   "id": "5297a131-9ed1-4e07-8978-7b3bedd7fa18",
   "metadata": {},
   "outputs": [
    {
     "data": {
      "text/html": [
       "<div>\n",
       "<style scoped>\n",
       "    .dataframe tbody tr th:only-of-type {\n",
       "        vertical-align: middle;\n",
       "    }\n",
       "\n",
       "    .dataframe tbody tr th {\n",
       "        vertical-align: top;\n",
       "    }\n",
       "\n",
       "    .dataframe thead th {\n",
       "        text-align: right;\n",
       "    }\n",
       "</style>\n",
       "<table border=\"1\" class=\"dataframe\">\n",
       "  <thead>\n",
       "    <tr style=\"text-align: right;\">\n",
       "      <th></th>\n",
       "      <th>gameid</th>\n",
       "      <th>title</th>\n",
       "      <th>developers</th>\n",
       "      <th>publishers</th>\n",
       "      <th>genres</th>\n",
       "      <th>supported_languages</th>\n",
       "      <th>release_date</th>\n",
       "    </tr>\n",
       "  </thead>\n",
       "  <tbody>\n",
       "    <tr>\n",
       "      <th>5</th>\n",
       "      <td>3278740</td>\n",
       "      <td>NEURO</td>\n",
       "      <td>['Revolt Games']</td>\n",
       "      <td>['Strategy First']</td>\n",
       "      <td>[Action]</td>\n",
       "      <td>['English', 'Russian']</td>\n",
       "      <td>2024-10-11</td>\n",
       "    </tr>\n",
       "    <tr>\n",
       "      <th>10</th>\n",
       "      <td>3270850</td>\n",
       "      <td>Keep Your Eyes Open</td>\n",
       "      <td>['Texerikus']</td>\n",
       "      <td>['Texerikus']</td>\n",
       "      <td>[Indie]</td>\n",
       "      <td>['English']</td>\n",
       "      <td>2024-10-21</td>\n",
       "    </tr>\n",
       "    <tr>\n",
       "      <th>15</th>\n",
       "      <td>3267350</td>\n",
       "      <td>Tiny Shooters</td>\n",
       "      <td>['madilumar']</td>\n",
       "      <td>['Thetinyverse']</td>\n",
       "      <td>[Action, Free To Play]</td>\n",
       "      <td>['English']</td>\n",
       "      <td>2024-10-19</td>\n",
       "    </tr>\n",
       "  </tbody>\n",
       "</table>\n",
       "</div>"
      ],
      "text/plain": [
       "     gameid                title        developers          publishers  \\\n",
       "5   3278740                NEURO  ['Revolt Games']  ['Strategy First']   \n",
       "10  3270850  Keep Your Eyes Open     ['Texerikus']       ['Texerikus']   \n",
       "15  3267350        Tiny Shooters     ['madilumar']    ['Thetinyverse']   \n",
       "\n",
       "                    genres     supported_languages release_date  \n",
       "5                 [Action]  ['English', 'Russian']   2024-10-11  \n",
       "10                 [Indie]             ['English']   2024-10-21  \n",
       "15  [Action, Free To Play]             ['English']   2024-10-19  "
      ]
     },
     "execution_count": 369,
     "metadata": {},
     "output_type": "execute_result"
    }
   ],
   "source": [
    "#the goal in this cell is just some clean up on the genres column so we can access the genres to remove the 'Free to play' tag.\n",
    "#For instance, the genre is represented as a list inside a string: \"['Action', 'Free To Play']\" but we want it as a list ['Action', 'Free To Play']\n",
    "#so we can loop through it\n",
    "games['genres'] = games['genres'].apply(lambda x: ast.literal_eval(x) if isinstance(x, str) else x)\n",
    "games.head(3)"
   ]
  },
  {
   "cell_type": "code",
   "execution_count": 370,
   "id": "4ba39cd7-5b53-4622-9810-c89f9460949a",
   "metadata": {},
   "outputs": [],
   "source": [
    "target_ids = list(games_with_all_prices_present_ids)\n",
    "\n",
    "# Function to remove 'Free To Play' from the genre column for those with prices\n",
    "def remove_free_to_play(genres):\n",
    "    return [g for g in genres if g != 'Free To Play']\n",
    "games.loc[games['gameid'].isin(target_ids), 'genres'] = games.loc[games['gameid'].isin(target_ids), 'genres'].apply(remove_free_to_play)\n"
   ]
  },
  {
   "cell_type": "code",
   "execution_count": 381,
   "id": "9191a63d-17af-4a79-8c92-b7433c19344d",
   "metadata": {},
   "outputs": [],
   "source": [
    "games_with_all_prices_present2 = (\n",
    "    free_to_play_prices\n",
    "    .groupby('gameid')['usd']\n",
    "    .apply(lambda x: x.notna().all())  # True if ALL usd prices are NOT NaN\n",
    ")"
   ]
  },
  {
   "cell_type": "code",
   "execution_count": 371,
   "id": "75cb50ee-8c2a-4332-8cea-01370e7bdf35",
   "metadata": {},
   "outputs": [
    {
     "data": {
      "text/plain": [
       "87901    [Adventure, Indie, Simulation, Strategy]\n",
       "Name: genres, dtype: object"
      ]
     },
     "execution_count": 371,
     "metadata": {},
     "output_type": "execute_result"
    }
   ],
   "source": [
    "#test\n",
    "games[games['gameid']==236130]['genres']"
   ]
  },
  {
   "cell_type": "markdown",
   "id": "a72e1d82-b029-48f5-a7d0-f10cf4eca5f5",
   "metadata": {},
   "source": [
    "#### Final Observations on \"Free to Play\" Tag Inconsistencies\n",
    "\n",
    "After cleaning, we discovered that some games still tagged as \"Free to Play\" eventually showed valid prices in later dates. This suggests that while pricing models may change over time, the genre tags are not always promptly updated.\n",
    "\n",
    "Rather than manually modifying the `genres` field, we rely on a newly created categorical variable, `is_free_to_play`, derived from current price behavior. This clean flag will be used for all price analysis and modeling, ensuring consistency while preserving the original genre metadata for reference.\n",
    "\n",
    "\n",
    "Also note that now we have 8685 games with the \"Free to play\" tag.\n"
   ]
  },
  {
   "cell_type": "code",
   "execution_count": 388,
   "id": "bbd254c9-40bc-4abf-bfd9-d8de450b15bc",
   "metadata": {},
   "outputs": [
    {
     "name": "stdout",
     "output_type": "stream",
     "text": [
      "Number of free to play games:  8685\n",
      "Percentage of free to play games:  9.34%\n",
      "<class 'pandas.core.frame.DataFrame'>\n",
      "Index: 388383 entries, 15 to 4414269\n",
      "Data columns (total 3 columns):\n",
      " #   Column         Non-Null Count   Dtype  \n",
      "---  ------         --------------   -----  \n",
      " 0   gameid         388383 non-null  int64  \n",
      " 1   usd            449 non-null     float64\n",
      " 2   date_acquired  388383 non-null  object \n",
      "dtypes: float64(1), int64(1), object(1)\n",
      "memory usage: 11.9+ MB\n"
     ]
    }
   ],
   "source": [
    "free_to_play = games[games['genres'].astype(str).str.contains('Free To Play')] \n",
    "num_free_to_play = len(free_to_play)\n",
    "print(f'Number of free to play games: {num_free_to_play: }')\n",
    "free_to_play_perc = (len(free_to_play) / len(games) )*100\n",
    "print(f'Percentage of free to play games: {free_to_play_perc: .2f}%')\n",
    "free_to_play_ids = free_to_play['gameid']\n",
    "free_to_play_prices = prices[prices['gameid'].isin(free_to_play_ids)]\n",
    "free_to_play_prices.info()"
   ]
  },
  {
   "cell_type": "code",
   "execution_count": 387,
   "id": "68878835-bd20-43f3-aecd-a102f51233fb",
   "metadata": {},
   "outputs": [
    {
     "data": {
      "text/html": [
       "<div>\n",
       "<style scoped>\n",
       "    .dataframe tbody tr th:only-of-type {\n",
       "        vertical-align: middle;\n",
       "    }\n",
       "\n",
       "    .dataframe tbody tr th {\n",
       "        vertical-align: top;\n",
       "    }\n",
       "\n",
       "    .dataframe thead th {\n",
       "        text-align: right;\n",
       "    }\n",
       "</style>\n",
       "<table border=\"1\" class=\"dataframe\">\n",
       "  <thead>\n",
       "    <tr style=\"text-align: right;\">\n",
       "      <th></th>\n",
       "      <th>gameid</th>\n",
       "      <th>title</th>\n",
       "      <th>developers</th>\n",
       "      <th>publishers</th>\n",
       "      <th>genres</th>\n",
       "      <th>supported_languages</th>\n",
       "      <th>release_date</th>\n",
       "    </tr>\n",
       "  </thead>\n",
       "  <tbody>\n",
       "    <tr>\n",
       "      <th>65683</th>\n",
       "      <td>2964440</td>\n",
       "      <td>Yapori Minigames</td>\n",
       "      <td>['Hayllon']</td>\n",
       "      <td>['Hayllon']</td>\n",
       "      <td>[Casual, Free To Play]</td>\n",
       "      <td>['Portuguese - Brazil', 'English']</td>\n",
       "      <td>2024-10-31</td>\n",
       "    </tr>\n",
       "  </tbody>\n",
       "</table>\n",
       "</div>"
      ],
      "text/plain": [
       "        gameid             title   developers   publishers  \\\n",
       "65683  2964440  Yapori Minigames  ['Hayllon']  ['Hayllon']   \n",
       "\n",
       "                       genres                 supported_languages release_date  \n",
       "65683  [Casual, Free To Play]  ['Portuguese - Brazil', 'English']   2024-10-31  "
      ]
     },
     "execution_count": 387,
     "metadata": {},
     "output_type": "execute_result"
    }
   ],
   "source": [
    "games[games['gameid']==2964440]"
   ]
  },
  {
   "cell_type": "code",
   "execution_count": 389,
   "id": "4406921a-666b-4de9-837c-9b10cf0cba24",
   "metadata": {},
   "outputs": [
    {
     "data": {
      "text/plain": [
       "19"
      ]
     },
     "execution_count": 389,
     "metadata": {},
     "output_type": "execute_result"
    }
   ],
   "source": [
    "remaining_free_to_play['gameid'].nunique()"
   ]
  },
  {
   "cell_type": "code",
   "execution_count": 386,
   "id": "01b6532d-ff2d-416b-a726-1ef9c58b00f8",
   "metadata": {},
   "outputs": [
    {
     "data": {
      "text/html": [
       "<div>\n",
       "<style scoped>\n",
       "    .dataframe tbody tr th:only-of-type {\n",
       "        vertical-align: middle;\n",
       "    }\n",
       "\n",
       "    .dataframe tbody tr th {\n",
       "        vertical-align: top;\n",
       "    }\n",
       "\n",
       "    .dataframe thead th {\n",
       "        text-align: right;\n",
       "    }\n",
       "</style>\n",
       "<table border=\"1\" class=\"dataframe\">\n",
       "  <thead>\n",
       "    <tr style=\"text-align: right;\">\n",
       "      <th></th>\n",
       "      <th>gameid</th>\n",
       "      <th>usd</th>\n",
       "      <th>date_acquired</th>\n",
       "    </tr>\n",
       "  </thead>\n",
       "  <tbody>\n",
       "    <tr>\n",
       "      <th>65862</th>\n",
       "      <td>2964440</td>\n",
       "      <td>NaN</td>\n",
       "      <td>2024-11-28</td>\n",
       "    </tr>\n",
       "    <tr>\n",
       "      <th>163681</th>\n",
       "      <td>2964440</td>\n",
       "      <td>NaN</td>\n",
       "      <td>2024-11-30</td>\n",
       "    </tr>\n",
       "    <tr>\n",
       "      <th>261366</th>\n",
       "      <td>2964440</td>\n",
       "      <td>NaN</td>\n",
       "      <td>2024-12-02</td>\n",
       "    </tr>\n",
       "    <tr>\n",
       "      <th>358946</th>\n",
       "      <td>2964440</td>\n",
       "      <td>NaN</td>\n",
       "      <td>2024-12-04</td>\n",
       "    </tr>\n",
       "    <tr>\n",
       "      <th>456683</th>\n",
       "      <td>2964440</td>\n",
       "      <td>1.99</td>\n",
       "      <td>2024-12-06</td>\n",
       "    </tr>\n",
       "    <tr>\n",
       "      <th>554312</th>\n",
       "      <td>2964440</td>\n",
       "      <td>1.99</td>\n",
       "      <td>2024-12-08</td>\n",
       "    </tr>\n",
       "    <tr>\n",
       "      <th>652246</th>\n",
       "      <td>2964440</td>\n",
       "      <td>1.99</td>\n",
       "      <td>2024-12-10</td>\n",
       "    </tr>\n",
       "    <tr>\n",
       "      <th>749862</th>\n",
       "      <td>2964440</td>\n",
       "      <td>1.99</td>\n",
       "      <td>2024-12-12</td>\n",
       "    </tr>\n",
       "    <tr>\n",
       "      <th>847537</th>\n",
       "      <td>2964440</td>\n",
       "      <td>1.99</td>\n",
       "      <td>2024-12-14</td>\n",
       "    </tr>\n",
       "    <tr>\n",
       "      <th>945251</th>\n",
       "      <td>2964440</td>\n",
       "      <td>1.99</td>\n",
       "      <td>2024-12-16</td>\n",
       "    </tr>\n",
       "    <tr>\n",
       "      <th>1042925</th>\n",
       "      <td>2964440</td>\n",
       "      <td>1.99</td>\n",
       "      <td>2024-12-18</td>\n",
       "    </tr>\n",
       "    <tr>\n",
       "      <th>1140725</th>\n",
       "      <td>2964440</td>\n",
       "      <td>1.99</td>\n",
       "      <td>2024-12-20</td>\n",
       "    </tr>\n",
       "    <tr>\n",
       "      <th>1238556</th>\n",
       "      <td>2964440</td>\n",
       "      <td>0.79</td>\n",
       "      <td>2024-12-22</td>\n",
       "    </tr>\n",
       "    <tr>\n",
       "      <th>1335962</th>\n",
       "      <td>2964440</td>\n",
       "      <td>0.79</td>\n",
       "      <td>2024-12-24</td>\n",
       "    </tr>\n",
       "    <tr>\n",
       "      <th>1433903</th>\n",
       "      <td>2964440</td>\n",
       "      <td>0.79</td>\n",
       "      <td>2024-12-26</td>\n",
       "    </tr>\n",
       "    <tr>\n",
       "      <th>1531652</th>\n",
       "      <td>2964440</td>\n",
       "      <td>0.79</td>\n",
       "      <td>2024-12-28</td>\n",
       "    </tr>\n",
       "    <tr>\n",
       "      <th>1629316</th>\n",
       "      <td>2964440</td>\n",
       "      <td>0.79</td>\n",
       "      <td>2024-12-30</td>\n",
       "    </tr>\n",
       "    <tr>\n",
       "      <th>1726967</th>\n",
       "      <td>2964440</td>\n",
       "      <td>0.79</td>\n",
       "      <td>2025-01-01</td>\n",
       "    </tr>\n",
       "    <tr>\n",
       "      <th>1824843</th>\n",
       "      <td>2964440</td>\n",
       "      <td>0.99</td>\n",
       "      <td>2025-01-03</td>\n",
       "    </tr>\n",
       "    <tr>\n",
       "      <th>1922516</th>\n",
       "      <td>2964440</td>\n",
       "      <td>0.99</td>\n",
       "      <td>2025-01-05</td>\n",
       "    </tr>\n",
       "    <tr>\n",
       "      <th>2020200</th>\n",
       "      <td>2964440</td>\n",
       "      <td>0.99</td>\n",
       "      <td>2025-01-07</td>\n",
       "    </tr>\n",
       "    <tr>\n",
       "      <th>2117930</th>\n",
       "      <td>2964440</td>\n",
       "      <td>0.99</td>\n",
       "      <td>2025-01-09</td>\n",
       "    </tr>\n",
       "    <tr>\n",
       "      <th>2215634</th>\n",
       "      <td>2964440</td>\n",
       "      <td>0.99</td>\n",
       "      <td>2025-01-11</td>\n",
       "    </tr>\n",
       "    <tr>\n",
       "      <th>2314369</th>\n",
       "      <td>2964440</td>\n",
       "      <td>0.99</td>\n",
       "      <td>2025-01-13</td>\n",
       "    </tr>\n",
       "    <tr>\n",
       "      <th>2413180</th>\n",
       "      <td>2964440</td>\n",
       "      <td>0.99</td>\n",
       "      <td>2025-01-15</td>\n",
       "    </tr>\n",
       "    <tr>\n",
       "      <th>2511612</th>\n",
       "      <td>2964440</td>\n",
       "      <td>0.99</td>\n",
       "      <td>2025-01-17</td>\n",
       "    </tr>\n",
       "    <tr>\n",
       "      <th>2609916</th>\n",
       "      <td>2964440</td>\n",
       "      <td>0.99</td>\n",
       "      <td>2025-01-19</td>\n",
       "    </tr>\n",
       "    <tr>\n",
       "      <th>2708403</th>\n",
       "      <td>2964440</td>\n",
       "      <td>0.99</td>\n",
       "      <td>2025-01-21</td>\n",
       "    </tr>\n",
       "    <tr>\n",
       "      <th>2806888</th>\n",
       "      <td>2964440</td>\n",
       "      <td>0.99</td>\n",
       "      <td>2025-01-23</td>\n",
       "    </tr>\n",
       "    <tr>\n",
       "      <th>2905527</th>\n",
       "      <td>2964440</td>\n",
       "      <td>0.99</td>\n",
       "      <td>2025-01-25</td>\n",
       "    </tr>\n",
       "    <tr>\n",
       "      <th>3004164</th>\n",
       "      <td>2964440</td>\n",
       "      <td>0.99</td>\n",
       "      <td>2025-01-27</td>\n",
       "    </tr>\n",
       "    <tr>\n",
       "      <th>3102512</th>\n",
       "      <td>2964440</td>\n",
       "      <td>0.99</td>\n",
       "      <td>2025-01-29</td>\n",
       "    </tr>\n",
       "    <tr>\n",
       "      <th>3200891</th>\n",
       "      <td>2964440</td>\n",
       "      <td>1.99</td>\n",
       "      <td>2025-01-31</td>\n",
       "    </tr>\n",
       "    <tr>\n",
       "      <th>3299259</th>\n",
       "      <td>2964440</td>\n",
       "      <td>1.99</td>\n",
       "      <td>2025-02-02</td>\n",
       "    </tr>\n",
       "    <tr>\n",
       "      <th>3397887</th>\n",
       "      <td>2964440</td>\n",
       "      <td>1.99</td>\n",
       "      <td>2025-02-04</td>\n",
       "    </tr>\n",
       "    <tr>\n",
       "      <th>3496507</th>\n",
       "      <td>2964440</td>\n",
       "      <td>1.99</td>\n",
       "      <td>2025-02-06</td>\n",
       "    </tr>\n",
       "    <tr>\n",
       "      <th>3595174</th>\n",
       "      <td>2964440</td>\n",
       "      <td>1.99</td>\n",
       "      <td>2025-02-08</td>\n",
       "    </tr>\n",
       "    <tr>\n",
       "      <th>3692578</th>\n",
       "      <td>2964440</td>\n",
       "      <td>1.99</td>\n",
       "      <td>2025-02-10</td>\n",
       "    </tr>\n",
       "    <tr>\n",
       "      <th>3790904</th>\n",
       "      <td>2964440</td>\n",
       "      <td>1.99</td>\n",
       "      <td>2025-02-12</td>\n",
       "    </tr>\n",
       "    <tr>\n",
       "      <th>3889336</th>\n",
       "      <td>2964440</td>\n",
       "      <td>1.99</td>\n",
       "      <td>2025-02-14</td>\n",
       "    </tr>\n",
       "    <tr>\n",
       "      <th>3987951</th>\n",
       "      <td>2964440</td>\n",
       "      <td>1.99</td>\n",
       "      <td>2025-02-16</td>\n",
       "    </tr>\n",
       "    <tr>\n",
       "      <th>4086583</th>\n",
       "      <td>2964440</td>\n",
       "      <td>1.99</td>\n",
       "      <td>2025-02-18</td>\n",
       "    </tr>\n",
       "    <tr>\n",
       "      <th>4184947</th>\n",
       "      <td>2964440</td>\n",
       "      <td>1.99</td>\n",
       "      <td>2025-02-20</td>\n",
       "    </tr>\n",
       "    <tr>\n",
       "      <th>4283288</th>\n",
       "      <td>2964440</td>\n",
       "      <td>1.99</td>\n",
       "      <td>2025-02-22</td>\n",
       "    </tr>\n",
       "    <tr>\n",
       "      <th>4381622</th>\n",
       "      <td>2964440</td>\n",
       "      <td>1.99</td>\n",
       "      <td>2025-02-24</td>\n",
       "    </tr>\n",
       "  </tbody>\n",
       "</table>\n",
       "</div>"
      ],
      "text/plain": [
       "          gameid   usd date_acquired\n",
       "65862    2964440   NaN    2024-11-28\n",
       "163681   2964440   NaN    2024-11-30\n",
       "261366   2964440   NaN    2024-12-02\n",
       "358946   2964440   NaN    2024-12-04\n",
       "456683   2964440  1.99    2024-12-06\n",
       "554312   2964440  1.99    2024-12-08\n",
       "652246   2964440  1.99    2024-12-10\n",
       "749862   2964440  1.99    2024-12-12\n",
       "847537   2964440  1.99    2024-12-14\n",
       "945251   2964440  1.99    2024-12-16\n",
       "1042925  2964440  1.99    2024-12-18\n",
       "1140725  2964440  1.99    2024-12-20\n",
       "1238556  2964440  0.79    2024-12-22\n",
       "1335962  2964440  0.79    2024-12-24\n",
       "1433903  2964440  0.79    2024-12-26\n",
       "1531652  2964440  0.79    2024-12-28\n",
       "1629316  2964440  0.79    2024-12-30\n",
       "1726967  2964440  0.79    2025-01-01\n",
       "1824843  2964440  0.99    2025-01-03\n",
       "1922516  2964440  0.99    2025-01-05\n",
       "2020200  2964440  0.99    2025-01-07\n",
       "2117930  2964440  0.99    2025-01-09\n",
       "2215634  2964440  0.99    2025-01-11\n",
       "2314369  2964440  0.99    2025-01-13\n",
       "2413180  2964440  0.99    2025-01-15\n",
       "2511612  2964440  0.99    2025-01-17\n",
       "2609916  2964440  0.99    2025-01-19\n",
       "2708403  2964440  0.99    2025-01-21\n",
       "2806888  2964440  0.99    2025-01-23\n",
       "2905527  2964440  0.99    2025-01-25\n",
       "3004164  2964440  0.99    2025-01-27\n",
       "3102512  2964440  0.99    2025-01-29\n",
       "3200891  2964440  1.99    2025-01-31\n",
       "3299259  2964440  1.99    2025-02-02\n",
       "3397887  2964440  1.99    2025-02-04\n",
       "3496507  2964440  1.99    2025-02-06\n",
       "3595174  2964440  1.99    2025-02-08\n",
       "3692578  2964440  1.99    2025-02-10\n",
       "3790904  2964440  1.99    2025-02-12\n",
       "3889336  2964440  1.99    2025-02-14\n",
       "3987951  2964440  1.99    2025-02-16\n",
       "4086583  2964440  1.99    2025-02-18\n",
       "4184947  2964440  1.99    2025-02-20\n",
       "4283288  2964440  1.99    2025-02-22\n",
       "4381622  2964440  1.99    2025-02-24"
      ]
     },
     "execution_count": 386,
     "metadata": {},
     "output_type": "execute_result"
    }
   ],
   "source": [
    "remaining_free_to_play = free_to_play_prices[~free_to_play_prices['usd'].isna()]\n",
    "prices[prices['gameid']==2964440]"
   ]
  },
  {
   "cell_type": "code",
   "execution_count": 396,
   "id": "a75c40eb-4d4b-4080-b46e-77b33dead759",
   "metadata": {},
   "outputs": [],
   "source": [
    "# for each game, check if it had only NaN prices\n",
    "games_with_only_nan_prices = (\n",
    "    prices.groupby('gameid')['usd']\n",
    "    .apply(lambda x: x.isna().all())\n",
    ")\n",
    "\n",
    "#games['is_free_to_play'] = games['gameid'].apply(lambda gid: 'Yes' if gid in set(games_with_only_nan_prices[games_with_only_nan_prices == True].index) else 'No')\n"
   ]
  },
  {
   "cell_type": "code",
   "execution_count": 399,
   "id": "bcc4198e-83d7-4e71-8769-a593b6a9dcdf",
   "metadata": {},
   "outputs": [],
   "source": [
    "target_ids = list(set(games_with_only_nan_prices[games_with_only_nan_prices == True].index))\n",
    "games['is_free_to_play'] = games['gameid'].apply(lambda gid: 'Yes' if gid in target_ids else 'No')\n"
   ]
  },
  {
   "cell_type": "code",
   "execution_count": 432,
   "id": "16149c87-d321-4687-9cd3-6ee86f1b0fc2",
   "metadata": {},
   "outputs": [
    {
     "data": {
      "text/plain": [
       "is_free_to_play\n",
       "No     0.842285\n",
       "Yes    0.157715\n",
       "Name: count, dtype: float64"
      ]
     },
     "execution_count": 432,
     "metadata": {},
     "output_type": "execute_result"
    }
   ],
   "source": [
    "games['is_free_to_play'].value_counts()/len(games)"
   ]
  },
  {
   "cell_type": "markdown",
   "id": "fb49890a-4c13-4e94-a80c-2943d6dde8cc",
   "metadata": {},
   "source": [
    "##### Decision on Free-to-Play Prices\n",
    "\n",
    "Since we have created a clean `is_free_to_play` flag, we do not impute missing (`NaN`) prices for Free-to-Play games. \n",
    "\n",
    "In Power BI and later analysis, Free-to-Play games will be filtered and treated separately. Blank USD prices will remain for these entries, ensuring that pricing analysis focuses exclusively on paid games where price information is meaningful.\n",
    "\n",
    "This approach preserves data integrity and avoids introducing artificial 0.00 values into the dataset.\n"
   ]
  },
  {
   "cell_type": "code",
   "execution_count": 403,
   "id": "ccb73eaa-7263-4b14-bd7d-71e15c161ede",
   "metadata": {},
   "outputs": [
    {
     "data": {
      "text/html": [
       "<div>\n",
       "<style scoped>\n",
       "    .dataframe tbody tr th:only-of-type {\n",
       "        vertical-align: middle;\n",
       "    }\n",
       "\n",
       "    .dataframe tbody tr th {\n",
       "        vertical-align: top;\n",
       "    }\n",
       "\n",
       "    .dataframe thead th {\n",
       "        text-align: right;\n",
       "    }\n",
       "</style>\n",
       "<table border=\"1\" class=\"dataframe\">\n",
       "  <thead>\n",
       "    <tr style=\"text-align: right;\">\n",
       "      <th></th>\n",
       "      <th>gameid</th>\n",
       "      <th>usd</th>\n",
       "      <th>date_acquired</th>\n",
       "    </tr>\n",
       "  </thead>\n",
       "  <tbody>\n",
       "    <tr>\n",
       "      <th>5</th>\n",
       "      <td>3278740</td>\n",
       "      <td>5.99</td>\n",
       "      <td>2024-11-28</td>\n",
       "    </tr>\n",
       "  </tbody>\n",
       "</table>\n",
       "</div>"
      ],
      "text/plain": [
       "    gameid   usd date_acquired\n",
       "5  3278740  5.99    2024-11-28"
      ]
     },
     "execution_count": 403,
     "metadata": {},
     "output_type": "execute_result"
    }
   ],
   "source": [
    "prices.head(1)"
   ]
  },
  {
   "cell_type": "markdown",
   "id": "41b13b6e-68a8-46c0-bb2e-1a0a3d6be46c",
   "metadata": {},
   "source": [
    "### Verifying Latest Price Snapshot\n",
    "\n",
    "Since we intend to use a snapshot of the latest prices for each game in our Power BI dashboard, we validate whether all games have their most recent price recorded on the same date. This check ensures that aggregations like minimum, maximum, and average price reflect a consistent time frame. While this wasn’t part of the initial cleaning, it emerged from iterative dashboard testing — highlighting the importance of refining assumptions as new insights arise.\n"
   ]
  },
  {
   "cell_type": "code",
   "execution_count": 43,
   "id": "a42caac5-23b8-4578-bbbf-845b9ecebe55",
   "metadata": {},
   "outputs": [
    {
     "name": "stdout",
     "output_type": "stream",
     "text": [
      "Number of unique latest price dates: 1\n",
      "\n",
      "Number of games by their latest price date:\n",
      "latest_game_date\n",
      "2025-02-24    92964\n",
      "Name: count, dtype: int64\n"
     ]
    }
   ],
   "source": [
    "prices['date_acquired'] = pd.to_datetime(prices['date_acquired'], errors='coerce')\n",
    "\n",
    "# get the latest price date per game\n",
    "latest_price_per_game = prices.groupby('gameid')['date_acquired'].max().reset_index()\n",
    "latest_price_per_game.rename(columns={'date_acquired': 'latest_game_date'}, inplace=True)\n",
    "\n",
    "#how many unique \"latest\" dates exist?\n",
    "unique_latest_dates = latest_price_per_game['latest_game_date'].nunique()\n",
    "print(f\"Number of unique latest price dates: {unique_latest_dates}\")\n",
    "\n",
    "# Optional: Display how many games fall under each latest date\n",
    "date_counts = latest_price_per_game['latest_game_date'].value_counts().sort_index()\n",
    "print(\"\\nNumber of games by their latest price date:\")\n",
    "print(date_counts)\n"
   ]
  },
  {
   "cell_type": "code",
   "execution_count": 44,
   "id": "4219940c-a80a-4163-b289-658b90014b79",
   "metadata": {},
   "outputs": [
    {
     "data": {
      "text/html": [
       "<div>\n",
       "<style scoped>\n",
       "    .dataframe tbody tr th:only-of-type {\n",
       "        vertical-align: middle;\n",
       "    }\n",
       "\n",
       "    .dataframe tbody tr th {\n",
       "        vertical-align: top;\n",
       "    }\n",
       "\n",
       "    .dataframe thead th {\n",
       "        text-align: right;\n",
       "    }\n",
       "</style>\n",
       "<table border=\"1\" class=\"dataframe\">\n",
       "  <thead>\n",
       "    <tr style=\"text-align: right;\">\n",
       "      <th></th>\n",
       "      <th>gameid</th>\n",
       "      <th>latest_game_date</th>\n",
       "    </tr>\n",
       "  </thead>\n",
       "  <tbody>\n",
       "    <tr>\n",
       "      <th>0</th>\n",
       "      <td>10</td>\n",
       "      <td>2025-02-24</td>\n",
       "    </tr>\n",
       "    <tr>\n",
       "      <th>1</th>\n",
       "      <td>20</td>\n",
       "      <td>2025-02-24</td>\n",
       "    </tr>\n",
       "    <tr>\n",
       "      <th>2</th>\n",
       "      <td>30</td>\n",
       "      <td>2025-02-24</td>\n",
       "    </tr>\n",
       "    <tr>\n",
       "      <th>3</th>\n",
       "      <td>40</td>\n",
       "      <td>2025-02-24</td>\n",
       "    </tr>\n",
       "    <tr>\n",
       "      <th>4</th>\n",
       "      <td>50</td>\n",
       "      <td>2025-02-24</td>\n",
       "    </tr>\n",
       "    <tr>\n",
       "      <th>...</th>\n",
       "      <td>...</td>\n",
       "      <td>...</td>\n",
       "    </tr>\n",
       "    <tr>\n",
       "      <th>92959</th>\n",
       "      <td>3416510</td>\n",
       "      <td>2025-02-24</td>\n",
       "    </tr>\n",
       "    <tr>\n",
       "      <th>92960</th>\n",
       "      <td>3416630</td>\n",
       "      <td>2025-02-24</td>\n",
       "    </tr>\n",
       "    <tr>\n",
       "      <th>92961</th>\n",
       "      <td>3416810</td>\n",
       "      <td>2025-02-24</td>\n",
       "    </tr>\n",
       "    <tr>\n",
       "      <th>92962</th>\n",
       "      <td>3417390</td>\n",
       "      <td>2025-02-24</td>\n",
       "    </tr>\n",
       "    <tr>\n",
       "      <th>92963</th>\n",
       "      <td>3418820</td>\n",
       "      <td>2025-02-24</td>\n",
       "    </tr>\n",
       "  </tbody>\n",
       "</table>\n",
       "<p>92964 rows × 2 columns</p>\n",
       "</div>"
      ],
      "text/plain": [
       "        gameid latest_game_date\n",
       "0           10       2025-02-24\n",
       "1           20       2025-02-24\n",
       "2           30       2025-02-24\n",
       "3           40       2025-02-24\n",
       "4           50       2025-02-24\n",
       "...        ...              ...\n",
       "92959  3416510       2025-02-24\n",
       "92960  3416630       2025-02-24\n",
       "92961  3416810       2025-02-24\n",
       "92962  3417390       2025-02-24\n",
       "92963  3418820       2025-02-24\n",
       "\n",
       "[92964 rows x 2 columns]"
      ]
     },
     "execution_count": 44,
     "metadata": {},
     "output_type": "execute_result"
    }
   ],
   "source": [
    "latest_price_per_game"
   ]
  },
  {
   "cell_type": "markdown",
   "id": "518e67b0-74d5-4a7d-adcf-648ac675e253",
   "metadata": {},
   "source": [
    "## Reviews table"
   ]
  },
  {
   "cell_type": "markdown",
   "id": "a44e2220-082d-4b27-8ff1-701596b17acd",
   "metadata": {},
   "source": [
    "We now look at the table with reviews. As per the documentation, this table has the following columns: \n",
    "* `reviewid` - unique reviewID (Serial Key)\n",
    "* `playerid` - userID on the Steam platform who submitted the review\n",
    "* `gameid` - gameID for which the review was written\n",
    "* `review` - user-submitted review for the game\n",
    "* `helpful` - number of users who found the review helpful\n",
    "* `funny` - number of users who found the review funny\n",
    "* `awards` - number of awards given to the review\n",
    "* `posted `- timestamp of when the review was posted\n",
    "\n",
    "Our main focus is the `gameid` since, later on, this can help in finding the number of reviews per game. We will drop the `review` column since it will not be useful in our analyses. "
   ]
  },
  {
   "cell_type": "code",
   "execution_count": 1,
   "id": "500aaf67-44d1-4844-9623-2bc477ebcfcf",
   "metadata": {
    "collapsed": true,
    "jupyter": {
     "outputs_hidden": true
    }
   },
   "outputs": [
    {
     "ename": "NameError",
     "evalue": "name 'pd' is not defined",
     "output_type": "error",
     "traceback": [
      "\u001b[1;31m---------------------------------------------------------------------------\u001b[0m",
      "\u001b[1;31mNameError\u001b[0m                                 Traceback (most recent call last)",
      "Cell \u001b[1;32mIn[1], line 1\u001b[0m\n\u001b[1;32m----> 1\u001b[0m reviewsdf \u001b[38;5;241m=\u001b[39m pd\u001b[38;5;241m.\u001b[39mread_csv(\u001b[38;5;124m'\u001b[39m\u001b[38;5;124m../data_steam/raw/reviews.csv\u001b[39m\u001b[38;5;124m'\u001b[39m)\n",
      "\u001b[1;31mNameError\u001b[0m: name 'pd' is not defined"
     ]
    }
   ],
   "source": [
    "reviewsdf = pd.read_csv('../data_steam/raw/reviews.csv')"
   ]
  },
  {
   "cell_type": "code",
   "execution_count": 405,
   "id": "cfd7bdd2-181a-45ee-b1e0-53de753940d0",
   "metadata": {},
   "outputs": [
    {
     "data": {
      "text/html": [
       "<div>\n",
       "<style scoped>\n",
       "    .dataframe tbody tr th:only-of-type {\n",
       "        vertical-align: middle;\n",
       "    }\n",
       "\n",
       "    .dataframe tbody tr th {\n",
       "        vertical-align: top;\n",
       "    }\n",
       "\n",
       "    .dataframe thead th {\n",
       "        text-align: right;\n",
       "    }\n",
       "</style>\n",
       "<table border=\"1\" class=\"dataframe\">\n",
       "  <thead>\n",
       "    <tr style=\"text-align: right;\">\n",
       "      <th></th>\n",
       "      <th>reviewid</th>\n",
       "      <th>playerid</th>\n",
       "      <th>gameid</th>\n",
       "      <th>review</th>\n",
       "      <th>helpful</th>\n",
       "      <th>funny</th>\n",
       "      <th>awards</th>\n",
       "      <th>posted</th>\n",
       "    </tr>\n",
       "  </thead>\n",
       "  <tbody>\n",
       "    <tr>\n",
       "      <th>0</th>\n",
       "      <td>639543</td>\n",
       "      <td>76561198796340888</td>\n",
       "      <td>730</td>\n",
       "      <td>Goud gamę i have 3 vac ban acont but i stilll playj thiz gesme</td>\n",
       "      <td>0</td>\n",
       "      <td>0</td>\n",
       "      <td>0</td>\n",
       "      <td>2018-03-22</td>\n",
       "    </tr>\n",
       "    <tr>\n",
       "      <th>1</th>\n",
       "      <td>639544</td>\n",
       "      <td>76561198028706627</td>\n",
       "      <td>393380</td>\n",
       "      <td>---{ Graphics }---☐ You forget what reality is☑ Beautiful☐ Good☐ Decent☐ Bad☐ Don‘t look too long at it☐ MS-DOS---{ Gameplay }---☑ Very good☐ Good☐ It's just gameplay☐ Mehh☐ Watch paint dry instead☐ Just don't---{ Audio }---☑ Eargasm☐ Very good☐ Good☐ Not too bad☐ Bad☐ I'm now deaf---{ Audience }---☐ Kids☑ Teens☑ Adults☐ Grandma---{ PC Requirements }---☐ Check if you can run paint☐ Potato☑ Decent☐ Fast☐ Rich boi☐ Ask NASA if they have a spare computer---{ Game Size }---☐ Floppy Disk☐ Old Fashioned☐ Workable☐ Big☑ Will eat 10% of your 1TB hard drive☐ You will want an entire hard drive to hold it☐ You will need to invest in a black hole to hold all the data---{ Difficulty }---☐ Just press 'W'☐ Easy☐ Easy to learn / Hard to master☑ Significant brain usage☐ Difficult☐ Dark Souls---{ Grind }---☑ Nothing to grind☐ Only if u care about leaderboards/ranks☐ Isn't necessary to progress☐ Average grind level☐ Too much grind☐ You'll need a second life for grinding---{ Story }---☑ No Story☐ Some lore☐ Average☐ Good☐ Lovely☐ It'll replace your life---{ Game Time }---☐ Long enough for a cup of coffee☐ Short☐ Average☐ Long☑ To infinity and beyond---{ Price }---☐ It's free!☑ Worth the price☐ If it's on sale☐ If u have some spare money left☐ Not recommended☐ You could also just burn your money---{ Bugs }---☐ Never heard of☑ Minor bugs☐ Can get annoying☐ ARK: Survival Evolved☐ The game itself is a big terrarium for bugs---{ ? / 10 }---☐ 1☐ 2☐ 3☐ 4☐ 5☐ 6☐ 7☐ 8☑ 9☐ 10</td>\n",
       "      <td>0</td>\n",
       "      <td>0</td>\n",
       "      <td>0</td>\n",
       "      <td>2025-01-03</td>\n",
       "    </tr>\n",
       "    <tr>\n",
       "      <th>2</th>\n",
       "      <td>639545</td>\n",
       "      <td>76561198028706627</td>\n",
       "      <td>10</td>\n",
       "      <td>One of the best FPS games :)</td>\n",
       "      <td>0</td>\n",
       "      <td>0</td>\n",
       "      <td>0</td>\n",
       "      <td>2012-05-13</td>\n",
       "    </tr>\n",
       "  </tbody>\n",
       "</table>\n",
       "</div>"
      ],
      "text/plain": [
       "   reviewid           playerid  gameid  \\\n",
       "0    639543  76561198796340888     730   \n",
       "1    639544  76561198028706627  393380   \n",
       "2    639545  76561198028706627      10   \n",
       "\n",
       "                                                                                                                                                                                                                                                                                                                                                                                                                                                                                                                                                                                                                                                                                                                                                                                                                                                                                                                                                                                                                                                                                                                                                                                                                                                                                                                                                                                                                                                                                                                           review  \\\n",
       "0                                                                                                                                                                                                                                                                                                                                                                                                                                                                                                                                                                                                                                                                                                                                                                                                                                                                                                                                                                                                                                                                                                                                                                                                                                                                                                                                                                                                                                                                  Goud gamę i have 3 vac ban acont but i stilll playj thiz gesme   \n",
       "1  ---{ Graphics }---☐ You forget what reality is☑ Beautiful☐ Good☐ Decent☐ Bad☐ Don‘t look too long at it☐ MS-DOS---{ Gameplay }---☑ Very good☐ Good☐ It's just gameplay☐ Mehh☐ Watch paint dry instead☐ Just don't---{ Audio }---☑ Eargasm☐ Very good☐ Good☐ Not too bad☐ Bad☐ I'm now deaf---{ Audience }---☐ Kids☑ Teens☑ Adults☐ Grandma---{ PC Requirements }---☐ Check if you can run paint☐ Potato☑ Decent☐ Fast☐ Rich boi☐ Ask NASA if they have a spare computer---{ Game Size }---☐ Floppy Disk☐ Old Fashioned☐ Workable☐ Big☑ Will eat 10% of your 1TB hard drive☐ You will want an entire hard drive to hold it☐ You will need to invest in a black hole to hold all the data---{ Difficulty }---☐ Just press 'W'☐ Easy☐ Easy to learn / Hard to master☑ Significant brain usage☐ Difficult☐ Dark Souls---{ Grind }---☑ Nothing to grind☐ Only if u care about leaderboards/ranks☐ Isn't necessary to progress☐ Average grind level☐ Too much grind☐ You'll need a second life for grinding---{ Story }---☑ No Story☐ Some lore☐ Average☐ Good☐ Lovely☐ It'll replace your life---{ Game Time }---☐ Long enough for a cup of coffee☐ Short☐ Average☐ Long☑ To infinity and beyond---{ Price }---☐ It's free!☑ Worth the price☐ If it's on sale☐ If u have some spare money left☐ Not recommended☐ You could also just burn your money---{ Bugs }---☐ Never heard of☑ Minor bugs☐ Can get annoying☐ ARK: Survival Evolved☐ The game itself is a big terrarium for bugs---{ ? / 10 }---☐ 1☐ 2☐ 3☐ 4☐ 5☐ 6☐ 7☐ 8☑ 9☐ 10   \n",
       "2                                                                                                                                                                                                                                                                                                                                                                                                                                                                                                                                                                                                                                                                                                                                                                                                                                                                                                                                                                                                                                                                                                                                                                                                                                                                                                                                                                                                                                                                                                    One of the best FPS games :)   \n",
       "\n",
       "   helpful  funny  awards      posted  \n",
       "0        0      0       0  2018-03-22  \n",
       "1        0      0       0  2025-01-03  \n",
       "2        0      0       0  2012-05-13  "
      ]
     },
     "execution_count": 405,
     "metadata": {},
     "output_type": "execute_result"
    }
   ],
   "source": [
    "reviews = reviewsdf.copy()\n",
    "reviews.head(3)"
   ]
  },
  {
   "cell_type": "code",
   "execution_count": 406,
   "id": "65abf548-f749-4519-b907-63d8372e9e4e",
   "metadata": {},
   "outputs": [
    {
     "data": {
      "text/html": [
       "<div>\n",
       "<style scoped>\n",
       "    .dataframe tbody tr th:only-of-type {\n",
       "        vertical-align: middle;\n",
       "    }\n",
       "\n",
       "    .dataframe tbody tr th {\n",
       "        vertical-align: top;\n",
       "    }\n",
       "\n",
       "    .dataframe thead th {\n",
       "        text-align: right;\n",
       "    }\n",
       "</style>\n",
       "<table border=\"1\" class=\"dataframe\">\n",
       "  <thead>\n",
       "    <tr style=\"text-align: right;\">\n",
       "      <th></th>\n",
       "      <th>reviewid</th>\n",
       "      <th>playerid</th>\n",
       "      <th>gameid</th>\n",
       "      <th>helpful</th>\n",
       "      <th>funny</th>\n",
       "      <th>awards</th>\n",
       "      <th>posted</th>\n",
       "    </tr>\n",
       "  </thead>\n",
       "  <tbody>\n",
       "    <tr>\n",
       "      <th>0</th>\n",
       "      <td>639543</td>\n",
       "      <td>76561198796340888</td>\n",
       "      <td>730</td>\n",
       "      <td>0</td>\n",
       "      <td>0</td>\n",
       "      <td>0</td>\n",
       "      <td>2018-03-22</td>\n",
       "    </tr>\n",
       "    <tr>\n",
       "      <th>1</th>\n",
       "      <td>639544</td>\n",
       "      <td>76561198028706627</td>\n",
       "      <td>393380</td>\n",
       "      <td>0</td>\n",
       "      <td>0</td>\n",
       "      <td>0</td>\n",
       "      <td>2025-01-03</td>\n",
       "    </tr>\n",
       "  </tbody>\n",
       "</table>\n",
       "</div>"
      ],
      "text/plain": [
       "   reviewid           playerid  gameid  helpful  funny  awards      posted\n",
       "0    639543  76561198796340888     730        0      0       0  2018-03-22\n",
       "1    639544  76561198028706627  393380        0      0       0  2025-01-03"
      ]
     },
     "execution_count": 406,
     "metadata": {},
     "output_type": "execute_result"
    }
   ],
   "source": [
    "reviews = reviews.drop(columns=['review'])\n",
    "reviews.head(2)"
   ]
  },
  {
   "cell_type": "markdown",
   "id": "3199a55f-29a1-4b95-b1ed-c9ba316f88e0",
   "metadata": {},
   "source": [
    "#### Checking if all gameids in Reviews table are in main games table\n",
    "We will want to check if all the `gameid`s in the reviews table appear in our main `games` table. It would be problematic to have a review for a game but no way to verify which game it is. We first check the orginal games table, before removing any data."
   ]
  },
  {
   "cell_type": "code",
   "execution_count": 407,
   "id": "10903e15-cf0f-4a2e-82df-485982f0a324",
   "metadata": {},
   "outputs": [
    {
     "name": "stdout",
     "output_type": "stream",
     "text": [
      "Total review gameids missing in original games: 161\n"
     ]
    }
   ],
   "source": [
    "original_unmatched_ids = set(reviewsdf['gameid']) - set(gamesdf['gameid'])\n",
    "print(f\"Total review gameids missing in original games: {len(original_unmatched_ids)}\")\n"
   ]
  },
  {
   "cell_type": "code",
   "execution_count": 408,
   "id": "4e7c2c80-9748-4184-9a02-a83350dc92c3",
   "metadata": {},
   "outputs": [
    {
     "name": "stdout",
     "output_type": "stream",
     "text": [
      "Number of games reviewed is: 51910\n",
      "Total number of games is: 92965\n"
     ]
    }
   ],
   "source": [
    "num_games_reviewed = set(reviews['gameid'])\n",
    "tot_games = set(games['gameid'])\n",
    "print(f'Number of games reviewed is: {len(num_games_reviewed)}')\n",
    "print(f'Total number of games is: {len(tot_games)}')"
   ]
  },
  {
   "cell_type": "markdown",
   "id": "aba5bd3b-1fc8-454d-a4ba-d3f36ac3fc85",
   "metadata": {},
   "source": [
    "From above it appears not all games were reviewed (so some games have zero reviews). First though we  check if all `gameid`s in `reviews` appear in `games`. It appears that in the `reviews` table, there are some `gameid`s that do not appear in the main games table (234 of these). This is concerning as the `games` table is the main games table with all game related information. Perhaps these rogue games are those we removed that were playtests. "
   ]
  },
  {
   "cell_type": "code",
   "execution_count": 409,
   "id": "72d86eb1-966b-434e-9e30-ca01f08899a7",
   "metadata": {},
   "outputs": [
    {
     "name": "stdout",
     "output_type": "stream",
     "text": [
      "Number of games in reviews table that do not appear in games table: 234\n"
     ]
    }
   ],
   "source": [
    "#set(reviews['gameid'])\n",
    "#set(reviews['gameid']) == set(games['gameid'])\n",
    "review_id_not_in_games = list(set(reviews['gameid']) - set(games['gameid'])) #IDs in reviews not in games\n",
    "\n",
    "print(f'Number of games in reviews table that do not appear in games table: {len(review_id_not_in_games)}')"
   ]
  },
  {
   "cell_type": "code",
   "execution_count": 410,
   "id": "37d42e4b-e927-4dee-b6be-e76ef4c60f80",
   "metadata": {},
   "outputs": [
    {
     "name": "stdout",
     "output_type": "stream",
     "text": [
      "Number of games in reviews table that do not appear in games table: 234\n",
      "Number of games in reviews not in games table but are in the playtest: 72\n",
      "Number of games in reviews that do not appear in games after removing playtests: 162\n"
     ]
    }
   ],
   "source": [
    "reviews_ids = set(reviews['gameid'])\n",
    "games_ids = set(games['gameid'])\n",
    "# IDs in reviews that don't exist in games\n",
    "review_id_not_in_games = reviews_ids - games_ids\n",
    "print(\"Number of games in reviews table that do not appear in games table:\", len(review_id_not_in_games))  \n",
    "unmatched_playtest_ids = review_id_not_in_games.intersection(playtest_ids)\n",
    "print(\"Number of games in reviews not in games table but are in the playtest:\", len(unmatched_playtest_ids))  \n",
    "remaining_unmatched = review_id_not_in_games - unmatched_playtest_ids\n",
    "print(\"Number of games in reviews that do not appear in games after removing playtests:\", len(remaining_unmatched))  \n"
   ]
  },
  {
   "cell_type": "markdown",
   "id": "d57a0457-7062-4ca2-ae54-a3ab425fb5c6",
   "metadata": {},
   "source": [
    "We have 72 playtest games. We shall remove these from the reviews for consistency. Then we continue to investigate which IDs are not in main games tables."
   ]
  },
  {
   "cell_type": "code",
   "execution_count": 411,
   "id": "85e6cf40-65bb-47ff-81ff-917b94bb0bfe",
   "metadata": {},
   "outputs": [
    {
     "name": "stdout",
     "output_type": "stream",
     "text": [
      "Unmatched review gameids (post-playtest-removal): 162\n"
     ]
    }
   ],
   "source": [
    "reviews = reviews[~reviews['gameid'].isin(playtest_ids)]\n",
    "# sanity check\n",
    "games_ids = set(games['gameid'])\n",
    "reviews_ids = set(reviews['gameid'])# Gameids in reviews (after playtest removal)\n",
    "unmatched_review_ids = reviews_ids - games_ids # IDs in reviews that are not in games\n",
    "\n",
    "print(f\"Unmatched review gameids (post-playtest-removal): {len(unmatched_review_ids)}\")  # Expect 162\n"
   ]
  },
  {
   "cell_type": "markdown",
   "id": "d7800bec-beb9-4680-aec6-bbbb881653e8",
   "metadata": {},
   "source": [
    "We will also remove the no title games like we did for games and prices (in this case its just one of the games appearing in reviews)\n"
   ]
  },
  {
   "cell_type": "code",
   "execution_count": 57,
   "id": "a0c3f8f9-4067-4017-94ca-d863a56c9a68",
   "metadata": {},
   "outputs": [
    {
     "data": {
      "text/plain": [
       "2853     False\n",
       "39705    False\n",
       "77700     True\n",
       "Name: gameid, dtype: bool"
      ]
     },
     "execution_count": 57,
     "metadata": {},
     "output_type": "execute_result"
    }
   ],
   "source": [
    "no_title_games['gameid'].isin(reviews['gameid'])"
   ]
  },
  {
   "cell_type": "code",
   "execution_count": 412,
   "id": "a136ee1c-d8bc-44f8-8d09-6f795d12346c",
   "metadata": {},
   "outputs": [],
   "source": [
    "reviews = reviews[~reviews['gameid'].isin(no_title_games['gameid'])]"
   ]
  },
  {
   "cell_type": "code",
   "execution_count": 413,
   "id": "622c9086-474d-4251-8970-f1d3efcc0b8c",
   "metadata": {},
   "outputs": [
    {
     "name": "stdout",
     "output_type": "stream",
     "text": [
      "Unmatched review gameids (post-playtest-no-title-removal): 161\n"
     ]
    }
   ],
   "source": [
    "# sanity check\n",
    "games_ids = set(games['gameid'])\n",
    "reviews_ids = set(reviews['gameid'])# Gameids in reviews (after playtest and no title games removal)\n",
    "unmatched_review_ids = reviews_ids - games_ids # IDs in reviews that are NOT in games\n",
    "\n",
    "print(f\"Unmatched review gameids (post-playtest-no-title-removal): {len(unmatched_review_ids)}\")  # Expect 161\n"
   ]
  },
  {
   "cell_type": "markdown",
   "id": "67bde38a-eb91-4da8-9226-486f08073f0a",
   "metadata": {},
   "source": [
    "### Decision on games not appearing in main games table\n",
    "We now have 161 games that appear in reviews but do not appear in games. Since these games have no information associated with them in the games table, I am making the decision to remove these. Perhaps it is a case of missing data in games table (perhaps de-listed games) or incorrectly captured ids in the reviews table. In any case, with no way to verify game information (like title, developers etc) these would be of little use, hence the decision. "
   ]
  },
  {
   "cell_type": "code",
   "execution_count": 414,
   "id": "a662c7db-e92e-4dd7-b1b5-4b7bfa1f044b",
   "metadata": {},
   "outputs": [],
   "source": [
    "# Keep only reviews whose gameid appears in the main games table\n",
    "reviews = reviews[reviews['gameid'].isin(games['gameid'])].copy()\n"
   ]
  },
  {
   "cell_type": "code",
   "execution_count": null,
   "id": "3c5d0018-11e4-487e-98d7-81aa6db4e744",
   "metadata": {},
   "outputs": [],
   "source": []
  },
  {
   "cell_type": "markdown",
   "id": "ea975acc-b9ca-44a5-a798-00e885f6cc1a",
   "metadata": {},
   "source": [
    "## Achievements \n",
    "The table achievements contains:\n",
    "* `achievementid` - unique achievementID, constructed as gameID + '_' + achievementNotUniqueID\n",
    "* `gameid` - unique gameID on the Steam platform\n",
    "* `title` - achievement title\n",
    "* `description` - description of how to unlock the achievement\n",
    "\n",
    "For data consistency here, we will only keep the achievements that have `gameid`s in the main games table. We will also drop the `title` and `description` for our analyses."
   ]
  },
  {
   "cell_type": "code",
   "execution_count": 69,
   "id": "1162b039-db99-4b9f-ae60-18531865bf38",
   "metadata": {},
   "outputs": [],
   "source": [
    "achievementsdf = pd.read_csv('../data_steam/raw/achievements.csv')"
   ]
  },
  {
   "cell_type": "code",
   "execution_count": 70,
   "id": "6b13ca9f-485c-4648-929d-5f8ec37a7202",
   "metadata": {},
   "outputs": [],
   "source": [
    "achievements = achievementsdf.copy()"
   ]
  },
  {
   "cell_type": "code",
   "execution_count": 71,
   "id": "9514eeeb-ad9a-4bcf-b442-baeff7642ca7",
   "metadata": {},
   "outputs": [
    {
     "data": {
      "text/html": [
       "<div>\n",
       "<style scoped>\n",
       "    .dataframe tbody tr th:only-of-type {\n",
       "        vertical-align: middle;\n",
       "    }\n",
       "\n",
       "    .dataframe tbody tr th {\n",
       "        vertical-align: top;\n",
       "    }\n",
       "\n",
       "    .dataframe thead th {\n",
       "        text-align: right;\n",
       "    }\n",
       "</style>\n",
       "<table border=\"1\" class=\"dataframe\">\n",
       "  <thead>\n",
       "    <tr style=\"text-align: right;\">\n",
       "      <th></th>\n",
       "      <th>achievementid</th>\n",
       "      <th>gameid</th>\n",
       "      <th>title</th>\n",
       "      <th>description</th>\n",
       "    </tr>\n",
       "  </thead>\n",
       "  <tbody>\n",
       "    <tr>\n",
       "      <th>0</th>\n",
       "      <td>2621440_ACH_FIRST_KILL</td>\n",
       "      <td>2621440</td>\n",
       "      <td>FIRST KILL</td>\n",
       "      <td>You should kill ONE enemy.</td>\n",
       "    </tr>\n",
       "    <tr>\n",
       "      <th>1</th>\n",
       "      <td>2621440_ACH_0_LEVEL_COMPLETED</td>\n",
       "      <td>2621440</td>\n",
       "      <td>TUTORIAL COMPLETED</td>\n",
       "      <td>You should complete tutorial.</td>\n",
       "    </tr>\n",
       "    <tr>\n",
       "      <th>2</th>\n",
       "      <td>2621440_ACH_1_LEVEL_COMPLETED</td>\n",
       "      <td>2621440</td>\n",
       "      <td>FIRST LEVEL</td>\n",
       "      <td>You should complete first level</td>\n",
       "    </tr>\n",
       "    <tr>\n",
       "      <th>3</th>\n",
       "      <td>2621440_ACH_2_LEVEL_COMPLETED</td>\n",
       "      <td>2621440</td>\n",
       "      <td>SECOND LEVEL</td>\n",
       "      <td>You should complete second level</td>\n",
       "    </tr>\n",
       "    <tr>\n",
       "      <th>4</th>\n",
       "      <td>2621440_ACH_3_LEVEL_COMPLETED</td>\n",
       "      <td>2621440</td>\n",
       "      <td>THIRD LEVEL</td>\n",
       "      <td>You should complete third level</td>\n",
       "    </tr>\n",
       "  </tbody>\n",
       "</table>\n",
       "</div>"
      ],
      "text/plain": [
       "                   achievementid   gameid               title  \\\n",
       "0         2621440_ACH_FIRST_KILL  2621440          FIRST KILL   \n",
       "1  2621440_ACH_0_LEVEL_COMPLETED  2621440  TUTORIAL COMPLETED   \n",
       "2  2621440_ACH_1_LEVEL_COMPLETED  2621440         FIRST LEVEL   \n",
       "3  2621440_ACH_2_LEVEL_COMPLETED  2621440        SECOND LEVEL   \n",
       "4  2621440_ACH_3_LEVEL_COMPLETED  2621440         THIRD LEVEL   \n",
       "\n",
       "                        description  \n",
       "0        You should kill ONE enemy.  \n",
       "1     You should complete tutorial.  \n",
       "2   You should complete first level  \n",
       "3  You should complete second level  \n",
       "4   You should complete third level  "
      ]
     },
     "execution_count": 71,
     "metadata": {},
     "output_type": "execute_result"
    }
   ],
   "source": [
    "achievements.head()"
   ]
  },
  {
   "cell_type": "code",
   "execution_count": 72,
   "id": "f7e75bed-51af-4d46-be33-e65ca65c5b7a",
   "metadata": {},
   "outputs": [],
   "source": [
    "unmatched_achievements = achievements[~achievements['gameid'].isin(games['gameid'])].copy() #in case I want to come back later and analyse\n",
    "achievements = achievements[achievements['gameid'].isin(games['gameid'])].copy()\n",
    "achievements = achievements.drop(columns= ['title', 'description'])"
   ]
  },
  {
   "cell_type": "code",
   "execution_count": 73,
   "id": "78ec30c3-6fca-402e-91ba-833717c91724",
   "metadata": {},
   "outputs": [
    {
     "data": {
      "text/html": [
       "<div>\n",
       "<style scoped>\n",
       "    .dataframe tbody tr th:only-of-type {\n",
       "        vertical-align: middle;\n",
       "    }\n",
       "\n",
       "    .dataframe tbody tr th {\n",
       "        vertical-align: top;\n",
       "    }\n",
       "\n",
       "    .dataframe thead th {\n",
       "        text-align: right;\n",
       "    }\n",
       "</style>\n",
       "<table border=\"1\" class=\"dataframe\">\n",
       "  <thead>\n",
       "    <tr style=\"text-align: right;\">\n",
       "      <th></th>\n",
       "      <th>achievementid</th>\n",
       "      <th>gameid</th>\n",
       "    </tr>\n",
       "  </thead>\n",
       "  <tbody>\n",
       "    <tr>\n",
       "      <th>0</th>\n",
       "      <td>2621440_ACH_FIRST_KILL</td>\n",
       "      <td>2621440</td>\n",
       "    </tr>\n",
       "    <tr>\n",
       "      <th>1</th>\n",
       "      <td>2621440_ACH_0_LEVEL_COMPLETED</td>\n",
       "      <td>2621440</td>\n",
       "    </tr>\n",
       "  </tbody>\n",
       "</table>\n",
       "</div>"
      ],
      "text/plain": [
       "                   achievementid   gameid\n",
       "0         2621440_ACH_FIRST_KILL  2621440\n",
       "1  2621440_ACH_0_LEVEL_COMPLETED  2621440"
      ]
     },
     "execution_count": 73,
     "metadata": {},
     "output_type": "execute_result"
    }
   ],
   "source": [
    "achievements.head(2)"
   ]
  },
  {
   "cell_type": "code",
   "execution_count": 82,
   "id": "ee13e171-73c6-4422-9607-bf7942a60d0a",
   "metadata": {},
   "outputs": [
    {
     "data": {
      "text/plain": [
       "1935882"
      ]
     },
     "execution_count": 82,
     "metadata": {},
     "output_type": "execute_result"
    }
   ],
   "source": [
    "#achievements['achievementid'].nunique()\n",
    "achievements[achievements['gameid'].isin(games['gameid'])]['achievementid'].nunique()\n"
   ]
  },
  {
   "cell_type": "code",
   "execution_count": 77,
   "id": "61337505-8651-4e7e-8c6e-171f2d094f81",
   "metadata": {},
   "outputs": [
    {
     "data": {
      "text/plain": [
       "98248"
      ]
     },
     "execution_count": 77,
     "metadata": {},
     "output_type": "execute_result"
    }
   ],
   "source": [
    "games['gameid'].nunique()"
   ]
  },
  {
   "cell_type": "code",
   "execution_count": 62,
   "id": "8a3e0921-754e-45c7-b77f-7e80f8795218",
   "metadata": {},
   "outputs": [
    {
     "data": {
      "text/plain": [
       "486"
      ]
     },
     "execution_count": 62,
     "metadata": {},
     "output_type": "execute_result"
    }
   ],
   "source": [
    "unmatched_achievements['gameid'].nunique()"
   ]
  },
  {
   "cell_type": "code",
   "execution_count": 66,
   "id": "be88d3d4-604f-43b0-be50-4ac77ea2d635",
   "metadata": {},
   "outputs": [
    {
     "data": {
      "text/html": [
       "<div>\n",
       "<style scoped>\n",
       "    .dataframe tbody tr th:only-of-type {\n",
       "        vertical-align: middle;\n",
       "    }\n",
       "\n",
       "    .dataframe tbody tr th {\n",
       "        vertical-align: top;\n",
       "    }\n",
       "\n",
       "    .dataframe thead th {\n",
       "        text-align: right;\n",
       "    }\n",
       "</style>\n",
       "<table border=\"1\" class=\"dataframe\">\n",
       "  <thead>\n",
       "    <tr style=\"text-align: right;\">\n",
       "      <th></th>\n",
       "      <th>achievementid</th>\n",
       "      <th>gameid</th>\n",
       "      <th>title</th>\n",
       "      <th>description</th>\n",
       "    </tr>\n",
       "  </thead>\n",
       "  <tbody>\n",
       "    <tr>\n",
       "      <th>9761</th>\n",
       "      <td>2884310_AC_OpenTheDoor</td>\n",
       "      <td>2884310</td>\n",
       "      <td>Open the door</td>\n",
       "      <td>Replace the Bypass chip of the door control.</td>\n",
       "    </tr>\n",
       "    <tr>\n",
       "      <th>9762</th>\n",
       "      <td>2884310_AC_NANDDone</td>\n",
       "      <td>2884310</td>\n",
       "      <td>NAND Designer</td>\n",
       "      <td>Create a NAND gate.</td>\n",
       "    </tr>\n",
       "    <tr>\n",
       "      <th>9763</th>\n",
       "      <td>2884310_AC_Chapter1Done</td>\n",
       "      <td>2884310</td>\n",
       "      <td>Ghost in the Grid</td>\n",
       "      <td>Complete the Chapter 1.</td>\n",
       "    </tr>\n",
       "  </tbody>\n",
       "</table>\n",
       "</div>"
      ],
      "text/plain": [
       "                achievementid   gameid              title  \\\n",
       "9761   2884310_AC_OpenTheDoor  2884310      Open the door   \n",
       "9762      2884310_AC_NANDDone  2884310      NAND Designer   \n",
       "9763  2884310_AC_Chapter1Done  2884310  Ghost in the Grid   \n",
       "\n",
       "                                       description  \n",
       "9761  Replace the Bypass chip of the door control.  \n",
       "9762                           Create a NAND gate.  \n",
       "9763                       Complete the Chapter 1.  "
      ]
     },
     "execution_count": 66,
     "metadata": {},
     "output_type": "execute_result"
    }
   ],
   "source": [
    "unmatched_achievements.head(3)"
   ]
  },
  {
   "cell_type": "markdown",
   "id": "37f78df4-bae7-487e-81b2-15b2286e2962",
   "metadata": {},
   "source": [
    "## History \n",
    "The table history contains:\n",
    "* `playerid` - unique userID on the Steam platform who earned achievementID\n",
    "* `achievementid` - unique achievementID, constructed as gameID + '_' + achievementNotUniqueID\n",
    "* `date_acquired` - timestamp of when the achievement was earned\n",
    "\n",
    "For data consistency here, I will keep only the rows where the achievementid is in the cleaned achievements table."
   ]
  },
  {
   "cell_type": "code",
   "execution_count": 418,
   "id": "8501f3e6-5bc5-4ee1-8f04-93d833d16b1e",
   "metadata": {},
   "outputs": [],
   "source": [
    "historydf = pd.read_csv(\"../data_steam/raw/history.csv\")"
   ]
  },
  {
   "cell_type": "code",
   "execution_count": 419,
   "id": "45f40e9e-0b43-4156-af81-612ca293bc2c",
   "metadata": {},
   "outputs": [],
   "source": [
    "history = historydf.copy()"
   ]
  },
  {
   "cell_type": "code",
   "execution_count": 69,
   "id": "0a89ff5b-ff7b-40d0-9d8d-636457ad8315",
   "metadata": {},
   "outputs": [
    {
     "data": {
      "text/html": [
       "<div>\n",
       "<style scoped>\n",
       "    .dataframe tbody tr th:only-of-type {\n",
       "        vertical-align: middle;\n",
       "    }\n",
       "\n",
       "    .dataframe tbody tr th {\n",
       "        vertical-align: top;\n",
       "    }\n",
       "\n",
       "    .dataframe thead th {\n",
       "        text-align: right;\n",
       "    }\n",
       "</style>\n",
       "<table border=\"1\" class=\"dataframe\">\n",
       "  <thead>\n",
       "    <tr style=\"text-align: right;\">\n",
       "      <th></th>\n",
       "      <th>playerid</th>\n",
       "      <th>achievementid</th>\n",
       "      <th>date_acquired</th>\n",
       "    </tr>\n",
       "  </thead>\n",
       "  <tbody>\n",
       "    <tr>\n",
       "      <th>0</th>\n",
       "      <td>76561198220441373</td>\n",
       "      <td>403640_ACH_1</td>\n",
       "      <td>2019-12-18 15:33:43</td>\n",
       "    </tr>\n",
       "    <tr>\n",
       "      <th>1</th>\n",
       "      <td>76561198220441373</td>\n",
       "      <td>403640_ACH_2</td>\n",
       "      <td>2019-12-18 23:49:51</td>\n",
       "    </tr>\n",
       "    <tr>\n",
       "      <th>2</th>\n",
       "      <td>76561198220441373</td>\n",
       "      <td>403640_ACH_3</td>\n",
       "      <td>2019-12-19 23:05:07</td>\n",
       "    </tr>\n",
       "  </tbody>\n",
       "</table>\n",
       "</div>"
      ],
      "text/plain": [
       "            playerid achievementid        date_acquired\n",
       "0  76561198220441373  403640_ACH_1  2019-12-18 15:33:43\n",
       "1  76561198220441373  403640_ACH_2  2019-12-18 23:49:51\n",
       "2  76561198220441373  403640_ACH_3  2019-12-19 23:05:07"
      ]
     },
     "execution_count": 69,
     "metadata": {},
     "output_type": "execute_result"
    }
   ],
   "source": [
    "history.head(3)"
   ]
  },
  {
   "cell_type": "code",
   "execution_count": 70,
   "id": "c1a833ac-1dec-4fc5-b3d9-c1fd6b28f162",
   "metadata": {},
   "outputs": [
    {
     "name": "stdout",
     "output_type": "stream",
     "text": [
      "<class 'pandas.core.frame.DataFrame'>\n",
      "RangeIndex: 10693879 entries, 0 to 10693878\n",
      "Data columns (total 3 columns):\n",
      " #   Column         Dtype \n",
      "---  ------         ----- \n",
      " 0   playerid       int64 \n",
      " 1   achievementid  object\n",
      " 2   date_acquired  object\n",
      "dtypes: int64(1), object(2)\n",
      "memory usage: 244.8+ MB\n"
     ]
    }
   ],
   "source": [
    "history.info()"
   ]
  },
  {
   "cell_type": "markdown",
   "id": "29c4dbff-8497-4c45-b86f-825a22900515",
   "metadata": {},
   "source": [
    "Luckily for this table, it appears there aren't any missing values. "
   ]
  },
  {
   "cell_type": "code",
   "execution_count": 420,
   "id": "1d731503-354e-4add-821a-8964431c4eb2",
   "metadata": {},
   "outputs": [
    {
     "data": {
      "text/html": [
       "<div>\n",
       "<style scoped>\n",
       "    .dataframe tbody tr th:only-of-type {\n",
       "        vertical-align: middle;\n",
       "    }\n",
       "\n",
       "    .dataframe tbody tr th {\n",
       "        vertical-align: top;\n",
       "    }\n",
       "\n",
       "    .dataframe thead th {\n",
       "        text-align: right;\n",
       "    }\n",
       "</style>\n",
       "<table border=\"1\" class=\"dataframe\">\n",
       "  <thead>\n",
       "    <tr style=\"text-align: right;\">\n",
       "      <th></th>\n",
       "      <th>Number of Missing Values</th>\n",
       "      <th>Percent of Total Values</th>\n",
       "    </tr>\n",
       "  </thead>\n",
       "  <tbody>\n",
       "    <tr>\n",
       "      <th>playerid</th>\n",
       "      <td>0</td>\n",
       "      <td>0.0</td>\n",
       "    </tr>\n",
       "    <tr>\n",
       "      <th>achievementid</th>\n",
       "      <td>0</td>\n",
       "      <td>0.0</td>\n",
       "    </tr>\n",
       "    <tr>\n",
       "      <th>date_acquired</th>\n",
       "      <td>0</td>\n",
       "      <td>0.0</td>\n",
       "    </tr>\n",
       "  </tbody>\n",
       "</table>\n",
       "</div>"
      ],
      "text/plain": [
       "               Number of Missing Values  Percent of Total Values\n",
       "playerid                              0                      0.0\n",
       "achievementid                         0                      0.0\n",
       "date_acquired                         0                      0.0"
      ]
     },
     "execution_count": 420,
     "metadata": {},
     "output_type": "execute_result"
    }
   ],
   "source": [
    "miss_per_col  = missing_value_summary(history)\n",
    "miss_per_col"
   ]
  },
  {
   "cell_type": "markdown",
   "id": "8186b950-f47c-49cc-9034-fa148f08d9e0",
   "metadata": {},
   "source": [
    "There are 1928259 unique achievements and from below, it appears that quite a number of achievements (1043018) haven't been 'achieved'. "
   ]
  },
  {
   "cell_type": "code",
   "execution_count": 421,
   "id": "1faf432d-c148-413f-aa56-9b6e751af90d",
   "metadata": {},
   "outputs": [
    {
     "name": "stdout",
     "output_type": "stream",
     "text": [
      " Total unique achievements in achievements table: 1928259\n",
      " Achievements never earned by any player: 1043018\n",
      " Percentage of unearned achievements: 54.09%\n",
      " Achievements in history but missing in achievements table: 1747\n",
      "\n",
      "Sample unearned achievement IDs:\n",
      "['2938830_FBQTheFall', '738610_ach_24', '1363210_ACH_STORY_2_4', '509600_com.foggybus.battletime.playerpassedmissions_all', '1281360_award3']\n"
     ]
    }
   ],
   "source": [
    "# get sets of unique achievement IDs from both tables\n",
    "achievement_ids_master = set(achievements['achievementid'])\n",
    "achievement_ids_history = set(history['achievementid'])\n",
    "\n",
    "unearned_achievements = achievement_ids_master - achievement_ids_history \n",
    "\n",
    "orphan_achievements = achievement_ids_history - achievement_ids_master \n",
    "perc_unearned = (len(unearned_achievements) / len(achievement_ids_master)) * 100 \n",
    "\n",
    "print(f\" Total unique achievements in achievements table: {len(achievement_ids_master)}\")\n",
    "print(f\" Achievements never earned by any player: {len(unearned_achievements)}\")\n",
    "print(f\" Percentage of unearned achievements: {perc_unearned:0.2f}%\")\n",
    "print(f\" Achievements in history but missing in achievements table: {len(orphan_achievements)}\")\n",
    "\n",
    "\n",
    "print(\"\\nSample unearned achievement IDs:\")\n",
    "print(list(unearned_achievements)[:5])\n"
   ]
  },
  {
   "cell_type": "markdown",
   "id": "119bf2ed-8e12-4034-a814-c1d687f698c5",
   "metadata": {},
   "source": [
    "From below, it appears all the `achievementid`s in history but not in main `achievements` table are those in the `unmatched_achievements` which in turn correspond to `achievementid`s for games not in our main `games` table."
   ]
  },
  {
   "cell_type": "code",
   "execution_count": 422,
   "id": "940bfeef-9a63-4120-92e8-2bf4e6b301bc",
   "metadata": {},
   "outputs": [
    {
     "name": "stdout",
     "output_type": "stream",
     "text": [
      "Number of orphan achievements found in unmatched_achievements: 1747\n",
      "Are all orphan achievements present in unmatched_achievements? True\n"
     ]
    }
   ],
   "source": [
    "unmatched_ids = set(unmatched_achievements['achievementid'])\n",
    "\n",
    "orphans_in_unmatched = orphan_achievements.intersection(unmatched_ids)\n",
    "print(f\"Number of orphan achievements found in unmatched_achievements: {len(orphans_in_unmatched)}\")\n",
    "\n",
    "\n",
    "all_orphans_present = orphan_achievements.issubset(unmatched_ids)\n",
    "print(f\"Are all orphan achievements present in unmatched_achievements? {all_orphans_present}\")\n"
   ]
  },
  {
   "cell_type": "code",
   "execution_count": 423,
   "id": "435ca56f-6535-4f0e-bcba-53cf557eda08",
   "metadata": {},
   "outputs": [],
   "source": [
    "history_clean = history[history['achievementid'].isin(achievements['achievementid'])].copy()"
   ]
  },
  {
   "cell_type": "markdown",
   "id": "d6605e41-37cf-4b4d-b27e-a5b674ce6b87",
   "metadata": {},
   "source": [
    "### Players\n",
    "According to the documentation, the Players table contains the following:\n",
    "* `playerid` - unique userID on the Steam platform\n",
    "* `country` - the country in which the user resides\n",
    "* `created` - date of creation of the gaming profile\n"
   ]
  },
  {
   "cell_type": "code",
   "execution_count": 8,
   "id": "bd088d44-597b-4f10-b1a4-8b19422144e0",
   "metadata": {},
   "outputs": [],
   "source": [
    "playersdf = pd.read_csv(\"../data_steam/raw/players.csv\")"
   ]
  },
  {
   "cell_type": "code",
   "execution_count": 9,
   "id": "974ce46a-8329-47b5-bdb4-fad721aa2c6f",
   "metadata": {},
   "outputs": [],
   "source": [
    "players = playersdf.copy()"
   ]
  },
  {
   "cell_type": "code",
   "execution_count": 65,
   "id": "e7e0d8e0-3c2e-47c1-a8b5-dd665f587d54",
   "metadata": {},
   "outputs": [
    {
     "data": {
      "text/html": [
       "<div>\n",
       "<style scoped>\n",
       "    .dataframe tbody tr th:only-of-type {\n",
       "        vertical-align: middle;\n",
       "    }\n",
       "\n",
       "    .dataframe tbody tr th {\n",
       "        vertical-align: top;\n",
       "    }\n",
       "\n",
       "    .dataframe thead th {\n",
       "        text-align: right;\n",
       "    }\n",
       "</style>\n",
       "<table border=\"1\" class=\"dataframe\">\n",
       "  <thead>\n",
       "    <tr style=\"text-align: right;\">\n",
       "      <th></th>\n",
       "      <th>playerid</th>\n",
       "      <th>country</th>\n",
       "      <th>created</th>\n",
       "    </tr>\n",
       "  </thead>\n",
       "  <tbody>\n",
       "    <tr>\n",
       "      <th>0</th>\n",
       "      <td>76561198287452552</td>\n",
       "      <td>Brazil</td>\n",
       "      <td>2016-03-02 06:14:20</td>\n",
       "    </tr>\n",
       "    <tr>\n",
       "      <th>1</th>\n",
       "      <td>76561198040436563</td>\n",
       "      <td>Israel</td>\n",
       "      <td>2011-04-10 17:10:06</td>\n",
       "    </tr>\n",
       "    <tr>\n",
       "      <th>2</th>\n",
       "      <td>76561198049686270</td>\n",
       "      <td>NaN</td>\n",
       "      <td>2011-09-28 21:43:59</td>\n",
       "    </tr>\n",
       "    <tr>\n",
       "      <th>3</th>\n",
       "      <td>76561198155814250</td>\n",
       "      <td>Kazakhstan</td>\n",
       "      <td>2014-09-24 19:52:47</td>\n",
       "    </tr>\n",
       "    <tr>\n",
       "      <th>4</th>\n",
       "      <td>76561198119605821</td>\n",
       "      <td>NaN</td>\n",
       "      <td>2013-12-26 00:25:50</td>\n",
       "    </tr>\n",
       "  </tbody>\n",
       "</table>\n",
       "</div>"
      ],
      "text/plain": [
       "            playerid     country              created\n",
       "0  76561198287452552      Brazil  2016-03-02 06:14:20\n",
       "1  76561198040436563      Israel  2011-04-10 17:10:06\n",
       "2  76561198049686270         NaN  2011-09-28 21:43:59\n",
       "3  76561198155814250  Kazakhstan  2014-09-24 19:52:47\n",
       "4  76561198119605821         NaN  2013-12-26 00:25:50"
      ]
     },
     "execution_count": 65,
     "metadata": {},
     "output_type": "execute_result"
    }
   ],
   "source": [
    "players.head()"
   ]
  },
  {
   "cell_type": "markdown",
   "id": "a9b2e1d6-efd2-4caf-b313-50fde44a0cfe",
   "metadata": {},
   "source": [
    "There are 424683 unique player ids (hard to say if these are unique players since a person can create multiple accounts). The `country` column has 42% missing values. We wil replace these with `Unknown` just to avoid losing data. The `created` column also has some missing values which we cannot reliably impute. So we will leave these in for now and deal with them in the normalisation section."
   ]
  },
  {
   "cell_type": "code",
   "execution_count": 10,
   "id": "9161cf48-2752-4be7-a502-b2b406af4326",
   "metadata": {},
   "outputs": [
    {
     "data": {
      "text/plain": [
       "424683"
      ]
     },
     "execution_count": 10,
     "metadata": {},
     "output_type": "execute_result"
    }
   ],
   "source": [
    "players['playerid'].nunique()"
   ]
  },
  {
   "cell_type": "code",
   "execution_count": 11,
   "id": "782c1b72-7af1-4a55-bba6-c83a56e4036c",
   "metadata": {},
   "outputs": [
    {
     "data": {
      "text/html": [
       "<div>\n",
       "<style scoped>\n",
       "    .dataframe tbody tr th:only-of-type {\n",
       "        vertical-align: middle;\n",
       "    }\n",
       "\n",
       "    .dataframe tbody tr th {\n",
       "        vertical-align: top;\n",
       "    }\n",
       "\n",
       "    .dataframe thead th {\n",
       "        text-align: right;\n",
       "    }\n",
       "</style>\n",
       "<table border=\"1\" class=\"dataframe\">\n",
       "  <thead>\n",
       "    <tr style=\"text-align: right;\">\n",
       "      <th></th>\n",
       "      <th>Number of Missing Values</th>\n",
       "      <th>Percent of Total Values</th>\n",
       "    </tr>\n",
       "  </thead>\n",
       "  <tbody>\n",
       "    <tr>\n",
       "      <th>country</th>\n",
       "      <td>177868</td>\n",
       "      <td>41.88</td>\n",
       "    </tr>\n",
       "    <tr>\n",
       "      <th>created</th>\n",
       "      <td>47669</td>\n",
       "      <td>11.22</td>\n",
       "    </tr>\n",
       "    <tr>\n",
       "      <th>playerid</th>\n",
       "      <td>0</td>\n",
       "      <td>0.00</td>\n",
       "    </tr>\n",
       "  </tbody>\n",
       "</table>\n",
       "</div>"
      ],
      "text/plain": [
       "          Number of Missing Values  Percent of Total Values\n",
       "country                     177868                    41.88\n",
       "created                      47669                    11.22\n",
       "playerid                         0                     0.00"
      ]
     },
     "execution_count": 11,
     "metadata": {},
     "output_type": "execute_result"
    }
   ],
   "source": [
    "miss_per_col  = missing_value_summary(players)\n",
    "miss_per_col"
   ]
  },
  {
   "cell_type": "code",
   "execution_count": 428,
   "id": "457031d5-509b-48e5-ba32-f1d023d94a57",
   "metadata": {},
   "outputs": [
    {
     "data": {
      "text/html": [
       "<div>\n",
       "<style scoped>\n",
       "    .dataframe tbody tr th:only-of-type {\n",
       "        vertical-align: middle;\n",
       "    }\n",
       "\n",
       "    .dataframe tbody tr th {\n",
       "        vertical-align: top;\n",
       "    }\n",
       "\n",
       "    .dataframe thead th {\n",
       "        text-align: right;\n",
       "    }\n",
       "</style>\n",
       "<table border=\"1\" class=\"dataframe\">\n",
       "  <thead>\n",
       "    <tr style=\"text-align: right;\">\n",
       "      <th></th>\n",
       "      <th>Number of Missing Values</th>\n",
       "      <th>Percent of Total Values</th>\n",
       "    </tr>\n",
       "  </thead>\n",
       "  <tbody>\n",
       "    <tr>\n",
       "      <th>created</th>\n",
       "      <td>47669</td>\n",
       "      <td>11.22</td>\n",
       "    </tr>\n",
       "    <tr>\n",
       "      <th>playerid</th>\n",
       "      <td>0</td>\n",
       "      <td>0.00</td>\n",
       "    </tr>\n",
       "    <tr>\n",
       "      <th>country</th>\n",
       "      <td>0</td>\n",
       "      <td>0.00</td>\n",
       "    </tr>\n",
       "  </tbody>\n",
       "</table>\n",
       "</div>"
      ],
      "text/plain": [
       "          Number of Missing Values  Percent of Total Values\n",
       "created                      47669                    11.22\n",
       "playerid                         0                     0.00\n",
       "country                          0                     0.00"
      ]
     },
     "execution_count": 428,
     "metadata": {},
     "output_type": "execute_result"
    }
   ],
   "source": [
    "players['country'] = players['country'].fillna('Unknown')\n",
    "miss_per_col  = missing_value_summary(players)\n",
    "miss_per_col"
   ]
  },
  {
   "cell_type": "code",
   "execution_count": 4,
   "id": "57bfd794-1fc7-4ea8-b32e-d51ae83df94e",
   "metadata": {},
   "outputs": [],
   "source": [
    "games = pd.read_csv('../data_steam/cleaned/games_cleaned.csv')"
   ]
  },
  {
   "cell_type": "code",
   "execution_count": 5,
   "id": "94ab31b5-d12d-40e6-a6c5-8d9d9e947b74",
   "metadata": {},
   "outputs": [
    {
     "data": {
      "text/html": [
       "<div>\n",
       "<style scoped>\n",
       "    .dataframe tbody tr th:only-of-type {\n",
       "        vertical-align: middle;\n",
       "    }\n",
       "\n",
       "    .dataframe tbody tr th {\n",
       "        vertical-align: top;\n",
       "    }\n",
       "\n",
       "    .dataframe thead th {\n",
       "        text-align: right;\n",
       "    }\n",
       "</style>\n",
       "<table border=\"1\" class=\"dataframe\">\n",
       "  <thead>\n",
       "    <tr style=\"text-align: right;\">\n",
       "      <th></th>\n",
       "      <th>gameid</th>\n",
       "      <th>title</th>\n",
       "      <th>developers</th>\n",
       "      <th>publishers</th>\n",
       "      <th>genres</th>\n",
       "      <th>supported_languages</th>\n",
       "      <th>release_date</th>\n",
       "      <th>is_free_to_play</th>\n",
       "    </tr>\n",
       "  </thead>\n",
       "  <tbody>\n",
       "    <tr>\n",
       "      <th>0</th>\n",
       "      <td>3278740</td>\n",
       "      <td>NEURO</td>\n",
       "      <td>['Revolt Games']</td>\n",
       "      <td>['Strategy First']</td>\n",
       "      <td>['Action']</td>\n",
       "      <td>['English', 'Russian']</td>\n",
       "      <td>2024-10-11</td>\n",
       "      <td>No</td>\n",
       "    </tr>\n",
       "    <tr>\n",
       "      <th>1</th>\n",
       "      <td>3270850</td>\n",
       "      <td>Keep Your Eyes Open</td>\n",
       "      <td>['Texerikus']</td>\n",
       "      <td>['Texerikus']</td>\n",
       "      <td>['Indie']</td>\n",
       "      <td>['English']</td>\n",
       "      <td>2024-10-21</td>\n",
       "      <td>No</td>\n",
       "    </tr>\n",
       "  </tbody>\n",
       "</table>\n",
       "</div>"
      ],
      "text/plain": [
       "    gameid                title        developers          publishers  \\\n",
       "0  3278740                NEURO  ['Revolt Games']  ['Strategy First']   \n",
       "1  3270850  Keep Your Eyes Open     ['Texerikus']       ['Texerikus']   \n",
       "\n",
       "       genres     supported_languages release_date is_free_to_play  \n",
       "0  ['Action']  ['English', 'Russian']   2024-10-11              No  \n",
       "1   ['Indie']             ['English']   2024-10-21              No  "
      ]
     },
     "execution_count": 5,
     "metadata": {},
     "output_type": "execute_result"
    }
   ],
   "source": [
    "games.head(2)"
   ]
  },
  {
   "cell_type": "markdown",
   "id": "be0eb808-bec7-4e35-b433-f2ffb8c05480",
   "metadata": {},
   "source": [
    "## Purchased\n",
    "We now turn our attention to the `purchased_games` table with has the following data:\n",
    "- `playerid` - unique userID\n",
    "- `library` - a list of purchased games for the entire usage period\n",
    "\n",
    "This table has information that will enable us to answer questions like how many players own a certain game which in turn helps us to judge the popularity of said game. The initial goal here is to make sure that the `playerid`s all appear in the `players` table and the `gameid`s appear in the main `games` table. \n",
    "\n",
    "It appears, from initial analysis, that not all players have a game in their library: there are unique 424863 players in the main players table but only 102548 unique players in the `purchased_games` table. This indicates, possibly, that players sign up on the platform but do not purchase a game. "
   ]
  },
  {
   "cell_type": "code",
   "execution_count": 41,
   "id": "adbf1da8-878b-4646-a5d2-03a2aa9bdc27",
   "metadata": {},
   "outputs": [
    {
     "data": {
      "text/html": [
       "<div>\n",
       "<style scoped>\n",
       "    .dataframe tbody tr th:only-of-type {\n",
       "        vertical-align: middle;\n",
       "    }\n",
       "\n",
       "    .dataframe tbody tr th {\n",
       "        vertical-align: top;\n",
       "    }\n",
       "\n",
       "    .dataframe thead th {\n",
       "        text-align: right;\n",
       "    }\n",
       "</style>\n",
       "<table border=\"1\" class=\"dataframe\">\n",
       "  <thead>\n",
       "    <tr style=\"text-align: right;\">\n",
       "      <th></th>\n",
       "      <th>playerid</th>\n",
       "      <th>library</th>\n",
       "    </tr>\n",
       "  </thead>\n",
       "  <tbody>\n",
       "    <tr>\n",
       "      <th>0</th>\n",
       "      <td>76561198060698936</td>\n",
       "      <td>[60, 1670, 3830, 1600, 2900, 2910, 2920, 4800,...</td>\n",
       "    </tr>\n",
       "    <tr>\n",
       "      <th>1</th>\n",
       "      <td>76561198287452552</td>\n",
       "      <td>[10, 80, 100, 240, 2990, 6880, 6910, 6920, 698...</td>\n",
       "    </tr>\n",
       "  </tbody>\n",
       "</table>\n",
       "</div>"
      ],
      "text/plain": [
       "            playerid                                            library\n",
       "0  76561198060698936  [60, 1670, 3830, 1600, 2900, 2910, 2920, 4800,...\n",
       "1  76561198287452552  [10, 80, 100, 240, 2990, 6880, 6910, 6920, 698..."
      ]
     },
     "execution_count": 41,
     "metadata": {},
     "output_type": "execute_result"
    }
   ],
   "source": [
    "purchased_games = pd.read_csv('../data_steam/raw/purchased_games.csv')\n",
    "purchased_games['library'] = purchased_games['library'].apply(lambda x: ast.literal_eval(x) if isinstance(x, str) else x)\n",
    "purchased_games.head(2)"
   ]
  },
  {
   "cell_type": "code",
   "execution_count": 43,
   "id": "9027af94-0618-4c10-8c7e-05a64b682ac0",
   "metadata": {},
   "outputs": [
    {
     "name": "stdout",
     "output_type": "stream",
     "text": [
      "Number of rows in players:  424683\n",
      "Number of unique ids in players:  424683\n",
      "Number of unique ids in purchased:  102548\n"
     ]
    },
    {
     "data": {
      "text/plain": [
       "102548"
      ]
     },
     "execution_count": 43,
     "metadata": {},
     "output_type": "execute_result"
    }
   ],
   "source": [
    "print(\"Number of rows in players: \",len(players) )\n",
    "print(\"Number of unique ids in players: \",players[\"playerid\"].nunique())\n",
    "print(\"Number of unique ids in purchased: \",purchased_games[\"playerid\"].nunique())\n",
    "\n",
    "m = purchased_games[purchased_games['playerid'].isin(players['playerid'])]\n",
    "len(m)"
   ]
  },
  {
   "cell_type": "markdown",
   "id": "136aa455-27a8-4345-94c8-9fb7d2188499",
   "metadata": {},
   "source": [
    "### Preparing for normalisation\n",
    "Below we prepare the data for normalisation in the next notebook by having each row corresponding to one 'player-game' pair."
   ]
  },
  {
   "cell_type": "code",
   "execution_count": 44,
   "id": "af946472-174e-4c62-b21d-e0d809e32f1a",
   "metadata": {},
   "outputs": [],
   "source": [
    "purchased_games_exploded = purchased_games.explode('library')\n",
    "purchased_games_exploded = purchased_games_exploded.rename(columns={'library': 'gameid'})"
   ]
  },
  {
   "cell_type": "code",
   "execution_count": 45,
   "id": "71bc690c-3ce8-42ce-991f-6685bf8838e5",
   "metadata": {},
   "outputs": [
    {
     "data": {
      "text/html": [
       "<div>\n",
       "<style scoped>\n",
       "    .dataframe tbody tr th:only-of-type {\n",
       "        vertical-align: middle;\n",
       "    }\n",
       "\n",
       "    .dataframe tbody tr th {\n",
       "        vertical-align: top;\n",
       "    }\n",
       "\n",
       "    .dataframe thead th {\n",
       "        text-align: right;\n",
       "    }\n",
       "</style>\n",
       "<table border=\"1\" class=\"dataframe\">\n",
       "  <thead>\n",
       "    <tr style=\"text-align: right;\">\n",
       "      <th></th>\n",
       "      <th>playerid</th>\n",
       "      <th>gameid</th>\n",
       "    </tr>\n",
       "  </thead>\n",
       "  <tbody>\n",
       "    <tr>\n",
       "      <th>0</th>\n",
       "      <td>76561198060698936</td>\n",
       "      <td>60</td>\n",
       "    </tr>\n",
       "    <tr>\n",
       "      <th>0</th>\n",
       "      <td>76561198060698936</td>\n",
       "      <td>1670</td>\n",
       "    </tr>\n",
       "    <tr>\n",
       "      <th>0</th>\n",
       "      <td>76561198060698936</td>\n",
       "      <td>3830</td>\n",
       "    </tr>\n",
       "    <tr>\n",
       "      <th>0</th>\n",
       "      <td>76561198060698936</td>\n",
       "      <td>1600</td>\n",
       "    </tr>\n",
       "    <tr>\n",
       "      <th>0</th>\n",
       "      <td>76561198060698936</td>\n",
       "      <td>2900</td>\n",
       "    </tr>\n",
       "  </tbody>\n",
       "</table>\n",
       "</div>"
      ],
      "text/plain": [
       "            playerid gameid\n",
       "0  76561198060698936     60\n",
       "0  76561198060698936   1670\n",
       "0  76561198060698936   3830\n",
       "0  76561198060698936   1600\n",
       "0  76561198060698936   2900"
      ]
     },
     "execution_count": 45,
     "metadata": {},
     "output_type": "execute_result"
    }
   ],
   "source": [
    "purchased_games_exploded.head()"
   ]
  },
  {
   "cell_type": "markdown",
   "id": "85f02911-d8b2-4d96-82dc-c93c14046efb",
   "metadata": {},
   "source": [
    "### Removing rogue games\n",
    "There are about 3818 games that do not appear in the original `games` table (prior to any removals). We remove these games since we have no way of finding out their relevant information."
   ]
  },
  {
   "cell_type": "code",
   "execution_count": 56,
   "id": "e60b1e5d-e06b-4bc2-b6cf-471ce04f4b02",
   "metadata": {},
   "outputs": [
    {
     "name": "stdout",
     "output_type": "stream",
     "text": [
      "Unique games:  98248\n",
      "Not in games dim:  3818\n",
      "Not in orignial games dim:  3818\n"
     ]
    }
   ],
   "source": [
    "uniq_games = set(games['gameid'])\n",
    "uniq_games_df = set(gamesdf['gameid'])\n",
    "uniq_games_purchased = set(purchased_games_exploded['gameid'])\n",
    "games_missing_from_games_dim = uniq_games_purchased - uniq_games\n",
    "games_missing_from_games_dim_og = uniq_games_purchased - uniq_games_df\n",
    "print('Unique games: ', len(uniq_games))\n",
    "print('Not in games dim: ', len(games_missing_from_games_dim))\n",
    "print('Not in originial games dim: ', len(games_missing_from_games_dim_og))"
   ]
  },
  {
   "cell_type": "code",
   "execution_count": 58,
   "id": "4e08fbee-8eb6-4fc3-9df1-ad54d8409abd",
   "metadata": {},
   "outputs": [],
   "source": [
    "#remove games that dont appear in games df\n",
    "purchased_games_exploded = purchased_games_exploded[purchased_games_exploded['gameid'].isin(gamesdf['gameid'])]"
   ]
  },
  {
   "cell_type": "code",
   "execution_count": 61,
   "id": "dae39a7e-80bd-4f0f-af5d-1ba29cbe4269",
   "metadata": {},
   "outputs": [
    {
     "data": {
      "text/plain": [
       "37171"
      ]
     },
     "execution_count": 61,
     "metadata": {},
     "output_type": "execute_result"
    }
   ],
   "source": [
    "purchased_games_exploded['gameid'].nunique()"
   ]
  },
  {
   "cell_type": "markdown",
   "id": "1b0230c4-b1f1-41f6-86e1-f046573a2e6a",
   "metadata": {},
   "source": [
    "### Saving dataframes"
   ]
  },
  {
   "cell_type": "code",
   "execution_count": 429,
   "id": "e769894c-70d5-40cc-941e-bfc650714f95",
   "metadata": {},
   "outputs": [],
   "source": [
    "prices.to_csv('../data_steam/cleaned/prices_cleaned.csv', index=False)\n",
    "games.to_csv('../data_steam/cleaned/games_cleaned.csv', index=False)\n",
    "achievements.to_csv('../data_steam/cleaned/achievements_cleaned.csv', index=False)\n",
    "reviews.to_csv('../data_steam/cleaned/reviews_cleaned.csv', index=False)\n",
    "players.to_csv('../data_steam/cleaned/players_cleaned.csv', index=False)\n",
    "history_clean.to_csv('../data_steam/cleaned/history_cleaned.csv', index=False)\n",
    "purchased_games_exploded.to_csv('../data_steam/cleaned/library_cleaned.csv', index=False)"
   ]
  },
  {
   "cell_type": "markdown",
   "id": "ada84760-beaa-458b-834f-0020fd832a4f",
   "metadata": {},
   "source": [
    "## Summary\n",
    "This is what we have done in this notebok:\n",
    "* Removed irrelevant or inconsistent records, such as playtest games\n",
    "\n",
    "* Handled missing values appropriately across all key fields, with one exception\n",
    "\n",
    "* Converted stringified lists (e.g., developers, genres) into actual Python lists for later normalisation\n",
    "\n",
    "* Ensured data consistency across tables (e.g., all references to gameid are valid and aligned)\n",
    "\n",
    "Next step is performing data normalisation to get the tables ready for Power BI."
   ]
  }
 ],
 "metadata": {
  "kernelspec": {
   "display_name": "Python 3 (ipykernel)",
   "language": "python",
   "name": "python3"
  },
  "language_info": {
   "codemirror_mode": {
    "name": "ipython",
    "version": 3
   },
   "file_extension": ".py",
   "mimetype": "text/x-python",
   "name": "python",
   "nbconvert_exporter": "python",
   "pygments_lexer": "ipython3",
   "version": "3.12.9"
  }
 },
 "nbformat": 4,
 "nbformat_minor": 5
}
